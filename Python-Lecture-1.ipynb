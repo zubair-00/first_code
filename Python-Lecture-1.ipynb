{
 "cells": [
  {
   "cell_type": "markdown",
   "id": "97478e8e",
   "metadata": {},
   "source": [
    "# Data Types\n",
    "1. `int`\n",
    "2. `float`\n",
    "3. `char`\n",
    "4. `string` (Collection of characters)\n",
    "5. `bool`"
   ]
  },
  {
   "cell_type": "code",
   "execution_count": 2,
   "id": "68038d18",
   "metadata": {
    "ExecuteTime": {
     "end_time": "2022-06-22T12:49:02.579139Z",
     "start_time": "2022-06-22T12:49:02.552996Z"
    }
   },
   "outputs": [
    {
     "name": "stdout",
     "output_type": "stream",
     "text": [
      "Hello, Worl\n"
     ]
    }
   ],
   "source": [
    "print(\"Hello, Worl\")"
   ]
  },
  {
   "cell_type": "code",
   "execution_count": 2,
   "id": "1ac32fd8",
   "metadata": {
    "ExecuteTime": {
     "end_time": "2022-06-22T12:49:02.626037Z",
     "start_time": "2022-06-22T12:49:02.582995Z"
    }
   },
   "outputs": [
    {
     "name": "stdout",
     "output_type": "stream",
     "text": [
      "2 3.2 2 Zafar D\n",
      "<class 'int'> <class 'float'> <class 'int'> <class 'str'> <class 'str'>\n"
     ]
    },
    {
     "data": {
      "text/plain": [
       "2"
      ]
     },
     "execution_count": 2,
     "metadata": {},
     "output_type": "execute_result"
    }
   ],
   "source": [
    "a = 2\n",
    "b = 3.2\n",
    "A = 2\n",
    "str1 = \"Zafar\"\n",
    "c = 'D'\n",
    "print(a, b, A, str1, c)\n",
    "print(type(a), type(b), type(A), type(str1), type(c))\n",
    "a"
   ]
  },
  {
   "cell_type": "code",
   "execution_count": 3,
   "id": "1200d2cb",
   "metadata": {
    "ExecuteTime": {
     "end_time": "2022-06-22T12:49:02.641230Z",
     "start_time": "2022-06-22T12:49:02.629521Z"
    }
   },
   "outputs": [
    {
     "name": "stdout",
     "output_type": "stream",
     "text": [
      "3.2 2\n"
     ]
    }
   ],
   "source": [
    "b, a = a, b\n",
    "print(a, b)"
   ]
  },
  {
   "cell_type": "markdown",
   "id": "274c8088",
   "metadata": {},
   "source": [
    "## Rules for naming Variables\n",
    "1. A variable can have a short name like `x` & `y` or more descriptive names like `TotalVolume` , `car_name`.\n",
    "2. Must start with a letter or the `_` underscore character\n",
    "3. Cannot start with a number\n",
    "4. Can only contain capital letters, small letters, numbers & underscores\n",
    "5. All variables are **CASE-SENSITIVE** (`AGE` & `age` are not the same variables.)"
   ]
  },
  {
   "cell_type": "code",
   "execution_count": 4,
   "id": "37dcbabe",
   "metadata": {
    "ExecuteTime": {
     "end_time": "2022-06-22T12:49:02.656994Z",
     "start_time": "2022-06-22T12:49:02.646057Z"
    }
   },
   "outputs": [
    {
     "ename": "SyntaxError",
     "evalue": "invalid syntax (88603754.py, line 3)",
     "output_type": "error",
     "traceback": [
      "\u001b[1;36m  File \u001b[1;32m\"C:\\Users\\zohai\\AppData\\Local\\Temp\\ipykernel_59620\\88603754.py\"\u001b[1;36m, line \u001b[1;32m3\u001b[0m\n\u001b[1;33m    2my_var = \"John\"\u001b[0m\n\u001b[1;37m          ^\u001b[0m\n\u001b[1;31mSyntaxError\u001b[0m\u001b[1;31m:\u001b[0m invalid syntax\n"
     ]
    }
   ],
   "source": [
    "# Illegal Variables\n",
    "\n",
    "2my_var = \"John\"\n",
    "my-var = \"john\"\n",
    "my var = 123"
   ]
  },
  {
   "cell_type": "code",
   "execution_count": null,
   "id": "8659328e",
   "metadata": {
    "ExecuteTime": {
     "end_time": "2022-06-22T12:49:02.661995Z",
     "start_time": "2022-06-22T12:49:02.661995Z"
    }
   },
   "outputs": [],
   "source": [
    "# Defining multiple variables in the same line\n",
    "x, y, z = 2, 2.2, \"a\"\n",
    "print(x, y, z)\n",
    "\n",
    "a = b = c = 1\n",
    "print(a, b, c)"
   ]
  },
  {
   "cell_type": "code",
   "execution_count": null,
   "id": "208ab350",
   "metadata": {
    "ExecuteTime": {
     "end_time": "2022-06-22T12:49:02.672123Z",
     "start_time": "2022-06-22T12:49:02.672123Z"
    }
   },
   "outputs": [],
   "source": [
    "# Scientific Notation\n",
    "variable1 = 13e10\n",
    "variable2 = 12e-2\n",
    "print(variable1, \",\" ,variable2, type(variable1))"
   ]
  },
  {
   "cell_type": "code",
   "execution_count": null,
   "id": "9c571b38",
   "metadata": {
    "ExecuteTime": {
     "end_time": "2022-06-22T12:49:02.680995Z",
     "start_time": "2022-06-22T12:49:02.680995Z"
    }
   },
   "outputs": [],
   "source": [
    "# Explicit Typecasting\n",
    "var1 = 2.2\n",
    "var2 = 3\n",
    "var3 = \"123\"\n",
    "\n",
    "var4 = int(var3)\n",
    "var5 = int(var1)\n",
    "\n",
    "var6 = float(var2)\n",
    "var7 = str(var1)\n",
    "\n",
    "var8 = int(2.2)\n",
    "\n",
    "print(var4, var5, var6, var7, var8)"
   ]
  },
  {
   "cell_type": "markdown",
   "id": "26fbb9cf",
   "metadata": {},
   "source": [
    "## Playing with Strings\n",
    "* Strings are iterable.\n",
    "* Every character has an index number."
   ]
  },
  {
   "cell_type": "code",
   "execution_count": 5,
   "id": "207fd893",
   "metadata": {
    "ExecuteTime": {
     "end_time": "2022-06-22T12:49:02.813996Z",
     "start_time": "2022-06-22T12:49:02.791994Z"
    }
   },
   "outputs": [
    {
     "name": "stdout",
     "output_type": "stream",
     "text": [
      "Zohaib Shahid\n"
     ]
    }
   ],
   "source": [
    "print(\"Zohaib Shahid\")"
   ]
  },
  {
   "cell_type": "code",
   "execution_count": 6,
   "id": "3d05e36d",
   "metadata": {
    "ExecuteTime": {
     "end_time": "2022-06-22T12:49:02.844996Z",
     "start_time": "2022-06-22T12:49:02.820996Z"
    }
   },
   "outputs": [
    {
     "name": "stdout",
     "output_type": "stream",
     "text": [
      "Aahad Ali\n",
      "Zohaib's class\n"
     ]
    },
    {
     "data": {
      "text/plain": [
       "'Hello!'"
      ]
     },
     "execution_count": 6,
     "metadata": {},
     "output_type": "execute_result"
    }
   ],
   "source": [
    "my_name = \"Aahad Ali\"\n",
    "name2 = \"Zohaib's class\"\n",
    "greeting = \"Hello!\"\n",
    "\n",
    "print(my_name)\n",
    "print(name2)\n",
    "greeting"
   ]
  },
  {
   "cell_type": "code",
   "execution_count": 7,
   "id": "5493b0c4",
   "metadata": {
    "ExecuteTime": {
     "end_time": "2022-06-22T12:49:02.876149Z",
     "start_time": "2022-06-22T12:49:02.852006Z"
    }
   },
   "outputs": [
    {
     "name": "stdout",
     "output_type": "stream",
     "text": [
      "!\n"
     ]
    },
    {
     "data": {
      "text/plain": [
       "' '"
      ]
     },
     "execution_count": 7,
     "metadata": {},
     "output_type": "execute_result"
    }
   ],
   "source": [
    "print(greeting[5])\n",
    "name2[8]"
   ]
  },
  {
   "cell_type": "code",
   "execution_count": 8,
   "id": "6d76f064",
   "metadata": {
    "ExecuteTime": {
     "end_time": "2022-06-22T12:49:02.907999Z",
     "start_time": "2022-06-22T12:49:02.884006Z"
    }
   },
   "outputs": [
    {
     "data": {
      "text/plain": [
       "'Abdur Rehman Zafar'"
      ]
     },
     "execution_count": 8,
     "metadata": {},
     "output_type": "execute_result"
    }
   ],
   "source": [
    "# Concatenation of strings\n",
    "first_name = \"Abdur Rehman\"\n",
    "second_name = \"Zafar\"\n",
    "space = \" \"\n",
    "first_name + space + second_name"
   ]
  },
  {
   "cell_type": "code",
   "execution_count": 9,
   "id": "3ef59f26",
   "metadata": {
    "ExecuteTime": {
     "end_time": "2022-06-22T12:49:02.924142Z",
     "start_time": "2022-06-22T12:49:02.913104Z"
    }
   },
   "outputs": [
    {
     "name": "stdout",
     "output_type": "stream",
     "text": [
      "Zohaib is 30 years old.\n"
     ]
    }
   ],
   "source": [
    "age = 30\n",
    "z_age = \"Zohaib is {} years old.\"\n",
    "\n",
    "print(\"Zohaib is {} years old.\".format(age))"
   ]
  },
  {
   "cell_type": "code",
   "execution_count": 10,
   "id": "3d179521",
   "metadata": {
    "ExecuteTime": {
     "end_time": "2022-06-22T12:49:02.939053Z",
     "start_time": "2022-06-22T12:49:02.929999Z"
    }
   },
   "outputs": [],
   "source": [
    "# Escape characters (\\n, \\t, \\\", \\')\n",
    "\n",
    "txt = \"We are \\n \\\"Data Shayta\\\". \""
   ]
  },
  {
   "cell_type": "code",
   "execution_count": 11,
   "id": "f1927d99",
   "metadata": {
    "ExecuteTime": {
     "end_time": "2022-06-22T12:49:02.970994Z",
     "start_time": "2022-06-22T12:49:02.943965Z"
    }
   },
   "outputs": [
    {
     "name": "stdout",
     "output_type": "stream",
     "text": [
      "We are \n",
      " \"Data Shayta\". \n"
     ]
    }
   ],
   "source": [
    "print(txt)"
   ]
  },
  {
   "cell_type": "code",
   "execution_count": 12,
   "id": "b1d5a6cd",
   "metadata": {
    "ExecuteTime": {
     "end_time": "2022-06-22T12:49:03.002112Z",
     "start_time": "2022-06-22T12:49:02.976950Z"
    }
   },
   "outputs": [
    {
     "name": "stdout",
     "output_type": "stream",
     "text": [
      "'Aahad' \t Usman\n"
     ]
    }
   ],
   "source": [
    "print(\"\\'Aahad\\' \\t Usman\")"
   ]
  },
  {
   "cell_type": "code",
   "execution_count": 13,
   "id": "07626103",
   "metadata": {
    "ExecuteTime": {
     "end_time": "2022-06-22T12:49:03.033661Z",
     "start_time": "2022-06-22T12:49:03.009000Z"
    }
   },
   "outputs": [
    {
     "name": "stdout",
     "output_type": "stream",
     "text": [
      "WE ARE \n",
      " \"DATA SHAYTA\". \n"
     ]
    }
   ],
   "source": [
    "print(txt.upper())"
   ]
  },
  {
   "cell_type": "code",
   "execution_count": 14,
   "id": "3225ffc2",
   "metadata": {
    "ExecuteTime": {
     "end_time": "2022-06-22T12:49:03.065044Z",
     "start_time": "2022-06-22T12:49:03.043044Z"
    }
   },
   "outputs": [
    {
     "name": "stdout",
     "output_type": "stream",
     "text": [
      "we are \n",
      " \"data shayta\". \n"
     ]
    }
   ],
   "source": [
    "print(txt.lower())"
   ]
  },
  {
   "cell_type": "code",
   "execution_count": 15,
   "id": "249cbed6",
   "metadata": {
    "ExecuteTime": {
     "end_time": "2022-06-22T12:49:03.080998Z",
     "start_time": "2022-06-22T12:49:03.071008Z"
    }
   },
   "outputs": [
    {
     "name": "stdout",
     "output_type": "stream",
     "text": [
      "Faisal Iqbal\n"
     ]
    }
   ],
   "source": [
    "print(\"faisal iqbal\".title())"
   ]
  },
  {
   "cell_type": "code",
   "execution_count": 16,
   "id": "e9a47731",
   "metadata": {
    "ExecuteTime": {
     "end_time": "2022-06-22T12:49:03.112053Z",
     "start_time": "2022-06-22T12:49:03.088028Z"
    }
   },
   "outputs": [
    {
     "name": "stdout",
     "output_type": "stream",
     "text": [
      "Some text here\n",
      "Now we are on the next line.\n",
      "Here we are, on the last line. <class 'str'>\n"
     ]
    }
   ],
   "source": [
    "txt2 = \"\"\"Some text here\n",
    "Now we are on the next line.\n",
    "Here we are, on the last line.\"\"\"\n",
    "print(txt2, type(txt2))"
   ]
  },
  {
   "cell_type": "code",
   "execution_count": 36,
   "id": "f1a71ac6",
   "metadata": {
    "ExecuteTime": {
     "end_time": "2022-06-22T12:50:34.165748Z",
     "start_time": "2022-06-22T12:50:34.151777Z"
    }
   },
   "outputs": [
    {
     "ename": "SyntaxError",
     "evalue": "EOL while scanning string literal (388212200.py, line 1)",
     "output_type": "error",
     "traceback": [
      "\u001b[1;36m  File \u001b[1;32m\"C:\\Users\\zohai\\AppData\\Local\\Temp\\ipykernel_59620\\388212200.py\"\u001b[1;36m, line \u001b[1;32m1\u001b[0m\n\u001b[1;33m    txt2 = \"Some text here \\n\u001b[0m\n\u001b[1;37m                             ^\u001b[0m\n\u001b[1;31mSyntaxError\u001b[0m\u001b[1;31m:\u001b[0m EOL while scanning string literal\n"
     ]
    }
   ],
   "source": [
    "txt2 = \"Some text here \\n\n",
    "Now we are on the next line.\n",
    "Here we are, on the last line.\"\n",
    "print(txt2, type(txt2))"
   ]
  },
  {
   "cell_type": "code",
   "execution_count": null,
   "id": "e205e024",
   "metadata": {
    "ExecuteTime": {
     "end_time": "2022-06-22T12:50:34.170749Z",
     "start_time": "2022-06-22T12:50:34.170749Z"
    }
   },
   "outputs": [],
   "source": [
    "print(\"i am a lion\".count('i '))"
   ]
  },
  {
   "cell_type": "code",
   "execution_count": null,
   "id": "fe33891f",
   "metadata": {
    "ExecuteTime": {
     "end_time": "2022-06-22T12:50:34.175738Z",
     "start_time": "2022-06-22T12:50:34.174742Z"
    }
   },
   "outputs": [],
   "source": [
    "print(\"i am a lion\".find('a'))"
   ]
  },
  {
   "cell_type": "code",
   "execution_count": null,
   "id": "81dcba29",
   "metadata": {
    "ExecuteTime": {
     "end_time": "2022-06-22T12:50:34.178879Z",
     "start_time": "2022-06-22T12:50:34.178879Z"
    }
   },
   "outputs": [],
   "source": [
    "help(str.find)"
   ]
  },
  {
   "cell_type": "code",
   "execution_count": null,
   "id": "4dfda730",
   "metadata": {
    "ExecuteTime": {
     "end_time": "2022-06-22T12:50:34.184749Z",
     "start_time": "2022-06-22T12:50:34.184749Z"
    }
   },
   "outputs": [],
   "source": [
    "print(\"you are very cute\".find('e',8,11))"
   ]
  },
  {
   "cell_type": "code",
   "execution_count": null,
   "id": "f5c84e2b",
   "metadata": {
    "ExecuteTime": {
     "end_time": "2022-06-22T12:50:34.188747Z",
     "start_time": "2022-06-22T12:50:34.188747Z"
    }
   },
   "outputs": [],
   "source": [
    "len(\"you are very cute\")"
   ]
  },
  {
   "cell_type": "code",
   "execution_count": null,
   "id": "2c4891ed",
   "metadata": {
    "ExecuteTime": {
     "end_time": "2022-06-22T12:50:34.192974Z",
     "start_time": "2022-06-22T12:50:34.192974Z"
    }
   },
   "outputs": [],
   "source": [
    "print(\"you are very cute\".find('cute'))"
   ]
  },
  {
   "cell_type": "code",
   "execution_count": 37,
   "id": "e407f19a",
   "metadata": {
    "ExecuteTime": {
     "end_time": "2022-06-22T12:50:34.213779Z",
     "start_time": "2022-06-22T12:50:34.196717Z"
    }
   },
   "outputs": [
    {
     "data": {
      "text/plain": [
       "'cute'"
      ]
     },
     "execution_count": 37,
     "metadata": {},
     "output_type": "execute_result"
    }
   ],
   "source": [
    "\"you are very cute\"[13:17]"
   ]
  },
  {
   "cell_type": "code",
   "execution_count": 38,
   "id": "4897db55",
   "metadata": {
    "ExecuteTime": {
     "end_time": "2022-06-22T12:50:34.244881Z",
     "start_time": "2022-06-22T12:50:34.218360Z"
    }
   },
   "outputs": [
    {
     "data": {
      "text/plain": [
       "'cute'"
      ]
     },
     "execution_count": 38,
     "metadata": {},
     "output_type": "execute_result"
    }
   ],
   "source": [
    "\"you are very cute\"[\"you are very cute\".find('cute'):len(\"you are very cute\")]"
   ]
  },
  {
   "cell_type": "code",
   "execution_count": 39,
   "id": "69a08659",
   "metadata": {
    "ExecuteTime": {
     "end_time": "2022-06-22T12:50:34.260749Z",
     "start_time": "2022-06-22T12:50:34.250781Z"
    }
   },
   "outputs": [
    {
     "name": "stdout",
     "output_type": "stream",
     "text": [
      "i am very cute\n"
     ]
    }
   ],
   "source": [
    "str1 = \"i am very cute\"\n",
    "print(str1)"
   ]
  },
  {
   "cell_type": "code",
   "execution_count": 40,
   "id": "398c2ee6",
   "metadata": {
    "ExecuteTime": {
     "end_time": "2022-06-22T12:50:34.291738Z",
     "start_time": "2022-06-22T12:50:34.266751Z"
    }
   },
   "outputs": [
    {
     "data": {
      "text/plain": [
       "'e'"
      ]
     },
     "execution_count": 40,
     "metadata": {},
     "output_type": "execute_result"
    }
   ],
   "source": [
    "str1[13:17] #never hard code"
   ]
  },
  {
   "cell_type": "code",
   "execution_count": 41,
   "id": "e18562df",
   "metadata": {
    "ExecuteTime": {
     "end_time": "2022-06-22T12:50:34.307184Z",
     "start_time": "2022-06-22T12:50:34.295739Z"
    }
   },
   "outputs": [
    {
     "data": {
      "text/plain": [
       "'cute'"
      ]
     },
     "execution_count": 41,
     "metadata": {},
     "output_type": "execute_result"
    }
   ],
   "source": [
    "str1[str1.find('cute'):len(str1)]"
   ]
  },
  {
   "cell_type": "code",
   "execution_count": 42,
   "id": "76c1c50b",
   "metadata": {
    "ExecuteTime": {
     "end_time": "2022-06-22T12:50:34.322736Z",
     "start_time": "2022-06-22T12:50:34.311738Z"
    }
   },
   "outputs": [
    {
     "data": {
      "text/plain": [
       "'very'"
      ]
     },
     "execution_count": 42,
     "metadata": {},
     "output_type": "execute_result"
    }
   ],
   "source": [
    "str1[str1.find('very'):str1.find(' cute')]"
   ]
  },
  {
   "cell_type": "code",
   "execution_count": 43,
   "id": "03ae6ac0",
   "metadata": {
    "ExecuteTime": {
     "end_time": "2022-06-22T12:50:34.338778Z",
     "start_time": "2022-06-22T12:50:34.326737Z"
    }
   },
   "outputs": [
    {
     "data": {
      "text/plain": [
       "10"
      ]
     },
     "execution_count": 43,
     "metadata": {},
     "output_type": "execute_result"
    }
   ],
   "source": [
    "str1.find('cute')"
   ]
  },
  {
   "cell_type": "code",
   "execution_count": 44,
   "id": "cf8f0c95",
   "metadata": {
    "ExecuteTime": {
     "end_time": "2022-06-22T12:50:34.369740Z",
     "start_time": "2022-06-22T12:50:34.344744Z"
    }
   },
   "outputs": [
    {
     "data": {
      "text/plain": [
       "'03009203249'"
      ]
     },
     "execution_count": 44,
     "metadata": {},
     "output_type": "execute_result"
    }
   ],
   "source": [
    "'0300 92 032 49'.replace(' ', '')"
   ]
  },
  {
   "cell_type": "code",
   "execution_count": 45,
   "id": "7da7751c",
   "metadata": {
    "ExecuteTime": {
     "end_time": "2022-06-22T12:50:34.401746Z",
     "start_time": "2022-06-22T12:50:34.375746Z"
    }
   },
   "outputs": [
    {
     "data": {
      "text/plain": [
       "'03009203249'"
      ]
     },
     "execution_count": 45,
     "metadata": {},
     "output_type": "execute_result"
    }
   ],
   "source": [
    "'0300-92-032-49'.replace('-', '')"
   ]
  },
  {
   "cell_type": "code",
   "execution_count": 46,
   "id": "7c60972f",
   "metadata": {
    "ExecuteTime": {
     "end_time": "2022-06-22T12:50:34.464867Z",
     "start_time": "2022-06-22T12:50:34.407739Z"
    },
    "scrolled": true
   },
   "outputs": [
    {
     "name": "stdout",
     "output_type": "stream",
     "text": [
      "Help on class str in module builtins:\n",
      "\n",
      "class str(object)\n",
      " |  str(object='') -> str\n",
      " |  str(bytes_or_buffer[, encoding[, errors]]) -> str\n",
      " |  \n",
      " |  Create a new string object from the given object. If encoding or\n",
      " |  errors is specified, then the object must expose a data buffer\n",
      " |  that will be decoded using the given encoding and error handler.\n",
      " |  Otherwise, returns the result of object.__str__() (if defined)\n",
      " |  or repr(object).\n",
      " |  encoding defaults to sys.getdefaultencoding().\n",
      " |  errors defaults to 'strict'.\n",
      " |  \n",
      " |  Methods defined here:\n",
      " |  \n",
      " |  __add__(self, value, /)\n",
      " |      Return self+value.\n",
      " |  \n",
      " |  __contains__(self, key, /)\n",
      " |      Return key in self.\n",
      " |  \n",
      " |  __eq__(self, value, /)\n",
      " |      Return self==value.\n",
      " |  \n",
      " |  __format__(self, format_spec, /)\n",
      " |      Return a formatted version of the string as described by format_spec.\n",
      " |  \n",
      " |  __ge__(self, value, /)\n",
      " |      Return self>=value.\n",
      " |  \n",
      " |  __getattribute__(self, name, /)\n",
      " |      Return getattr(self, name).\n",
      " |  \n",
      " |  __getitem__(self, key, /)\n",
      " |      Return self[key].\n",
      " |  \n",
      " |  __getnewargs__(...)\n",
      " |  \n",
      " |  __gt__(self, value, /)\n",
      " |      Return self>value.\n",
      " |  \n",
      " |  __hash__(self, /)\n",
      " |      Return hash(self).\n",
      " |  \n",
      " |  __iter__(self, /)\n",
      " |      Implement iter(self).\n",
      " |  \n",
      " |  __le__(self, value, /)\n",
      " |      Return self<=value.\n",
      " |  \n",
      " |  __len__(self, /)\n",
      " |      Return len(self).\n",
      " |  \n",
      " |  __lt__(self, value, /)\n",
      " |      Return self<value.\n",
      " |  \n",
      " |  __mod__(self, value, /)\n",
      " |      Return self%value.\n",
      " |  \n",
      " |  __mul__(self, value, /)\n",
      " |      Return self*value.\n",
      " |  \n",
      " |  __ne__(self, value, /)\n",
      " |      Return self!=value.\n",
      " |  \n",
      " |  __repr__(self, /)\n",
      " |      Return repr(self).\n",
      " |  \n",
      " |  __rmod__(self, value, /)\n",
      " |      Return value%self.\n",
      " |  \n",
      " |  __rmul__(self, value, /)\n",
      " |      Return value*self.\n",
      " |  \n",
      " |  __sizeof__(self, /)\n",
      " |      Return the size of the string in memory, in bytes.\n",
      " |  \n",
      " |  __str__(self, /)\n",
      " |      Return str(self).\n",
      " |  \n",
      " |  capitalize(self, /)\n",
      " |      Return a capitalized version of the string.\n",
      " |      \n",
      " |      More specifically, make the first character have upper case and the rest lower\n",
      " |      case.\n",
      " |  \n",
      " |  casefold(self, /)\n",
      " |      Return a version of the string suitable for caseless comparisons.\n",
      " |  \n",
      " |  center(self, width, fillchar=' ', /)\n",
      " |      Return a centered string of length width.\n",
      " |      \n",
      " |      Padding is done using the specified fill character (default is a space).\n",
      " |  \n",
      " |  count(...)\n",
      " |      S.count(sub[, start[, end]]) -> int\n",
      " |      \n",
      " |      Return the number of non-overlapping occurrences of substring sub in\n",
      " |      string S[start:end].  Optional arguments start and end are\n",
      " |      interpreted as in slice notation.\n",
      " |  \n",
      " |  encode(self, /, encoding='utf-8', errors='strict')\n",
      " |      Encode the string using the codec registered for encoding.\n",
      " |      \n",
      " |      encoding\n",
      " |        The encoding in which to encode the string.\n",
      " |      errors\n",
      " |        The error handling scheme to use for encoding errors.\n",
      " |        The default is 'strict' meaning that encoding errors raise a\n",
      " |        UnicodeEncodeError.  Other possible values are 'ignore', 'replace' and\n",
      " |        'xmlcharrefreplace' as well as any other name registered with\n",
      " |        codecs.register_error that can handle UnicodeEncodeErrors.\n",
      " |  \n",
      " |  endswith(...)\n",
      " |      S.endswith(suffix[, start[, end]]) -> bool\n",
      " |      \n",
      " |      Return True if S ends with the specified suffix, False otherwise.\n",
      " |      With optional start, test S beginning at that position.\n",
      " |      With optional end, stop comparing S at that position.\n",
      " |      suffix can also be a tuple of strings to try.\n",
      " |  \n",
      " |  expandtabs(self, /, tabsize=8)\n",
      " |      Return a copy where all tab characters are expanded using spaces.\n",
      " |      \n",
      " |      If tabsize is not given, a tab size of 8 characters is assumed.\n",
      " |  \n",
      " |  find(...)\n",
      " |      S.find(sub[, start[, end]]) -> int\n",
      " |      \n",
      " |      Return the lowest index in S where substring sub is found,\n",
      " |      such that sub is contained within S[start:end].  Optional\n",
      " |      arguments start and end are interpreted as in slice notation.\n",
      " |      \n",
      " |      Return -1 on failure.\n",
      " |  \n",
      " |  format(...)\n",
      " |      S.format(*args, **kwargs) -> str\n",
      " |      \n",
      " |      Return a formatted version of S, using substitutions from args and kwargs.\n",
      " |      The substitutions are identified by braces ('{' and '}').\n",
      " |  \n",
      " |  format_map(...)\n",
      " |      S.format_map(mapping) -> str\n",
      " |      \n",
      " |      Return a formatted version of S, using substitutions from mapping.\n",
      " |      The substitutions are identified by braces ('{' and '}').\n",
      " |  \n",
      " |  index(...)\n",
      " |      S.index(sub[, start[, end]]) -> int\n",
      " |      \n",
      " |      Return the lowest index in S where substring sub is found, \n",
      " |      such that sub is contained within S[start:end].  Optional\n",
      " |      arguments start and end are interpreted as in slice notation.\n",
      " |      \n",
      " |      Raises ValueError when the substring is not found.\n",
      " |  \n",
      " |  isalnum(self, /)\n",
      " |      Return True if the string is an alpha-numeric string, False otherwise.\n",
      " |      \n",
      " |      A string is alpha-numeric if all characters in the string are alpha-numeric and\n",
      " |      there is at least one character in the string.\n",
      " |  \n",
      " |  isalpha(self, /)\n",
      " |      Return True if the string is an alphabetic string, False otherwise.\n",
      " |      \n",
      " |      A string is alphabetic if all characters in the string are alphabetic and there\n",
      " |      is at least one character in the string.\n",
      " |  \n",
      " |  isascii(self, /)\n",
      " |      Return True if all characters in the string are ASCII, False otherwise.\n",
      " |      \n",
      " |      ASCII characters have code points in the range U+0000-U+007F.\n",
      " |      Empty string is ASCII too.\n",
      " |  \n",
      " |  isdecimal(self, /)\n",
      " |      Return True if the string is a decimal string, False otherwise.\n",
      " |      \n",
      " |      A string is a decimal string if all characters in the string are decimal and\n",
      " |      there is at least one character in the string.\n",
      " |  \n",
      " |  isdigit(self, /)\n",
      " |      Return True if the string is a digit string, False otherwise.\n",
      " |      \n",
      " |      A string is a digit string if all characters in the string are digits and there\n",
      " |      is at least one character in the string.\n",
      " |  \n",
      " |  isidentifier(self, /)\n",
      " |      Return True if the string is a valid Python identifier, False otherwise.\n",
      " |      \n",
      " |      Use keyword.iskeyword() to test for reserved identifiers such as \"def\" and\n",
      " |      \"class\".\n",
      " |  \n",
      " |  islower(self, /)\n",
      " |      Return True if the string is a lowercase string, False otherwise.\n",
      " |      \n",
      " |      A string is lowercase if all cased characters in the string are lowercase and\n",
      " |      there is at least one cased character in the string.\n",
      " |  \n",
      " |  isnumeric(self, /)\n",
      " |      Return True if the string is a numeric string, False otherwise.\n",
      " |      \n",
      " |      A string is numeric if all characters in the string are numeric and there is at\n",
      " |      least one character in the string.\n",
      " |  \n",
      " |  isprintable(self, /)\n",
      " |      Return True if the string is printable, False otherwise.\n",
      " |      \n",
      " |      A string is printable if all of its characters are considered printable in\n",
      " |      repr() or if it is empty.\n",
      " |  \n",
      " |  isspace(self, /)\n",
      " |      Return True if the string is a whitespace string, False otherwise.\n",
      " |      \n",
      " |      A string is whitespace if all characters in the string are whitespace and there\n",
      " |      is at least one character in the string.\n",
      " |  \n",
      " |  istitle(self, /)\n",
      " |      Return True if the string is a title-cased string, False otherwise.\n",
      " |      \n",
      " |      In a title-cased string, upper- and title-case characters may only\n",
      " |      follow uncased characters and lowercase characters only cased ones.\n",
      " |  \n",
      " |  isupper(self, /)\n",
      " |      Return True if the string is an uppercase string, False otherwise.\n",
      " |      \n",
      " |      A string is uppercase if all cased characters in the string are uppercase and\n",
      " |      there is at least one cased character in the string.\n",
      " |  \n",
      " |  join(self, iterable, /)\n",
      " |      Concatenate any number of strings.\n",
      " |      \n",
      " |      The string whose method is called is inserted in between each given string.\n",
      " |      The result is returned as a new string.\n",
      " |      \n",
      " |      Example: '.'.join(['ab', 'pq', 'rs']) -> 'ab.pq.rs'\n",
      " |  \n",
      " |  ljust(self, width, fillchar=' ', /)\n",
      " |      Return a left-justified string of length width.\n",
      " |      \n",
      " |      Padding is done using the specified fill character (default is a space).\n",
      " |  \n",
      " |  lower(self, /)\n",
      " |      Return a copy of the string converted to lowercase.\n",
      " |  \n",
      " |  lstrip(self, chars=None, /)\n",
      " |      Return a copy of the string with leading whitespace removed.\n",
      " |      \n",
      " |      If chars is given and not None, remove characters in chars instead.\n",
      " |  \n",
      " |  partition(self, sep, /)\n",
      " |      Partition the string into three parts using the given separator.\n",
      " |      \n",
      " |      This will search for the separator in the string.  If the separator is found,\n",
      " |      returns a 3-tuple containing the part before the separator, the separator\n",
      " |      itself, and the part after it.\n",
      " |      \n",
      " |      If the separator is not found, returns a 3-tuple containing the original string\n",
      " |      and two empty strings.\n",
      " |  \n",
      " |  replace(self, old, new, count=-1, /)\n",
      " |      Return a copy with all occurrences of substring old replaced by new.\n",
      " |      \n",
      " |        count\n",
      " |          Maximum number of occurrences to replace.\n",
      " |          -1 (the default value) means replace all occurrences.\n",
      " |      \n",
      " |      If the optional argument count is given, only the first count occurrences are\n",
      " |      replaced.\n",
      " |  \n",
      " |  rfind(...)\n",
      " |      S.rfind(sub[, start[, end]]) -> int\n",
      " |      \n",
      " |      Return the highest index in S where substring sub is found,\n",
      " |      such that sub is contained within S[start:end].  Optional\n",
      " |      arguments start and end are interpreted as in slice notation.\n",
      " |      \n",
      " |      Return -1 on failure.\n",
      " |  \n",
      " |  rindex(...)\n",
      " |      S.rindex(sub[, start[, end]]) -> int\n",
      " |      \n",
      " |      Return the highest index in S where substring sub is found,\n",
      " |      such that sub is contained within S[start:end].  Optional\n",
      " |      arguments start and end are interpreted as in slice notation.\n",
      " |      \n",
      " |      Raises ValueError when the substring is not found.\n",
      " |  \n",
      " |  rjust(self, width, fillchar=' ', /)\n",
      " |      Return a right-justified string of length width.\n",
      " |      \n",
      " |      Padding is done using the specified fill character (default is a space).\n",
      " |  \n",
      " |  rpartition(self, sep, /)\n",
      " |      Partition the string into three parts using the given separator.\n",
      " |      \n",
      " |      This will search for the separator in the string, starting at the end. If\n",
      " |      the separator is found, returns a 3-tuple containing the part before the\n",
      " |      separator, the separator itself, and the part after it.\n",
      " |      \n",
      " |      If the separator is not found, returns a 3-tuple containing two empty strings\n",
      " |      and the original string.\n",
      " |  \n",
      " |  rsplit(self, /, sep=None, maxsplit=-1)\n",
      " |      Return a list of the words in the string, using sep as the delimiter string.\n",
      " |      \n",
      " |        sep\n",
      " |          The delimiter according which to split the string.\n",
      " |          None (the default value) means split according to any whitespace,\n",
      " |          and discard empty strings from the result.\n",
      " |        maxsplit\n",
      " |          Maximum number of splits to do.\n",
      " |          -1 (the default value) means no limit.\n",
      " |      \n",
      " |      Splits are done starting at the end of the string and working to the front.\n",
      " |  \n",
      " |  rstrip(self, chars=None, /)\n",
      " |      Return a copy of the string with trailing whitespace removed.\n",
      " |      \n",
      " |      If chars is given and not None, remove characters in chars instead.\n",
      " |  \n",
      " |  split(self, /, sep=None, maxsplit=-1)\n",
      " |      Return a list of the words in the string, using sep as the delimiter string.\n",
      " |      \n",
      " |      sep\n",
      " |        The delimiter according which to split the string.\n",
      " |        None (the default value) means split according to any whitespace,\n",
      " |        and discard empty strings from the result.\n",
      " |      maxsplit\n",
      " |        Maximum number of splits to do.\n",
      " |        -1 (the default value) means no limit.\n",
      " |  \n",
      " |  splitlines(self, /, keepends=False)\n",
      " |      Return a list of the lines in the string, breaking at line boundaries.\n",
      " |      \n",
      " |      Line breaks are not included in the resulting list unless keepends is given and\n",
      " |      true.\n",
      " |  \n",
      " |  startswith(...)\n",
      " |      S.startswith(prefix[, start[, end]]) -> bool\n",
      " |      \n",
      " |      Return True if S starts with the specified prefix, False otherwise.\n",
      " |      With optional start, test S beginning at that position.\n",
      " |      With optional end, stop comparing S at that position.\n",
      " |      prefix can also be a tuple of strings to try.\n",
      " |  \n",
      " |  strip(self, chars=None, /)\n",
      " |      Return a copy of the string with leading and trailing whitespace removed.\n",
      " |      \n",
      " |      If chars is given and not None, remove characters in chars instead.\n",
      " |  \n",
      " |  swapcase(self, /)\n",
      " |      Convert uppercase characters to lowercase and lowercase characters to uppercase.\n",
      " |  \n",
      " |  title(self, /)\n",
      " |      Return a version of the string where each word is titlecased.\n",
      " |      \n",
      " |      More specifically, words start with uppercased characters and all remaining\n",
      " |      cased characters have lower case.\n",
      " |  \n",
      " |  translate(self, table, /)\n",
      " |      Replace each character in the string using the given translation table.\n",
      " |      \n",
      " |        table\n",
      " |          Translation table, which must be a mapping of Unicode ordinals to\n",
      " |          Unicode ordinals, strings, or None.\n",
      " |      \n",
      " |      The table must implement lookup/indexing via __getitem__, for instance a\n",
      " |      dictionary or list.  If this operation raises LookupError, the character is\n",
      " |      left untouched.  Characters mapped to None are deleted.\n",
      " |  \n",
      " |  upper(self, /)\n",
      " |      Return a copy of the string converted to uppercase.\n",
      " |  \n",
      " |  zfill(self, width, /)\n",
      " |      Pad a numeric string with zeros on the left, to fill a field of the given width.\n",
      " |      \n",
      " |      The string is never truncated.\n",
      " |  \n",
      " |  ----------------------------------------------------------------------\n",
      " |  Static methods defined here:\n",
      " |  \n",
      " |  __new__(*args, **kwargs) from builtins.type\n",
      " |      Create and return a new object.  See help(type) for accurate signature.\n",
      " |  \n",
      " |  maketrans(x, y=None, z=None, /)\n",
      " |      Return a translation table usable for str.translate().\n",
      " |      \n",
      " |      If there is only one argument, it must be a dictionary mapping Unicode\n",
      " |      ordinals (integers) or characters to Unicode ordinals, strings or None.\n",
      " |      Character keys will be then converted to ordinals.\n",
      " |      If there are two arguments, they must be strings of equal length, and\n",
      " |      in the resulting dictionary, each character in x will be mapped to the\n",
      " |      character at the same position in y. If there is a third argument, it\n",
      " |      must be a string, whose characters will be mapped to None in the result.\n",
      "\n"
     ]
    }
   ],
   "source": [
    "help(str)"
   ]
  },
  {
   "cell_type": "markdown",
   "id": "dce01a8f",
   "metadata": {},
   "source": [
    "# Arithmetic"
   ]
  },
  {
   "cell_type": "markdown",
   "id": "d53ffa48",
   "metadata": {},
   "source": [
    "* + \n",
    "* - \n",
    "* * \n",
    "* / \n",
    "* `**`"
   ]
  },
  {
   "cell_type": "code",
   "execution_count": 47,
   "id": "79ab7476",
   "metadata": {
    "ExecuteTime": {
     "end_time": "2022-06-22T12:50:34.479868Z",
     "start_time": "2022-06-22T12:50:34.471738Z"
    }
   },
   "outputs": [],
   "source": [
    "weight = 60.5\n",
    "height = 182"
   ]
  },
  {
   "cell_type": "code",
   "execution_count": 48,
   "id": "2fe45245",
   "metadata": {
    "ExecuteTime": {
     "end_time": "2022-06-22T12:50:34.509738Z",
     "start_time": "2022-06-22T12:50:34.485736Z"
    }
   },
   "outputs": [
    {
     "data": {
      "text/plain": [
       "float"
      ]
     },
     "execution_count": 48,
     "metadata": {},
     "output_type": "execute_result"
    }
   ],
   "source": [
    "type(weight)"
   ]
  },
  {
   "cell_type": "code",
   "execution_count": 49,
   "id": "c5aa35b6",
   "metadata": {
    "ExecuteTime": {
     "end_time": "2022-06-22T12:50:34.525736Z",
     "start_time": "2022-06-22T12:50:34.513747Z"
    }
   },
   "outputs": [
    {
     "data": {
      "text/plain": [
       "int"
      ]
     },
     "execution_count": 49,
     "metadata": {},
     "output_type": "execute_result"
    }
   ],
   "source": [
    "type(height)"
   ]
  },
  {
   "cell_type": "code",
   "execution_count": 50,
   "id": "c7c4cfdc",
   "metadata": {
    "ExecuteTime": {
     "end_time": "2022-06-22T12:50:34.541734Z",
     "start_time": "2022-06-22T12:50:34.530737Z"
    }
   },
   "outputs": [
    {
     "name": "stdout",
     "output_type": "stream",
     "text": [
      "0.0018264702330636397\n"
     ]
    }
   ],
   "source": [
    "bmi = weight / height**2\n",
    "print(bmi)"
   ]
  },
  {
   "cell_type": "code",
   "execution_count": 51,
   "id": "db200346",
   "metadata": {
    "ExecuteTime": {
     "end_time": "2022-06-22T12:50:34.556735Z",
     "start_time": "2022-06-22T12:50:34.545313Z"
    }
   },
   "outputs": [
    {
     "data": {
      "text/plain": [
       "0"
      ]
     },
     "execution_count": 51,
     "metadata": {},
     "output_type": "execute_result"
    }
   ],
   "source": [
    "round(bmi)"
   ]
  },
  {
   "cell_type": "code",
   "execution_count": 52,
   "id": "8b72655d",
   "metadata": {
    "ExecuteTime": {
     "end_time": "2022-06-22T12:50:34.572736Z",
     "start_time": "2022-06-22T12:50:34.560298Z"
    }
   },
   "outputs": [
    {
     "name": "stdout",
     "output_type": "stream",
     "text": [
      "Help on built-in function round in module builtins:\n",
      "\n",
      "round(number, ndigits=None)\n",
      "    Round a number to a given precision in decimal digits.\n",
      "    \n",
      "    The return value is an integer if ndigits is omitted or None.  Otherwise\n",
      "    the return value has the same type as the number.  ndigits may be negative.\n",
      "\n"
     ]
    }
   ],
   "source": [
    "help(round)"
   ]
  },
  {
   "cell_type": "code",
   "execution_count": 53,
   "id": "1e9220ef",
   "metadata": {
    "ExecuteTime": {
     "end_time": "2022-06-22T12:50:34.587737Z",
     "start_time": "2022-06-22T12:50:34.575739Z"
    }
   },
   "outputs": [
    {
     "data": {
      "text/plain": [
       "0.0018"
      ]
     },
     "execution_count": 53,
     "metadata": {},
     "output_type": "execute_result"
    }
   ],
   "source": [
    "bmi = round(bmi,4)\n",
    "bmi"
   ]
  },
  {
   "cell_type": "code",
   "execution_count": 54,
   "id": "7a6eb5c8",
   "metadata": {
    "ExecuteTime": {
     "end_time": "2022-06-22T12:50:34.603737Z",
     "start_time": "2022-06-22T12:50:34.591738Z"
    }
   },
   "outputs": [
    {
     "name": "stdout",
     "output_type": "stream",
     "text": [
      "BMI is:  0.0018\n"
     ]
    }
   ],
   "source": [
    "print(\"BMI is: \", bmi)"
   ]
  },
  {
   "cell_type": "code",
   "execution_count": 55,
   "id": "3f5224aa",
   "metadata": {
    "ExecuteTime": {
     "end_time": "2022-06-22T12:50:34.619153Z",
     "start_time": "2022-06-22T12:50:34.608744Z"
    }
   },
   "outputs": [
    {
     "name": "stdout",
     "output_type": "stream",
     "text": [
      "Weight= 60.5\n",
      "Height= 182\n",
      "BMI= 0.0018\n"
     ]
    }
   ],
   "source": [
    "print(\"Weight= {}\\nHeight= {}\\nBMI= {}\".format(weight, height, bmi))"
   ]
  },
  {
   "cell_type": "code",
   "execution_count": 56,
   "id": "377c2611",
   "metadata": {
    "ExecuteTime": {
     "end_time": "2022-06-22T12:50:34.650792Z",
     "start_time": "2022-06-22T12:50:34.628738Z"
    }
   },
   "outputs": [
    {
     "name": "stdout",
     "output_type": "stream",
     "text": [
      "Weight= 60.5\n",
      "Height= 182\n",
      "BMI= 0.0018\n"
     ]
    }
   ],
   "source": [
    "print(\"Weight= {1}\\nHeight= {0}\\nBMI= {2}\".format(height, weight, bmi))"
   ]
  },
  {
   "cell_type": "code",
   "execution_count": 57,
   "id": "e79faacd",
   "metadata": {
    "ExecuteTime": {
     "end_time": "2022-06-22T12:50:34.682793Z",
     "start_time": "2022-06-22T12:50:34.656744Z"
    }
   },
   "outputs": [
    {
     "name": "stdout",
     "output_type": "stream",
     "text": [
      "-2.5\n",
      "6.5\n",
      "9.0\n",
      "0.4444444444444444\n",
      "2.0\n",
      "0.0\n"
     ]
    }
   ],
   "source": [
    "num1 = 2\n",
    "num2 = 4.5\n",
    "\n",
    "print(num1-num2)  # subtract\n",
    "print(num1+num2)  # add\n",
    "print(num1*num2)  # multiply\n",
    "print(num1/num2)  # divide\n",
    "print(num1%num2)  # remainder\n",
    "print(num1//num2) # floor"
   ]
  },
  {
   "cell_type": "code",
   "execution_count": 58,
   "id": "f5d54473",
   "metadata": {
    "ExecuteTime": {
     "end_time": "2022-06-22T12:50:34.697947Z",
     "start_time": "2022-06-22T12:50:34.687783Z"
    }
   },
   "outputs": [
    {
     "name": "stdout",
     "output_type": "stream",
     "text": [
      "4\n"
     ]
    }
   ],
   "source": [
    "num1 += 2 # num1 = num1 + 2\n",
    "print(num1)"
   ]
  },
  {
   "cell_type": "code",
   "execution_count": 59,
   "id": "98869243",
   "metadata": {
    "ExecuteTime": {
     "end_time": "2022-06-22T12:50:34.713736Z",
     "start_time": "2022-06-22T12:50:34.703010Z"
    }
   },
   "outputs": [
    {
     "name": "stdout",
     "output_type": "stream",
     "text": [
      "3\n"
     ]
    }
   ],
   "source": [
    "num1 -= 1 # num1 = num1 - 1\n",
    "print(num1)"
   ]
  },
  {
   "cell_type": "markdown",
   "id": "4ed2b21a",
   "metadata": {},
   "source": [
    "# IF Statements\n",
    "\n",
    "## Comparison Operators\n",
    "* `>`\n",
    "* `<`\n",
    "* `>=`\n",
    "* `<=`\n",
    "* `==`\n",
    "* `!=`"
   ]
  },
  {
   "cell_type": "code",
   "execution_count": 60,
   "id": "21cd5b9a",
   "metadata": {
    "ExecuteTime": {
     "end_time": "2022-06-22T12:50:34.744792Z",
     "start_time": "2022-06-22T12:50:34.722740Z"
    }
   },
   "outputs": [
    {
     "name": "stdout",
     "output_type": "stream",
     "text": [
      "3\n",
      "4.5\n"
     ]
    }
   ],
   "source": [
    "print(num1)\n",
    "print(num2)"
   ]
  },
  {
   "cell_type": "code",
   "execution_count": 61,
   "id": "9c721e29",
   "metadata": {
    "ExecuteTime": {
     "end_time": "2022-06-22T12:50:34.760791Z",
     "start_time": "2022-06-22T12:50:34.749741Z"
    }
   },
   "outputs": [],
   "source": [
    "if num1 > num2:\n",
    "    print('num1 is greater than num2!')"
   ]
  },
  {
   "cell_type": "code",
   "execution_count": 62,
   "id": "b2150048",
   "metadata": {
    "ExecuteTime": {
     "end_time": "2022-06-22T12:50:34.776752Z",
     "start_time": "2022-06-22T12:50:34.766737Z"
    }
   },
   "outputs": [
    {
     "name": "stdout",
     "output_type": "stream",
     "text": [
      "num2 is greater than num1!\n"
     ]
    }
   ],
   "source": [
    "if num1 > num2:\n",
    "    print('num1 is greater than num2!')\n",
    "else:\n",
    "    print('num2 is greater than num1!')"
   ]
  },
  {
   "cell_type": "code",
   "execution_count": 63,
   "id": "8b4cbe53",
   "metadata": {
    "ExecuteTime": {
     "end_time": "2022-06-22T12:50:34.808255Z",
     "start_time": "2022-06-22T12:50:34.783360Z"
    }
   },
   "outputs": [
    {
     "name": "stdout",
     "output_type": "stream",
     "text": [
      "num1 is not equal to num2!\n"
     ]
    }
   ],
   "source": [
    "if num1 != num2:\n",
    "    print('num1 is not equal to num2!')"
   ]
  },
  {
   "cell_type": "code",
   "execution_count": 65,
   "id": "fdd71548",
   "metadata": {
    "ExecuteTime": {
     "end_time": "2022-06-22T13:11:37.059940Z",
     "start_time": "2022-06-22T13:11:37.040791Z"
    }
   },
   "outputs": [
    {
     "name": "stdout",
     "output_type": "stream",
     "text": [
      "num2 is greater than num1!\n"
     ]
    }
   ],
   "source": [
    "if num1 > num2:\n",
    "    \n",
    "    print('num1 is greater than num2!')\n",
    "    \n",
    "    if num != num2:\n",
    "        print('num1 is not equal to num2!')\n",
    "        \n",
    "else:\n",
    "    print('num2 is greater than num1!')"
   ]
  },
  {
   "cell_type": "markdown",
   "id": "f0d1bb1f",
   "metadata": {},
   "source": [
    "## ELIF Statements\n",
    "\n",
    "### Relational OR Logical OR Boolean Operators\n",
    "1. `a > 40 and b < 50` (Only works if both conditions are true)\n",
    "2. `a > 40 or b < 50` (Only works when one of the conditions is true)\n",
    "3. `not`"
   ]
  },
  {
   "cell_type": "code",
   "execution_count": 92,
   "id": "143cf3b5",
   "metadata": {
    "ExecuteTime": {
     "end_time": "2022-06-22T14:31:21.417381Z",
     "start_time": "2022-06-22T14:31:15.633111Z"
    }
   },
   "outputs": [
    {
     "name": "stdout",
     "output_type": "stream",
     "text": [
      "Enter your marks = 96\n",
      "96.0\n",
      "Excellent & an A grade\n"
     ]
    }
   ],
   "source": [
    "marks = float(input(\"Enter your marks = \"))\n",
    "print(marks)\n",
    "\n",
    "if marks < 0 or marks > 100:\n",
    "    print(\"Wrong input!\")\n",
    "    \n",
    "elif 90 <= marks <= 100:\n",
    "    if 95 <= marks < 100:\n",
    "        print(\"Excellent & an A grade\")\n",
    "    elif marks == 100:\n",
    "        print(\"Distinction & an A grade\")\n",
    "    else:\n",
    "        print(\"A grade\")\n",
    "\n",
    "elif 80 <= marks < 90:\n",
    "    print(\"B grade\")\n",
    "    \n",
    "elif 70 <= marks < 80:\n",
    "    print(\"C grade\")\n",
    "\n",
    "else:\n",
    "    print(\"F grade\")"
   ]
  },
  {
   "cell_type": "code",
   "execution_count": 80,
   "id": "c9a56d1a",
   "metadata": {
    "ExecuteTime": {
     "end_time": "2022-06-22T13:28:48.406289Z",
     "start_time": "2022-06-22T13:28:48.390253Z"
    }
   },
   "outputs": [
    {
     "name": "stdout",
     "output_type": "stream",
     "text": [
      "A grade\n"
     ]
    }
   ],
   "source": [
    "# marks = float(input(\"Enter your marks = \"))\n",
    "# print(marks)\n",
    "\n",
    "marks = 90\n",
    "\n",
    "if marks >= 90 and marks <= 100:\n",
    "    print(\"A grade\")\n",
    "\n",
    "if marks >= 80 and marks < 90:\n",
    "    print(\"B grade\")\n",
    "    \n",
    "if marks >= 70 and marks < 80:\n",
    "    print(\"C grade\")"
   ]
  },
  {
   "cell_type": "markdown",
   "id": "08b78d37",
   "metadata": {},
   "source": [
    "### Testing sets of Conditions"
   ]
  },
  {
   "cell_type": "code",
   "execution_count": 85,
   "id": "8b38490a",
   "metadata": {
    "ExecuteTime": {
     "end_time": "2022-06-22T14:13:26.635520Z",
     "start_time": "2022-06-22T14:13:17.519107Z"
    }
   },
   "outputs": [
    {
     "name": "stdout",
     "output_type": "stream",
     "text": [
      "Enter your SAT Score = 1500\n",
      "Enter your CGPA = 2.3\n",
      "Was your parent an alumnus (YES or NO): YES\n",
      "Admission granted!\n"
     ]
    }
   ],
   "source": [
    "# HW: Introduce Error Handling\n",
    "\n",
    "sat_score = int(input(\"Enter your SAT Score = \"))\n",
    "cgpa = float(input(\"Enter your CGPA = \"))\n",
    "alum_status = input(\"Was your parent an alumnus (YES or NO): \")\n",
    "\n",
    "if (1800 <= sat_score <= 2400 and 2.4 < cgpa <= 4.0) or (alum_status.lower() == \"yes\"):\n",
    "    print(\"Admission granted!\")\n",
    "else:\n",
    "    print(\"Admission not granted\")"
   ]
  },
  {
   "cell_type": "code",
   "execution_count": 90,
   "id": "aa1c049a",
   "metadata": {
    "ExecuteTime": {
     "end_time": "2022-06-22T14:22:59.731157Z",
     "start_time": "2022-06-22T14:22:45.007138Z"
    }
   },
   "outputs": [
    {
     "name": "stdout",
     "output_type": "stream",
     "text": [
      "Enter your SAT Score = 1600\n",
      "Enter your CGPA = 2.3\n",
      "Was your parent an alumnus (YES or NO): yes\n",
      "Admission granted!\n"
     ]
    }
   ],
   "source": [
    "sat_score = int(input(\"Enter your SAT Score = \"))\n",
    "cgpa = float(input(\"Enter your CGPA = \"))\n",
    "alum_status = input(\"Was your parent an alumnus (YES or NO): \")\n",
    "\n",
    "if (1800 <= sat_score <= 2400 and 2.4 < cgpa <= 4.0) or not(alum_status.lower() == \"no\"):\n",
    "    print(\"Admission granted!\")\n",
    "else:\n",
    "    print(\"Admission not granted\")"
   ]
  },
  {
   "cell_type": "code",
   "execution_count": 95,
   "id": "ff8ade9c",
   "metadata": {
    "ExecuteTime": {
     "end_time": "2022-06-22T14:37:25.150485Z",
     "start_time": "2022-06-22T14:37:25.139487Z"
    }
   },
   "outputs": [
    {
     "name": "stdout",
     "output_type": "stream",
     "text": [
      "[1, 2, 3]\n",
      "['Talha', 1, 2.5, 'Ahmed']\n",
      "[]\n"
     ]
    }
   ],
   "source": [
    "num_list = [1, 2, 3]\n",
    "print(num_list)\n",
    "\n",
    "mixed_list = [\"Talha\", 1, 2.5, \"Ahmed\"]\n",
    "print(mixed_list)\n",
    "\n",
    "empty_list = []\n",
    "print(empty_list)"
   ]
  },
  {
   "cell_type": "code",
   "execution_count": null,
   "id": "d0e619c4",
   "metadata": {},
   "outputs": [],
   "source": []
  }
 ],
 "metadata": {
  "kernelspec": {
   "display_name": "Python 3 (ipykernel)",
   "language": "python",
   "name": "python3"
  },
  "language_info": {
   "codemirror_mode": {
    "name": "ipython",
    "version": 3
   },
   "file_extension": ".py",
   "mimetype": "text/x-python",
   "name": "python",
   "nbconvert_exporter": "python",
   "pygments_lexer": "ipython3",
   "version": "3.11.2"
  },
  "toc": {
   "base_numbering": 1,
   "nav_menu": {},
   "number_sections": true,
   "sideBar": true,
   "skip_h1_title": false,
   "title_cell": "Table of Contents",
   "title_sidebar": "Contents",
   "toc_cell": false,
   "toc_position": {},
   "toc_section_display": true,
   "toc_window_display": false
  },
  "varInspector": {
   "cols": {
    "lenName": 16,
    "lenType": 16,
    "lenVar": 40
   },
   "kernels_config": {
    "python": {
     "delete_cmd_postfix": "",
     "delete_cmd_prefix": "del ",
     "library": "var_list.py",
     "varRefreshCmd": "print(var_dic_list())"
    },
    "r": {
     "delete_cmd_postfix": ") ",
     "delete_cmd_prefix": "rm(",
     "library": "var_list.r",
     "varRefreshCmd": "cat(var_dic_list()) "
    }
   },
   "types_to_exclude": [
    "module",
    "function",
    "builtin_function_or_method",
    "instance",
    "_Feature"
   ],
   "window_display": false
  }
 },
 "nbformat": 4,
 "nbformat_minor": 5
}
