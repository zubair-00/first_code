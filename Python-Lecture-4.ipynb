{
 "cells": [
  {
   "cell_type": "markdown",
   "id": "ece30edb",
   "metadata": {},
   "source": [
    "# Tuples\n",
    "\n",
    "## Mutable & Immutable Data Types/Iterables/Built-in Collections\n",
    "\n",
    "1. Lists (Mutable)\n",
    "2. Dictionaries (Mutable)\n",
    "3. Tuples (Immutable): Ordered, Unchangeable & allow duplicate values\n",
    "4. Sets (Immutable)(Unique values)\n",
    "5. Strings (Immutable)"
   ]
  },
  {
   "cell_type": "code",
   "execution_count": 2,
   "id": "f7ebc306",
   "metadata": {
    "ExecuteTime": {
     "end_time": "2022-07-31T07:04:29.419713Z",
     "start_time": "2022-07-31T07:04:29.399353Z"
    }
   },
   "outputs": [
    {
     "name": "stdout",
     "output_type": "stream",
     "text": [
      "<class 'tuple'>\n"
     ]
    }
   ],
   "source": [
    "fruits_tuple = () # Empty Tuple\n",
    "print(type(fruits_tuple))"
   ]
  },
  {
   "cell_type": "code",
   "execution_count": 3,
   "id": "0ffed4fd",
   "metadata": {
    "ExecuteTime": {
     "end_time": "2022-07-31T07:05:04.479505Z",
     "start_time": "2022-07-31T07:05:04.461506Z"
    }
   },
   "outputs": [
    {
     "name": "stdout",
     "output_type": "stream",
     "text": [
      "<class 'tuple'>\n"
     ]
    }
   ],
   "source": [
    "even_num_tuple = tuple()\n",
    "print(type(even_num_tuple))"
   ]
  },
  {
   "cell_type": "code",
   "execution_count": 6,
   "id": "9d647163",
   "metadata": {
    "ExecuteTime": {
     "end_time": "2022-07-31T07:08:21.945945Z",
     "start_time": "2022-07-31T07:08:21.917698Z"
    }
   },
   "outputs": [
    {
     "name": "stdout",
     "output_type": "stream",
     "text": [
      "banana\n"
     ]
    },
    {
     "ename": "TypeError",
     "evalue": "'tuple' object does not support item assignment",
     "output_type": "error",
     "traceback": [
      "\u001b[1;31m---------------------------------------------------------------------------\u001b[0m",
      "\u001b[1;31mTypeError\u001b[0m                                 Traceback (most recent call last)",
      "\u001b[1;32m~\\AppData\\Local\\Temp\\ipykernel_5720\\1110557918.py\u001b[0m in \u001b[0;36m<module>\u001b[1;34m\u001b[0m\n\u001b[0;32m      2\u001b[0m \u001b[0mprint\u001b[0m\u001b[1;33m(\u001b[0m\u001b[0mfruits_tuple\u001b[0m\u001b[1;33m[\u001b[0m\u001b[1;36m1\u001b[0m\u001b[1;33m]\u001b[0m\u001b[1;33m)\u001b[0m\u001b[1;33m\u001b[0m\u001b[1;33m\u001b[0m\u001b[0m\n\u001b[0;32m      3\u001b[0m \u001b[1;33m\u001b[0m\u001b[0m\n\u001b[1;32m----> 4\u001b[1;33m \u001b[0mfruits_tuple\u001b[0m\u001b[1;33m[\u001b[0m\u001b[1;36m1\u001b[0m\u001b[1;33m]\u001b[0m \u001b[1;33m=\u001b[0m \u001b[1;34m\"watermelon\"\u001b[0m\u001b[1;33m\u001b[0m\u001b[1;33m\u001b[0m\u001b[0m\n\u001b[0m",
      "\u001b[1;31mTypeError\u001b[0m: 'tuple' object does not support item assignment"
     ]
    }
   ],
   "source": [
    "fruits_tuple = (\"apple\", \"banana\", \"cherry\")\n",
    "print(fruits_tuple[1])\n",
    "\n",
    "fruits_tuple[1] = \"watermelon\""
   ]
  },
  {
   "cell_type": "code",
   "execution_count": 10,
   "id": "4886597d",
   "metadata": {
    "ExecuteTime": {
     "end_time": "2022-07-31T07:10:46.434176Z",
     "start_time": "2022-07-31T07:10:46.420686Z"
    }
   },
   "outputs": [
    {
     "name": "stdout",
     "output_type": "stream",
     "text": [
      "['apple', 'banana', 'cherry']\n",
      "['apple', 'watermelon', 'cherry']\n",
      "('apple', 'watermelon', 'cherry')\n"
     ]
    }
   ],
   "source": [
    "# Replacing items in a tuple\n",
    "\n",
    "fruits_list = list(fruits_tuple)\n",
    "print(fruits_list)\n",
    "\n",
    "fruits_list[1] = \"watermelon\"\n",
    "print(fruits_list)\n",
    "\n",
    "fruits_tuple = tuple(fruits_list)\n",
    "print(fruits_tuple)"
   ]
  },
  {
   "cell_type": "code",
   "execution_count": 12,
   "id": "eea20133",
   "metadata": {
    "ExecuteTime": {
     "end_time": "2022-07-31T07:13:50.621061Z",
     "start_time": "2022-07-31T07:13:50.591647Z"
    }
   },
   "outputs": [
    {
     "name": "stdout",
     "output_type": "stream",
     "text": [
      "S\n"
     ]
    },
    {
     "ename": "TypeError",
     "evalue": "'str' object does not support item assignment",
     "output_type": "error",
     "traceback": [
      "\u001b[1;31m---------------------------------------------------------------------------\u001b[0m",
      "\u001b[1;31mTypeError\u001b[0m                                 Traceback (most recent call last)",
      "\u001b[1;32m~\\AppData\\Local\\Temp\\ipykernel_5720\\2759015056.py\u001b[0m in \u001b[0;36m<module>\u001b[1;34m\u001b[0m\n\u001b[0;32m      2\u001b[0m \u001b[0mprint\u001b[0m\u001b[1;33m(\u001b[0m\u001b[0mname_1\u001b[0m\u001b[1;33m[\u001b[0m\u001b[1;36m0\u001b[0m\u001b[1;33m]\u001b[0m\u001b[1;33m)\u001b[0m\u001b[1;33m\u001b[0m\u001b[1;33m\u001b[0m\u001b[0m\n\u001b[0;32m      3\u001b[0m \u001b[1;33m\u001b[0m\u001b[0m\n\u001b[1;32m----> 4\u001b[1;33m \u001b[0mname_1\u001b[0m\u001b[1;33m[\u001b[0m\u001b[1;36m0\u001b[0m\u001b[1;33m]\u001b[0m \u001b[1;33m=\u001b[0m \u001b[1;34m\"R\"\u001b[0m\u001b[1;33m\u001b[0m\u001b[1;33m\u001b[0m\u001b[0m\n\u001b[0m",
      "\u001b[1;31mTypeError\u001b[0m: 'str' object does not support item assignment"
     ]
    }
   ],
   "source": [
    "name_1 = \"Sohail\"\n",
    "print(name_1[0])\n",
    "\n",
    "name_1[0] = \"R\""
   ]
  },
  {
   "cell_type": "code",
   "execution_count": 16,
   "id": "c1730b67",
   "metadata": {
    "ExecuteTime": {
     "end_time": "2022-07-31T07:27:24.272127Z",
     "start_time": "2022-07-31T07:27:24.252797Z"
    }
   },
   "outputs": [
    {
     "name": "stdout",
     "output_type": "stream",
     "text": [
      "['R', 'o', 'h', 'a', 'i', 'l']\n",
      "['R', 'o', 'h', 'a', 'i', 'l']\n",
      "['R', 'o', 'h', 'a', 'i', 'l']\n"
     ]
    }
   ],
   "source": [
    "print(name_1)\n",
    "name_1 = list(name_1)\n",
    "\n",
    "print(name_1)\n",
    "name_1[0] = \"R\"\n",
    "print(name_1)\n",
    "\n",
    "name_1 = str(name_1) # incorrect approach"
   ]
  },
  {
   "cell_type": "code",
   "execution_count": 18,
   "id": "e42658a4",
   "metadata": {
    "ExecuteTime": {
     "end_time": "2022-07-31T07:28:03.778766Z",
     "start_time": "2022-07-31T07:28:03.761212Z"
    }
   },
   "outputs": [
    {
     "name": "stdout",
     "output_type": "stream",
     "text": [
      "['R', 'o', 'h', 'a', 'i', 'l']\n"
     ]
    },
    {
     "data": {
      "text/plain": [
       "str"
      ]
     },
     "execution_count": 18,
     "metadata": {},
     "output_type": "execute_result"
    }
   ],
   "source": [
    "print(name_1)\n",
    "type(name_1)"
   ]
  },
  {
   "cell_type": "code",
   "execution_count": 19,
   "id": "0ad4cd87",
   "metadata": {
    "ExecuteTime": {
     "end_time": "2022-07-31T07:28:32.843240Z",
     "start_time": "2022-07-31T07:28:32.818234Z"
    }
   },
   "outputs": [
    {
     "data": {
      "text/plain": [
       "\"['R', 'o', 'h', 'a', 'i', 'l']\""
      ]
     },
     "execution_count": 19,
     "metadata": {},
     "output_type": "execute_result"
    }
   ],
   "source": [
    "name_1 #incorrect approach"
   ]
  },
  {
   "cell_type": "code",
   "execution_count": 21,
   "id": "fdf7df81",
   "metadata": {
    "ExecuteTime": {
     "end_time": "2022-07-31T07:32:01.484043Z",
     "start_time": "2022-07-31T07:32:01.470013Z"
    }
   },
   "outputs": [
    {
     "name": "stdout",
     "output_type": "stream",
     "text": [
      "Sohail\n",
      "['S', 'o', 'h', 'a', 'i', 'l']\n",
      "['R', 'o', 'h', 'a', 'i', 'l']\n",
      "<class 'list'>\n"
     ]
    }
   ],
   "source": [
    "name_1 = \"Sohail\"\n",
    "print(name_1)\n",
    "name_1 = list(name_1)\n",
    "\n",
    "print(name_1)\n",
    "name_1[0] = \"R\"\n",
    "print(name_1)\n",
    "print(type(name_1))"
   ]
  },
  {
   "cell_type": "code",
   "execution_count": 27,
   "id": "e7e2a2f6",
   "metadata": {
    "ExecuteTime": {
     "end_time": "2022-07-31T07:33:53.264727Z",
     "start_time": "2022-07-31T07:33:53.248377Z"
    }
   },
   "outputs": [
    {
     "name": "stdout",
     "output_type": "stream",
     "text": [
      "Rohail\n",
      "<class 'str'>\n"
     ]
    }
   ],
   "source": [
    "name_1 = ''.join(name_1)\n",
    "print(name_1)\n",
    "print(type(name_1))"
   ]
  },
  {
   "cell_type": "code",
   "execution_count": 31,
   "id": "f9a25e0e",
   "metadata": {
    "ExecuteTime": {
     "end_time": "2022-07-31T07:34:52.642291Z",
     "start_time": "2022-07-31T07:34:52.621508Z"
    }
   },
   "outputs": [
    {
     "name": "stdout",
     "output_type": "stream",
     "text": [
      "Help on method_descriptor:\n",
      "\n",
      "join(self, iterable, /)\n",
      "    Concatenate any number of strings.\n",
      "    \n",
      "    The string whose method is called is inserted in between each given string.\n",
      "    The result is returned as a new string.\n",
      "    \n",
      "    Example: '.'.join(['ab', 'pq', 'rs']) -> 'ab.pq.rs'\n",
      "\n"
     ]
    }
   ],
   "source": [
    "help(str.join)"
   ]
  },
  {
   "cell_type": "code",
   "execution_count": 32,
   "id": "c22d4338",
   "metadata": {
    "ExecuteTime": {
     "end_time": "2022-07-31T07:37:44.330773Z",
     "start_time": "2022-07-31T07:37:44.307776Z"
    }
   },
   "outputs": [
    {
     "name": "stdout",
     "output_type": "stream",
     "text": [
      "www.google.com\n"
     ]
    }
   ],
   "source": [
    "web_tuple = (\"www\", \"google\", \"com\")\n",
    "website = \".\".join(web_tuple)\n",
    "print(website)"
   ]
  },
  {
   "cell_type": "code",
   "execution_count": 35,
   "id": "c8a4a3a1",
   "metadata": {
    "ExecuteTime": {
     "end_time": "2022-07-31T07:40:34.980818Z",
     "start_time": "2022-07-31T07:40:34.967206Z"
    }
   },
   "outputs": [
    {
     "name": "stdout",
     "output_type": "stream",
     "text": [
      "('apple', 'watermelon', 'cherry')\n",
      "3\n"
     ]
    }
   ],
   "source": [
    "print(fruits_tuple)\n",
    "\n",
    "print(len(fruits_tuple))"
   ]
  },
  {
   "cell_type": "code",
   "execution_count": 36,
   "id": "a975da43",
   "metadata": {
    "ExecuteTime": {
     "end_time": "2022-07-31T07:41:16.026004Z",
     "start_time": "2022-07-31T07:41:16.016082Z"
    }
   },
   "outputs": [
    {
     "name": "stdout",
     "output_type": "stream",
     "text": [
      "(1, 'Ahmad', True, 3.6)\n"
     ]
    }
   ],
   "source": [
    "mixed_tuple = (1, \"Ahmad\", True, 3.6)\n",
    "print(mixed_tuple)"
   ]
  },
  {
   "cell_type": "code",
   "execution_count": 37,
   "id": "1e86f0a0",
   "metadata": {
    "ExecuteTime": {
     "end_time": "2022-07-31T07:41:48.462214Z",
     "start_time": "2022-07-31T07:41:48.442011Z"
    }
   },
   "outputs": [],
   "source": [
    "list_1 = [2]"
   ]
  },
  {
   "cell_type": "code",
   "execution_count": 38,
   "id": "96019e2c",
   "metadata": {
    "ExecuteTime": {
     "end_time": "2022-07-31T07:41:52.054214Z",
     "start_time": "2022-07-31T07:41:52.035269Z"
    }
   },
   "outputs": [
    {
     "name": "stdout",
     "output_type": "stream",
     "text": [
      "[2]\n"
     ]
    }
   ],
   "source": [
    "print(list_1)"
   ]
  },
  {
   "cell_type": "code",
   "execution_count": 43,
   "id": "70b88b15",
   "metadata": {
    "ExecuteTime": {
     "end_time": "2022-07-31T07:42:54.219286Z",
     "start_time": "2022-07-31T07:42:54.201995Z"
    }
   },
   "outputs": [],
   "source": [
    "fruits_tuple2 = (\"kiwi\")"
   ]
  },
  {
   "cell_type": "code",
   "execution_count": 44,
   "id": "8b3a0e41",
   "metadata": {
    "ExecuteTime": {
     "end_time": "2022-07-31T07:42:54.714038Z",
     "start_time": "2022-07-31T07:42:54.691258Z"
    }
   },
   "outputs": [
    {
     "name": "stdout",
     "output_type": "stream",
     "text": [
      "kiwi\n",
      "<class 'str'>\n"
     ]
    }
   ],
   "source": [
    "print(fruits_tuple2)\n",
    "print(type(fruits_tuple2))"
   ]
  },
  {
   "cell_type": "code",
   "execution_count": 45,
   "id": "c71f994a",
   "metadata": {
    "ExecuteTime": {
     "end_time": "2022-07-31T07:43:36.999174Z",
     "start_time": "2022-07-31T07:43:36.986969Z"
    }
   },
   "outputs": [
    {
     "name": "stdout",
     "output_type": "stream",
     "text": [
      "('kiwi',)\n",
      "<class 'tuple'>\n"
     ]
    }
   ],
   "source": [
    "fruits_tuple2 = (\"kiwi\",)\n",
    "print(fruits_tuple2)\n",
    "print(type(fruits_tuple2))"
   ]
  },
  {
   "cell_type": "code",
   "execution_count": 46,
   "id": "909352d4",
   "metadata": {
    "ExecuteTime": {
     "end_time": "2022-07-31T07:44:28.954419Z",
     "start_time": "2022-07-31T07:44:28.935561Z"
    }
   },
   "outputs": [
    {
     "name": "stdout",
     "output_type": "stream",
     "text": [
      "('k', 'i', 'w', 'i')\n"
     ]
    }
   ],
   "source": [
    "fruits_tuple3 = tuple(\"kiwi\")\n",
    "print(fruits_tuple3)"
   ]
  },
  {
   "cell_type": "code",
   "execution_count": 49,
   "id": "02c09e1f",
   "metadata": {
    "ExecuteTime": {
     "end_time": "2022-07-31T08:01:41.115520Z",
     "start_time": "2022-07-31T08:01:41.100817Z"
    }
   },
   "outputs": [
    {
     "name": "stdout",
     "output_type": "stream",
     "text": [
      "('apple', 'watermelon', 'cherry')\n",
      "cherry\n",
      "('apple', 'watermelon')\n"
     ]
    }
   ],
   "source": [
    "print(fruits_tuple)\n",
    "print(fruits_tuple[-1])\n",
    "\n",
    "print(fruits_tuple[0:2])"
   ]
  },
  {
   "cell_type": "code",
   "execution_count": 51,
   "id": "8659b999",
   "metadata": {
    "ExecuteTime": {
     "end_time": "2022-07-31T08:03:30.301443Z",
     "start_time": "2022-07-31T08:03:30.278511Z"
    }
   },
   "outputs": [
    {
     "name": "stdout",
     "output_type": "stream",
     "text": [
      "yes\n",
      "yes\n"
     ]
    }
   ],
   "source": [
    "# Membership Operators\n",
    "\n",
    "if \"apple\" in fruits_tuple:\n",
    "    print(\"yes\")\n",
    "    \n",
    "if \"banana\" not in fruits_tuple:\n",
    "    print(\"yes\")"
   ]
  },
  {
   "cell_type": "code",
   "execution_count": 56,
   "id": "17ba04ab",
   "metadata": {
    "ExecuteTime": {
     "end_time": "2022-07-31T08:09:04.387163Z",
     "start_time": "2022-07-31T08:09:04.371205Z"
    }
   },
   "outputs": [],
   "source": [
    "del fruits_tuple2"
   ]
  },
  {
   "cell_type": "code",
   "execution_count": 57,
   "id": "237495bd",
   "metadata": {
    "ExecuteTime": {
     "end_time": "2022-07-31T08:09:10.037299Z",
     "start_time": "2022-07-31T08:09:09.996463Z"
    }
   },
   "outputs": [
    {
     "ename": "NameError",
     "evalue": "name 'fruits_tuple2' is not defined",
     "output_type": "error",
     "traceback": [
      "\u001b[1;31m---------------------------------------------------------------------------\u001b[0m",
      "\u001b[1;31mNameError\u001b[0m                                 Traceback (most recent call last)",
      "\u001b[1;32m~\\AppData\\Local\\Temp\\ipykernel_5720\\116663646.py\u001b[0m in \u001b[0;36m<module>\u001b[1;34m\u001b[0m\n\u001b[1;32m----> 1\u001b[1;33m \u001b[0mfruits_tuple2\u001b[0m\u001b[1;33m\u001b[0m\u001b[1;33m\u001b[0m\u001b[0m\n\u001b[0m",
      "\u001b[1;31mNameError\u001b[0m: name 'fruits_tuple2' is not defined"
     ]
    }
   ],
   "source": [
    "fruits_tuple2"
   ]
  },
  {
   "cell_type": "code",
   "execution_count": 60,
   "id": "a8cc4000",
   "metadata": {
    "ExecuteTime": {
     "end_time": "2022-07-31T08:12:02.444232Z",
     "start_time": "2022-07-31T08:12:02.427424Z"
    }
   },
   "outputs": [
    {
     "name": "stdout",
     "output_type": "stream",
     "text": [
      "2 4 6\n",
      "('apple', 'watermelon', 'cherry')\n",
      "apple watermelon cherry\n"
     ]
    }
   ],
   "source": [
    "# Unpacking a tuple\n",
    "\n",
    "x, y, z = 2, 4, 6\n",
    "print(x, y, z)\n",
    "\n",
    "print(fruits_tuple)\n",
    "\n",
    "fruit1, fruit2, fruit3 = fruits_tuple\n",
    "print(fruit1, fruit2, fruit3)"
   ]
  },
  {
   "cell_type": "markdown",
   "id": "1ebffac1",
   "metadata": {},
   "source": [
    "## Q5 (Coding Nightmares)"
   ]
  },
  {
   "cell_type": "code",
   "execution_count": 1,
   "id": "f0f657c7",
   "metadata": {
    "ExecuteTime": {
     "end_time": "2022-07-31T08:24:09.641157Z",
     "start_time": "2022-07-31T08:24:09.626157Z"
    }
   },
   "outputs": [
    {
     "name": "stdout",
     "output_type": "stream",
     "text": [
      "the quick brown fox jumps over the lazy dog.\n"
     ]
    }
   ],
   "source": [
    "string1 = \"The quick brown fox jumps over the lazy dog.\"\n",
    "\n",
    "string1 = string1.lower()\n",
    "print(string1)"
   ]
  },
  {
   "cell_type": "code",
   "execution_count": 3,
   "id": "3ae4a0f7",
   "metadata": {
    "ExecuteTime": {
     "end_time": "2022-07-31T08:26:02.507361Z",
     "start_time": "2022-07-31T08:26:02.499360Z"
    }
   },
   "outputs": [
    {
     "name": "stdout",
     "output_type": "stream",
     "text": [
      "abcdefghijklmnopqrstuvwxyz\n",
      "ABCDEFGHIJKLMNOPQRSTUVWXYZ\n"
     ]
    }
   ],
   "source": [
    "import string\n",
    "print(string.ascii_lowercase)\n",
    "print(string.ascii_uppercase)"
   ]
  },
  {
   "cell_type": "code",
   "execution_count": 4,
   "id": "1d7706f4",
   "metadata": {
    "ExecuteTime": {
     "end_time": "2022-07-31T08:26:48.731126Z",
     "start_time": "2022-07-31T08:26:48.711127Z"
    }
   },
   "outputs": [
    {
     "name": "stdout",
     "output_type": "stream",
     "text": [
      "abcdefghijklmnopqrstuvwxyz\n"
     ]
    }
   ],
   "source": [
    "alphabets = \"abcdefghijklmnopqrstuvwxyz\"\n",
    "print(alphabets)"
   ]
  },
  {
   "cell_type": "code",
   "execution_count": 5,
   "id": "6970a4a4",
   "metadata": {
    "ExecuteTime": {
     "end_time": "2022-07-31T08:28:45.603144Z",
     "start_time": "2022-07-31T08:28:45.583141Z"
    }
   },
   "outputs": [
    {
     "name": "stdout",
     "output_type": "stream",
     "text": [
      "{'q', 'h', 'g', 'v', 'x', 'u', 'm', '.', 'p', 'l', 'a', 'i', 'e', 'f', 'c', 'o', 'b', 'd', ' ', 'n', 'z', 'r', 'w', 't', 'k', 'j', 's', 'y'}\n"
     ]
    }
   ],
   "source": [
    "string1_set = set(string1)\n",
    "print(string1_set)"
   ]
  },
  {
   "cell_type": "code",
   "execution_count": 6,
   "id": "e4e42663",
   "metadata": {
    "ExecuteTime": {
     "end_time": "2022-07-31T08:29:09.273794Z",
     "start_time": "2022-07-31T08:29:09.252796Z"
    }
   },
   "outputs": [
    {
     "name": "stdout",
     "output_type": "stream",
     "text": [
      "[' ', '.', 'a', 'b', 'c', 'd', 'e', 'f', 'g', 'h', 'i', 'j', 'k', 'l', 'm', 'n', 'o', 'p', 'q', 'r', 's', 't', 'u', 'v', 'w', 'x', 'y', 'z']\n"
     ]
    }
   ],
   "source": [
    "print(sorted(string1_set))"
   ]
  },
  {
   "cell_type": "code",
   "execution_count": 8,
   "id": "22c89349",
   "metadata": {
    "ExecuteTime": {
     "end_time": "2022-07-31T08:31:00.874972Z",
     "start_time": "2022-07-31T08:31:00.866974Z"
    }
   },
   "outputs": [
    {
     "name": "stdout",
     "output_type": "stream",
     "text": [
      "True\n"
     ]
    }
   ],
   "source": [
    "print(set(alphabets) <= string1_set)"
   ]
  },
  {
   "cell_type": "code",
   "execution_count": 10,
   "id": "6ae0904c",
   "metadata": {
    "ExecuteTime": {
     "end_time": "2022-07-31T08:35:49.614667Z",
     "start_time": "2022-07-31T08:35:49.605668Z"
    }
   },
   "outputs": [
    {
     "name": "stdout",
     "output_type": "stream",
     "text": [
      "[' ', '.', 'a', 'b', 'e', 'h', 'i', 'm', 'n', 'o', 's', 'y', 'z']\n"
     ]
    }
   ],
   "source": [
    "print(set(\"My name is Zohaib.\".lower()))"
   ]
  },
  {
   "cell_type": "code",
   "execution_count": 12,
   "id": "9f2656bf",
   "metadata": {
    "ExecuteTime": {
     "end_time": "2022-07-31T08:37:20.381111Z",
     "start_time": "2022-07-31T08:37:20.364112Z"
    }
   },
   "outputs": [
    {
     "name": "stdout",
     "output_type": "stream",
     "text": [
      "False\n"
     ]
    }
   ],
   "source": [
    "string_set2 = set(\"My name is Zohaib.\".lower())\n",
    "print(set(alphabets) <= string_set2)"
   ]
  },
  {
   "cell_type": "code",
   "execution_count": null,
   "id": "512cb979",
   "metadata": {},
   "outputs": [],
   "source": []
  }
 ],
 "metadata": {
  "kernelspec": {
   "display_name": "Python 3 (ipykernel)",
   "language": "python",
   "name": "python3"
  },
  "language_info": {
   "codemirror_mode": {
    "name": "ipython",
    "version": 3
   },
   "file_extension": ".py",
   "mimetype": "text/x-python",
   "name": "python",
   "nbconvert_exporter": "python",
   "pygments_lexer": "ipython3",
   "version": "3.7.10"
  },
  "toc": {
   "base_numbering": 1,
   "nav_menu": {},
   "number_sections": true,
   "sideBar": true,
   "skip_h1_title": false,
   "title_cell": "Table of Contents",
   "title_sidebar": "Contents",
   "toc_cell": false,
   "toc_position": {},
   "toc_section_display": true,
   "toc_window_display": false
  },
  "varInspector": {
   "cols": {
    "lenName": 16,
    "lenType": 16,
    "lenVar": 40
   },
   "kernels_config": {
    "python": {
     "delete_cmd_postfix": "",
     "delete_cmd_prefix": "del ",
     "library": "var_list.py",
     "varRefreshCmd": "print(var_dic_list())"
    },
    "r": {
     "delete_cmd_postfix": ") ",
     "delete_cmd_prefix": "rm(",
     "library": "var_list.r",
     "varRefreshCmd": "cat(var_dic_list()) "
    }
   },
   "types_to_exclude": [
    "module",
    "function",
    "builtin_function_or_method",
    "instance",
    "_Feature"
   ],
   "window_display": false
  }
 },
 "nbformat": 4,
 "nbformat_minor": 5
}
