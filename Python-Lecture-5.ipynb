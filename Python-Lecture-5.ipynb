{
 "cells": [
  {
   "cell_type": "markdown",
   "metadata": {},
   "source": [
    "# File Handling\n",
    "* MODES: Creating, Reading, Updating & Deletion\n",
    "* `.txt`\n",
    "* `open(filename, mode)`"
   ]
  },
  {
   "cell_type": "markdown",
   "metadata": {},
   "source": [
    "## .txt Files (File Reading)\n",
    "### Method 1"
   ]
  },
  {
   "cell_type": "code",
   "execution_count": 1,
   "metadata": {
    "ExecuteTime": {
     "end_time": "2022-08-06T07:26:45.897131Z",
     "start_time": "2022-08-06T07:26:45.849127Z"
    }
   },
   "outputs": [
    {
     "name": "stdout",
     "output_type": "stream",
     "text": [
      "We are Data Shayta\n",
      "\n",
      "We love Data\n",
      "2\n"
     ]
    }
   ],
   "source": [
    "file = open('test_z.txt')\n",
    "counter = 0\n",
    "\n",
    "for line in file:\n",
    "    print(line)\n",
    "    counter += 1\n",
    "\n",
    "print(counter)"
   ]
  },
  {
   "cell_type": "markdown",
   "metadata": {},
   "source": [
    "### Method 2"
   ]
  },
  {
   "cell_type": "code",
   "execution_count": 4,
   "metadata": {
    "ExecuteTime": {
     "end_time": "2022-08-06T07:30:52.420825Z",
     "start_time": "2022-08-06T07:30:52.378828Z"
    }
   },
   "outputs": [
    {
     "name": "stdout",
     "output_type": "stream",
     "text": [
      "We are Data Shayta\n",
      "We love Data\n",
      "We are Data Shayta\n",
      "We love Data\n"
     ]
    }
   ],
   "source": [
    "file = open(\"test_z.txt\")\n",
    "print(file.read())\n",
    "print(open(\"test_z.txt\").read())"
   ]
  },
  {
   "cell_type": "code",
   "execution_count": 8,
   "metadata": {
    "ExecuteTime": {
     "end_time": "2022-08-06T07:31:26.129705Z",
     "start_time": "2022-08-06T07:31:26.115716Z"
    }
   },
   "outputs": [
    {
     "name": "stdout",
     "output_type": "stream",
     "text": [
      "Help on built-in function read:\n",
      "\n",
      "read(size=-1, /) method of _io.TextIOWrapper instance\n",
      "    Read at most n characters from stream.\n",
      "    \n",
      "    Read from underlying buffer until we have n characters or we hit EOF.\n",
      "    If n is negative or omitted, read until EOF.\n",
      "\n"
     ]
    }
   ],
   "source": [
    "help(file.read)"
   ]
  },
  {
   "cell_type": "code",
   "execution_count": 11,
   "metadata": {
    "ExecuteTime": {
     "end_time": "2022-08-06T07:37:52.794752Z",
     "start_time": "2022-08-06T07:37:52.770754Z"
    }
   },
   "outputs": [
    {
     "name": "stdout",
     "output_type": "stream",
     "text": [
      "We are Dat\n"
     ]
    }
   ],
   "source": [
    "# Printing some characters in a file\n",
    "file = open(\"test_z.txt\")\n",
    "print(file.read(10))"
   ]
  },
  {
   "cell_type": "markdown",
   "metadata": {},
   "source": [
    "### Accessing files in a Different Location\n"
   ]
  },
  {
   "cell_type": "code",
   "execution_count": 12,
   "metadata": {
    "ExecuteTime": {
     "end_time": "2022-08-06T07:43:56.341822Z",
     "start_time": "2022-08-06T07:43:56.320816Z"
    }
   },
   "outputs": [
    {
     "name": "stdout",
     "output_type": "stream",
     "text": [
      "We are Data Shayta\n",
      "We love Data\n"
     ]
    }
   ],
   "source": [
    "file = open(\"./test_folder/test_z.txt\")\n",
    "print(file.read())"
   ]
  },
  {
   "cell_type": "code",
   "execution_count": 14,
   "metadata": {
    "ExecuteTime": {
     "end_time": "2022-08-06T07:48:11.242907Z",
     "start_time": "2022-08-06T07:48:11.213908Z"
    }
   },
   "outputs": [
    {
     "name": "stdout",
     "output_type": "stream",
     "text": [
      "We are Data Shayta\n",
      "We love Data\n"
     ]
    }
   ],
   "source": [
    "file = open(\"G:/My Drive/Jupyter_Proj/Data-Shayta-Batches/Data-Shayta-Python-B4L1/test_folder/test_z.txt\")\n",
    "print(file.read())"
   ]
  },
  {
   "cell_type": "code",
   "execution_count": 26,
   "metadata": {
    "ExecuteTime": {
     "end_time": "2022-08-06T07:56:06.509152Z",
     "start_time": "2022-08-06T07:56:06.479147Z"
    }
   },
   "outputs": [
    {
     "name": "stdout",
     "output_type": "stream",
     "text": [
      "We are Data Shayta\n",
      "\n",
      "<class 'str'>\n",
      "['We are Data Shayta\\n', 'We love Data']\n",
      "<class 'list'>\n"
     ]
    }
   ],
   "source": [
    "file = open(\"./test_folder/test_z.txt\")\n",
    "print(file.readline())\n",
    "\n",
    "print(type(file.readline()))\n",
    "\n",
    "file = open(\"./test_folder/test_z.txt\")\n",
    "print(file.readlines())\n",
    "print(type(file.readlines()))"
   ]
  },
  {
   "cell_type": "code",
   "execution_count": 25,
   "metadata": {
    "ExecuteTime": {
     "end_time": "2022-08-06T07:55:38.530973Z",
     "start_time": "2022-08-06T07:55:38.514976Z"
    }
   },
   "outputs": [
    {
     "name": "stdout",
     "output_type": "stream",
     "text": [
      "Help on built-in function readlines:\n",
      "\n",
      "readlines(hint=-1, /) method of _io.TextIOWrapper instance\n",
      "    Return a list of lines from the stream.\n",
      "    \n",
      "    hint can be specified to control the number of lines read: no more\n",
      "    lines will be read if the total size (in bytes/characters) of all\n",
      "    lines so far exceeds hint.\n",
      "\n"
     ]
    }
   ],
   "source": [
    "help(file.readlines)"
   ]
  },
  {
   "cell_type": "markdown",
   "metadata": {},
   "source": [
    "### Closing a File"
   ]
  },
  {
   "cell_type": "code",
   "execution_count": 29,
   "metadata": {
    "ExecuteTime": {
     "end_time": "2022-08-06T08:01:31.785032Z",
     "start_time": "2022-08-06T08:01:31.762036Z"
    }
   },
   "outputs": [],
   "source": [
    "file = open(\"./test_folder/test_z.txt\")\n",
    "file.readlines()\n",
    "\n",
    "file.close()"
   ]
  },
  {
   "cell_type": "markdown",
   "metadata": {},
   "source": [
    "## Appending/Writing to a File"
   ]
  },
  {
   "cell_type": "code",
   "execution_count": 31,
   "metadata": {
    "ExecuteTime": {
     "end_time": "2022-08-06T08:24:13.167761Z",
     "start_time": "2022-08-06T08:24:13.122764Z"
    }
   },
   "outputs": [
    {
     "name": "stdout",
     "output_type": "stream",
     "text": [
      "We are Data Shayta\n",
      "We love Data\n",
      " Our students are doing great!\n",
      "Our students are doing great!\n"
     ]
    }
   ],
   "source": [
    "file = open(\"./test_folder/test_z.txt\", 'a')\n",
    "file.write(\"\\nOur students are doing great!\")\n",
    "\n",
    "file.close()\n",
    "\n",
    "file = open(\"./test_folder/test_z.txt\")\n",
    "print(file.read())"
   ]
  },
  {
   "cell_type": "code",
   "execution_count": 33,
   "metadata": {
    "ExecuteTime": {
     "end_time": "2022-08-06T08:25:44.747512Z",
     "start_time": "2022-08-06T08:25:44.704512Z"
    }
   },
   "outputs": [
    {
     "ename": "UnsupportedOperation",
     "evalue": "not readable",
     "output_type": "error",
     "traceback": [
      "\u001b[1;31m---------------------------------------------------------------------------\u001b[0m",
      "\u001b[1;31mUnsupportedOperation\u001b[0m                      Traceback (most recent call last)",
      "\u001b[1;32m~\\AppData\\Local\\Temp\\ipykernel_1124\\685987727.py\u001b[0m in \u001b[0;36m<module>\u001b[1;34m\u001b[0m\n\u001b[0;32m      4\u001b[0m \u001b[0mfile\u001b[0m\u001b[1;33m.\u001b[0m\u001b[0mwrite\u001b[0m\u001b[1;33m(\u001b[0m\u001b[1;34m\"\\nOur students are doing great!\"\u001b[0m\u001b[1;33m)\u001b[0m\u001b[1;33m\u001b[0m\u001b[1;33m\u001b[0m\u001b[0m\n\u001b[0;32m      5\u001b[0m \u001b[1;33m\u001b[0m\u001b[0m\n\u001b[1;32m----> 6\u001b[1;33m \u001b[0mprint\u001b[0m\u001b[1;33m(\u001b[0m\u001b[0mfile\u001b[0m\u001b[1;33m.\u001b[0m\u001b[0mread\u001b[0m\u001b[1;33m(\u001b[0m\u001b[1;33m)\u001b[0m\u001b[1;33m)\u001b[0m\u001b[1;33m\u001b[0m\u001b[1;33m\u001b[0m\u001b[0m\n\u001b[0m",
      "\u001b[1;31mUnsupportedOperation\u001b[0m: not readable"
     ]
    }
   ],
   "source": [
    "# Wrong method for appending & reading files\n",
    "\n",
    "file = open(\"./test_folder/test_z.txt\", 'a')\n",
    "file.write(\"\\nOur students are doing great!\")\n",
    "\n",
    "print(file.read())"
   ]
  },
  {
   "cell_type": "markdown",
   "metadata": {},
   "source": [
    "## Writing to a File\n",
    "* Overwriting\n",
    "* Creating a new file & writing to it"
   ]
  },
  {
   "cell_type": "code",
   "execution_count": 35,
   "metadata": {
    "ExecuteTime": {
     "end_time": "2022-08-06T08:34:07.329420Z",
     "start_time": "2022-08-06T08:34:07.284420Z"
    }
   },
   "outputs": [
    {
     "name": "stdout",
     "output_type": "stream",
     "text": [
      "Content deleted on purpose!\n"
     ]
    }
   ],
   "source": [
    "file = open(\"./test_folder/test_z.txt\", 'w')\n",
    "file.write(\"Content deleted on purpose!\")\n",
    "\n",
    "file.close()\n",
    "\n",
    "file = open(\"./test_folder/test_z.txt\")\n",
    "print(file.read())"
   ]
  },
  {
   "cell_type": "code",
   "execution_count": 36,
   "metadata": {
    "ExecuteTime": {
     "end_time": "2022-08-06T08:36:37.275532Z",
     "start_time": "2022-08-06T08:36:37.191531Z"
    }
   },
   "outputs": [
    {
     "name": "stdout",
     "output_type": "stream",
     "text": [
      "Back from the ashes \n",
      " Writing to a new file\n"
     ]
    }
   ],
   "source": [
    "file = open(\"./test_folder/test_z2.txt\", 'w')\n",
    "file.write(\"Back from the ashes \\n Writing to a new file\")\n",
    "\n",
    "file.close()\n",
    "\n",
    "file = open(\"./test_folder/test_z2.txt\")\n",
    "print(file.read())"
   ]
  },
  {
   "cell_type": "code",
   "execution_count": 37,
   "metadata": {
    "ExecuteTime": {
     "end_time": "2022-08-06T08:38:29.225816Z",
     "start_time": "2022-08-06T08:38:29.167809Z"
    }
   },
   "outputs": [
    {
     "name": "stdout",
     "output_type": "stream",
     "text": [
      "Back from the ashes \n",
      " Writing to a new file\n"
     ]
    }
   ],
   "source": [
    "file = open(\"./test_z3.txt\", 'w')\n",
    "file.write(\"Back from the ashes \\n Writing to a new file number 2\")\n",
    "\n",
    "file.close()"
   ]
  },
  {
   "cell_type": "code",
   "execution_count": 38,
   "metadata": {
    "ExecuteTime": {
     "end_time": "2022-08-06T08:38:50.164631Z",
     "start_time": "2022-08-06T08:38:50.134634Z"
    }
   },
   "outputs": [
    {
     "name": "stdout",
     "output_type": "stream",
     "text": [
      "Back from the ashes \n",
      " Writing to a new file number 2\n"
     ]
    }
   ],
   "source": [
    "file = open(\"./test_z3.txt\")\n",
    "print(file.read())"
   ]
  },
  {
   "cell_type": "markdown",
   "metadata": {},
   "source": [
    "## Creating an Empty File"
   ]
  },
  {
   "cell_type": "code",
   "execution_count": 39,
   "metadata": {
    "ExecuteTime": {
     "end_time": "2022-08-06T08:40:54.721969Z",
     "start_time": "2022-08-06T08:40:54.692970Z"
    }
   },
   "outputs": [],
   "source": [
    "new_file = open(\"./test_folder/new_z.txt\", \"x\")\n",
    "new_file.close()"
   ]
  },
  {
   "cell_type": "markdown",
   "metadata": {},
   "source": [
    "## Deleting a File"
   ]
  },
  {
   "cell_type": "code",
   "execution_count": 40,
   "metadata": {
    "ExecuteTime": {
     "end_time": "2022-08-06T08:42:20.631463Z",
     "start_time": "2022-08-06T08:42:20.603464Z"
    }
   },
   "outputs": [],
   "source": [
    "import os\n",
    "os.remove(\"./test_folder/new_z.txt\")"
   ]
  },
  {
   "cell_type": "markdown",
   "metadata": {},
   "source": [
    "# `.csv` File Handling"
   ]
  },
  {
   "cell_type": "code",
   "execution_count": 1,
   "metadata": {},
   "outputs": [],
   "source": [
    "import csv"
   ]
  },
  {
   "cell_type": "code",
   "execution_count": 2,
   "metadata": {},
   "outputs": [
    {
     "name": "stdout",
     "output_type": "stream",
     "text": [
      "Help on module csv:\n",
      "\n",
      "NAME\n",
      "    csv - CSV parsing and writing.\n",
      "\n",
      "MODULE REFERENCE\n",
      "    https://docs.python.org/3.8/library/csv\n",
      "    \n",
      "    The following documentation is automatically generated from the Python\n",
      "    source files.  It may be incomplete, incorrect or include features that\n",
      "    are considered implementation detail and may vary between Python\n",
      "    implementations.  When in doubt, consult the module reference at the\n",
      "    location listed above.\n",
      "\n",
      "DESCRIPTION\n",
      "    This module provides classes that assist in the reading and writing\n",
      "    of Comma Separated Value (CSV) files, and implements the interface\n",
      "    described by PEP 305.  Although many CSV files are simple to parse,\n",
      "    the format is not formally defined by a stable specification and\n",
      "    is subtle enough that parsing lines of a CSV file with something\n",
      "    like line.split(\",\") is bound to fail.  The module supports three\n",
      "    basic APIs: reading, writing, and registration of dialects.\n",
      "    \n",
      "    \n",
      "    DIALECT REGISTRATION:\n",
      "    \n",
      "    Readers and writers support a dialect argument, which is a convenient\n",
      "    handle on a group of settings.  When the dialect argument is a string,\n",
      "    it identifies one of the dialects previously registered with the module.\n",
      "    If it is a class or instance, the attributes of the argument are used as\n",
      "    the settings for the reader or writer:\n",
      "    \n",
      "        class excel:\n",
      "            delimiter = ','\n",
      "            quotechar = '\"'\n",
      "            escapechar = None\n",
      "            doublequote = True\n",
      "            skipinitialspace = False\n",
      "            lineterminator = '\\r\\n'\n",
      "            quoting = QUOTE_MINIMAL\n",
      "    \n",
      "    SETTINGS:\n",
      "    \n",
      "        * quotechar - specifies a one-character string to use as the\n",
      "            quoting character.  It defaults to '\"'.\n",
      "        * delimiter - specifies a one-character string to use as the\n",
      "            field separator.  It defaults to ','.\n",
      "        * skipinitialspace - specifies how to interpret whitespace which\n",
      "            immediately follows a delimiter.  It defaults to False, which\n",
      "            means that whitespace immediately following a delimiter is part\n",
      "            of the following field.\n",
      "        * lineterminator -  specifies the character sequence which should\n",
      "            terminate rows.\n",
      "        * quoting - controls when quotes should be generated by the writer.\n",
      "            It can take on any of the following module constants:\n",
      "    \n",
      "            csv.QUOTE_MINIMAL means only when required, for example, when a\n",
      "                field contains either the quotechar or the delimiter\n",
      "            csv.QUOTE_ALL means that quotes are always placed around fields.\n",
      "            csv.QUOTE_NONNUMERIC means that quotes are always placed around\n",
      "                fields which do not parse as integers or floating point\n",
      "                numbers.\n",
      "            csv.QUOTE_NONE means that quotes are never placed around fields.\n",
      "        * escapechar - specifies a one-character string used to escape\n",
      "            the delimiter when quoting is set to QUOTE_NONE.\n",
      "        * doublequote - controls the handling of quotes inside fields.  When\n",
      "            True, two consecutive quotes are interpreted as one during read,\n",
      "            and when writing, each quote character embedded in the data is\n",
      "            written as two quotes\n",
      "\n",
      "CLASSES\n",
      "    builtins.Exception(builtins.BaseException)\n",
      "        _csv.Error\n",
      "    builtins.object\n",
      "        Dialect\n",
      "            excel\n",
      "                excel_tab\n",
      "            unix_dialect\n",
      "        DictReader\n",
      "        DictWriter\n",
      "        Sniffer\n",
      "    \n",
      "    class Dialect(builtins.object)\n",
      "     |  Describe a CSV dialect.\n",
      "     |  \n",
      "     |  This must be subclassed (see csv.excel).  Valid attributes are:\n",
      "     |  delimiter, quotechar, escapechar, doublequote, skipinitialspace,\n",
      "     |  lineterminator, quoting.\n",
      "     |  \n",
      "     |  Methods defined here:\n",
      "     |  \n",
      "     |  __init__(self)\n",
      "     |      Initialize self.  See help(type(self)) for accurate signature.\n",
      "     |  \n",
      "     |  ----------------------------------------------------------------------\n",
      "     |  Data descriptors defined here:\n",
      "     |  \n",
      "     |  __dict__\n",
      "     |      dictionary for instance variables (if defined)\n",
      "     |  \n",
      "     |  __weakref__\n",
      "     |      list of weak references to the object (if defined)\n",
      "     |  \n",
      "     |  ----------------------------------------------------------------------\n",
      "     |  Data and other attributes defined here:\n",
      "     |  \n",
      "     |  delimiter = None\n",
      "     |  \n",
      "     |  doublequote = None\n",
      "     |  \n",
      "     |  escapechar = None\n",
      "     |  \n",
      "     |  lineterminator = None\n",
      "     |  \n",
      "     |  quotechar = None\n",
      "     |  \n",
      "     |  quoting = None\n",
      "     |  \n",
      "     |  skipinitialspace = None\n",
      "    \n",
      "    class DictReader(builtins.object)\n",
      "     |  DictReader(f, fieldnames=None, restkey=None, restval=None, dialect='excel', *args, **kwds)\n",
      "     |  \n",
      "     |  Methods defined here:\n",
      "     |  \n",
      "     |  __init__(self, f, fieldnames=None, restkey=None, restval=None, dialect='excel', *args, **kwds)\n",
      "     |      Initialize self.  See help(type(self)) for accurate signature.\n",
      "     |  \n",
      "     |  __iter__(self)\n",
      "     |  \n",
      "     |  __next__(self)\n",
      "     |  \n",
      "     |  ----------------------------------------------------------------------\n",
      "     |  Data descriptors defined here:\n",
      "     |  \n",
      "     |  __dict__\n",
      "     |      dictionary for instance variables (if defined)\n",
      "     |  \n",
      "     |  __weakref__\n",
      "     |      list of weak references to the object (if defined)\n",
      "     |  \n",
      "     |  fieldnames\n",
      "    \n",
      "    class DictWriter(builtins.object)\n",
      "     |  DictWriter(f, fieldnames, restval='', extrasaction='raise', dialect='excel', *args, **kwds)\n",
      "     |  \n",
      "     |  Methods defined here:\n",
      "     |  \n",
      "     |  __init__(self, f, fieldnames, restval='', extrasaction='raise', dialect='excel', *args, **kwds)\n",
      "     |      Initialize self.  See help(type(self)) for accurate signature.\n",
      "     |  \n",
      "     |  writeheader(self)\n",
      "     |  \n",
      "     |  writerow(self, rowdict)\n",
      "     |  \n",
      "     |  writerows(self, rowdicts)\n",
      "     |  \n",
      "     |  ----------------------------------------------------------------------\n",
      "     |  Data descriptors defined here:\n",
      "     |  \n",
      "     |  __dict__\n",
      "     |      dictionary for instance variables (if defined)\n",
      "     |  \n",
      "     |  __weakref__\n",
      "     |      list of weak references to the object (if defined)\n",
      "    \n",
      "    class Error(builtins.Exception)\n",
      "     |  Common base class for all non-exit exceptions.\n",
      "     |  \n",
      "     |  Method resolution order:\n",
      "     |      Error\n",
      "     |      builtins.Exception\n",
      "     |      builtins.BaseException\n",
      "     |      builtins.object\n",
      "     |  \n",
      "     |  Data descriptors defined here:\n",
      "     |  \n",
      "     |  __weakref__\n",
      "     |      list of weak references to the object (if defined)\n",
      "     |  \n",
      "     |  ----------------------------------------------------------------------\n",
      "     |  Methods inherited from builtins.Exception:\n",
      "     |  \n",
      "     |  __init__(self, /, *args, **kwargs)\n",
      "     |      Initialize self.  See help(type(self)) for accurate signature.\n",
      "     |  \n",
      "     |  ----------------------------------------------------------------------\n",
      "     |  Static methods inherited from builtins.Exception:\n",
      "     |  \n",
      "     |  __new__(*args, **kwargs) from builtins.type\n",
      "     |      Create and return a new object.  See help(type) for accurate signature.\n",
      "     |  \n",
      "     |  ----------------------------------------------------------------------\n",
      "     |  Methods inherited from builtins.BaseException:\n",
      "     |  \n",
      "     |  __delattr__(self, name, /)\n",
      "     |      Implement delattr(self, name).\n",
      "     |  \n",
      "     |  __getattribute__(self, name, /)\n",
      "     |      Return getattr(self, name).\n",
      "     |  \n",
      "     |  __reduce__(...)\n",
      "     |      Helper for pickle.\n",
      "     |  \n",
      "     |  __repr__(self, /)\n",
      "     |      Return repr(self).\n",
      "     |  \n",
      "     |  __setattr__(self, name, value, /)\n",
      "     |      Implement setattr(self, name, value).\n",
      "     |  \n",
      "     |  __setstate__(...)\n",
      "     |  \n",
      "     |  __str__(self, /)\n",
      "     |      Return str(self).\n",
      "     |  \n",
      "     |  with_traceback(...)\n",
      "     |      Exception.with_traceback(tb) --\n",
      "     |      set self.__traceback__ to tb and return self.\n",
      "     |  \n",
      "     |  ----------------------------------------------------------------------\n",
      "     |  Data descriptors inherited from builtins.BaseException:\n",
      "     |  \n",
      "     |  __cause__\n",
      "     |      exception cause\n",
      "     |  \n",
      "     |  __context__\n",
      "     |      exception context\n",
      "     |  \n",
      "     |  __dict__\n",
      "     |  \n",
      "     |  __suppress_context__\n",
      "     |  \n",
      "     |  __traceback__\n",
      "     |  \n",
      "     |  args\n",
      "    \n",
      "    class Sniffer(builtins.object)\n",
      "     |  \"Sniffs\" the format of a CSV file (i.e. delimiter, quotechar)\n",
      "     |  Returns a Dialect object.\n",
      "     |  \n",
      "     |  Methods defined here:\n",
      "     |  \n",
      "     |  __init__(self)\n",
      "     |      Initialize self.  See help(type(self)) for accurate signature.\n",
      "     |  \n",
      "     |  has_header(self, sample)\n",
      "     |  \n",
      "     |  sniff(self, sample, delimiters=None)\n",
      "     |      Returns a dialect (or None) corresponding to the sample\n",
      "     |  \n",
      "     |  ----------------------------------------------------------------------\n",
      "     |  Data descriptors defined here:\n",
      "     |  \n",
      "     |  __dict__\n",
      "     |      dictionary for instance variables (if defined)\n",
      "     |  \n",
      "     |  __weakref__\n",
      "     |      list of weak references to the object (if defined)\n",
      "    \n",
      "    class excel(Dialect)\n",
      "     |  Describe the usual properties of Excel-generated CSV files.\n",
      "     |  \n",
      "     |  Method resolution order:\n",
      "     |      excel\n",
      "     |      Dialect\n",
      "     |      builtins.object\n",
      "     |  \n",
      "     |  Data and other attributes defined here:\n",
      "     |  \n",
      "     |  delimiter = ','\n",
      "     |  \n",
      "     |  doublequote = True\n",
      "     |  \n",
      "     |  lineterminator = '\\r\\n'\n",
      "     |  \n",
      "     |  quotechar = '\"'\n",
      "     |  \n",
      "     |  quoting = 0\n",
      "     |  \n",
      "     |  skipinitialspace = False\n",
      "     |  \n",
      "     |  ----------------------------------------------------------------------\n",
      "     |  Methods inherited from Dialect:\n",
      "     |  \n",
      "     |  __init__(self)\n",
      "     |      Initialize self.  See help(type(self)) for accurate signature.\n",
      "     |  \n",
      "     |  ----------------------------------------------------------------------\n",
      "     |  Data descriptors inherited from Dialect:\n",
      "     |  \n",
      "     |  __dict__\n",
      "     |      dictionary for instance variables (if defined)\n",
      "     |  \n",
      "     |  __weakref__\n",
      "     |      list of weak references to the object (if defined)\n",
      "     |  \n",
      "     |  ----------------------------------------------------------------------\n",
      "     |  Data and other attributes inherited from Dialect:\n",
      "     |  \n",
      "     |  escapechar = None\n",
      "    \n",
      "    class excel_tab(excel)\n",
      "     |  Describe the usual properties of Excel-generated TAB-delimited files.\n",
      "     |  \n",
      "     |  Method resolution order:\n",
      "     |      excel_tab\n",
      "     |      excel\n",
      "     |      Dialect\n",
      "     |      builtins.object\n",
      "     |  \n",
      "     |  Data and other attributes defined here:\n",
      "     |  \n",
      "     |  delimiter = '\\t'\n",
      "     |  \n",
      "     |  ----------------------------------------------------------------------\n",
      "     |  Data and other attributes inherited from excel:\n",
      "     |  \n",
      "     |  doublequote = True\n",
      "     |  \n",
      "     |  lineterminator = '\\r\\n'\n",
      "     |  \n",
      "     |  quotechar = '\"'\n",
      "     |  \n",
      "     |  quoting = 0\n",
      "     |  \n",
      "     |  skipinitialspace = False\n",
      "     |  \n",
      "     |  ----------------------------------------------------------------------\n",
      "     |  Methods inherited from Dialect:\n",
      "     |  \n",
      "     |  __init__(self)\n",
      "     |      Initialize self.  See help(type(self)) for accurate signature.\n",
      "     |  \n",
      "     |  ----------------------------------------------------------------------\n",
      "     |  Data descriptors inherited from Dialect:\n",
      "     |  \n",
      "     |  __dict__\n",
      "     |      dictionary for instance variables (if defined)\n",
      "     |  \n",
      "     |  __weakref__\n",
      "     |      list of weak references to the object (if defined)\n",
      "     |  \n",
      "     |  ----------------------------------------------------------------------\n",
      "     |  Data and other attributes inherited from Dialect:\n",
      "     |  \n",
      "     |  escapechar = None\n",
      "    \n",
      "    class unix_dialect(Dialect)\n",
      "     |  Describe the usual properties of Unix-generated CSV files.\n",
      "     |  \n",
      "     |  Method resolution order:\n",
      "     |      unix_dialect\n",
      "     |      Dialect\n",
      "     |      builtins.object\n",
      "     |  \n",
      "     |  Data and other attributes defined here:\n",
      "     |  \n",
      "     |  delimiter = ','\n",
      "     |  \n",
      "     |  doublequote = True\n",
      "     |  \n",
      "     |  lineterminator = '\\n'\n",
      "     |  \n",
      "     |  quotechar = '\"'\n",
      "     |  \n",
      "     |  quoting = 1\n",
      "     |  \n",
      "     |  skipinitialspace = False\n",
      "     |  \n",
      "     |  ----------------------------------------------------------------------\n",
      "     |  Methods inherited from Dialect:\n",
      "     |  \n",
      "     |  __init__(self)\n",
      "     |      Initialize self.  See help(type(self)) for accurate signature.\n",
      "     |  \n",
      "     |  ----------------------------------------------------------------------\n",
      "     |  Data descriptors inherited from Dialect:\n",
      "     |  \n",
      "     |  __dict__\n",
      "     |      dictionary for instance variables (if defined)\n",
      "     |  \n",
      "     |  __weakref__\n",
      "     |      list of weak references to the object (if defined)\n",
      "     |  \n",
      "     |  ----------------------------------------------------------------------\n",
      "     |  Data and other attributes inherited from Dialect:\n",
      "     |  \n",
      "     |  escapechar = None\n",
      "\n",
      "FUNCTIONS\n",
      "    field_size_limit(...)\n",
      "        Sets an upper limit on parsed fields.\n",
      "            csv.field_size_limit([limit])\n",
      "        \n",
      "        Returns old limit. If limit is not given, no new limit is set and\n",
      "        the old limit is returned\n",
      "    \n",
      "    get_dialect(...)\n",
      "        Return the dialect instance associated with name.\n",
      "        dialect = csv.get_dialect(name)\n",
      "    \n",
      "    list_dialects(...)\n",
      "        Return a list of all know dialect names.\n",
      "        names = csv.list_dialects()\n",
      "    \n",
      "    reader(...)\n",
      "        csv_reader = reader(iterable [, dialect='excel']\n",
      "                                [optional keyword args])\n",
      "            for row in csv_reader:\n",
      "                process(row)\n",
      "        \n",
      "        The \"iterable\" argument can be any object that returns a line\n",
      "        of input for each iteration, such as a file object or a list.  The\n",
      "        optional \"dialect\" parameter is discussed below.  The function\n",
      "        also accepts optional keyword arguments which override settings\n",
      "        provided by the dialect.\n",
      "        \n",
      "        The returned object is an iterator.  Each iteration returns a row\n",
      "        of the CSV file (which can span multiple input lines).\n",
      "    \n",
      "    register_dialect(...)\n",
      "        Create a mapping from a string name to a dialect class.\n",
      "        dialect = csv.register_dialect(name[, dialect[, **fmtparams]])\n",
      "    \n",
      "    unregister_dialect(...)\n",
      "        Delete the name/dialect mapping associated with a string name.\n",
      "        csv.unregister_dialect(name)\n",
      "    \n",
      "    writer(...)\n",
      "        csv_writer = csv.writer(fileobj [, dialect='excel']\n",
      "                                    [optional keyword args])\n",
      "            for row in sequence:\n",
      "                csv_writer.writerow(row)\n",
      "        \n",
      "            [or]\n",
      "        \n",
      "            csv_writer = csv.writer(fileobj [, dialect='excel']\n",
      "                                    [optional keyword args])\n",
      "            csv_writer.writerows(rows)\n",
      "        \n",
      "        The \"fileobj\" argument can be any object that supports the file API.\n",
      "\n",
      "DATA\n",
      "    QUOTE_ALL = 1\n",
      "    QUOTE_MINIMAL = 0\n",
      "    QUOTE_NONE = 3\n",
      "    QUOTE_NONNUMERIC = 2\n",
      "    __all__ = ['QUOTE_MINIMAL', 'QUOTE_ALL', 'QUOTE_NONNUMERIC', 'QUOTE_NO...\n",
      "\n",
      "VERSION\n",
      "    1.0\n",
      "\n",
      "FILE\n",
      "    c:\\users\\zarmi\\anaconda3\\lib\\csv.py\n",
      "\n",
      "\n"
     ]
    }
   ],
   "source": [
    "help(csv)"
   ]
  },
  {
   "cell_type": "code",
   "execution_count": 3,
   "metadata": {},
   "outputs": [
    {
     "name": "stdout",
     "output_type": "stream",
     "text": [
      "['R.N', 'StudentName', 'sem_12', 'mcq_mid_6']\n",
      "['4001', 'MUHAMMADRAHEELNAWAZ', '2', '3']\n",
      "['4002', 'FAIZANASHRAF', '6', '5']\n",
      "['4003', 'AMEERHAMZA', '5', '7']\n",
      "['4004', 'MUHAMMADUMARDARAZ', '5.5', '23']\n",
      "['4005', 'SHABANAMUNAWAR', '6.8', '56']\n",
      "['4006', 'ALEEMAHMAD', '9.7', '67']\n",
      "['4007', 'TAYYABAATTAF', '3', '22']\n",
      "['4008', 'HARISYOUSAF', '12.7', '33']\n",
      "['4009', 'AHMADRAZA', '12.9', '12']\n",
      "['4010', 'IQRARAMZAN', '22', '89']\n",
      "['4011', 'Ch Ahmed', '22', '49']\n",
      "['4012', 'Nimra', '27', '90']\n",
      "['4013', 'Hunzala', '30', '98']\n"
     ]
    }
   ],
   "source": [
    "with open('test.csv', 'r') as file:\n",
    "    reader = csv.reader(file)\n",
    "    for row in reader:\n",
    "        print(row)"
   ]
  },
  {
   "cell_type": "code",
   "execution_count": 4,
   "metadata": {},
   "outputs": [
    {
     "name": "stdout",
     "output_type": "stream",
     "text": [
      "Help on built-in function writer in module _csv:\n",
      "\n",
      "writer(...)\n",
      "    csv_writer = csv.writer(fileobj [, dialect='excel']\n",
      "                                [optional keyword args])\n",
      "        for row in sequence:\n",
      "            csv_writer.writerow(row)\n",
      "    \n",
      "        [or]\n",
      "    \n",
      "        csv_writer = csv.writer(fileobj [, dialect='excel']\n",
      "                                [optional keyword args])\n",
      "        csv_writer.writerows(rows)\n",
      "    \n",
      "    The \"fileobj\" argument can be any object that supports the file API.\n",
      "\n"
     ]
    }
   ],
   "source": [
    "help(csv.writer)"
   ]
  },
  {
   "cell_type": "code",
   "execution_count": 8,
   "metadata": {},
   "outputs": [],
   "source": [
    "with open('test2.csv', 'w', newline='') as file:\n",
    "    writer = csv.writer(file)\n",
    "    writer.writerow(['Emp No', 'EmpName', 'Salary', 'Holiday Balance'])\n",
    "    writer.writerow(['1','Ahmed', '1000000', '15'])\n",
    "    writer.writerow(['2','Ashraf', '100000000', '35'])\n",
    "    writer.writerow(['3','Sohail', '50000000', '5'])\n",
    "    writer.writerow(['4','Zohaib', '10000000000', '1'])"
   ]
  },
  {
   "cell_type": "code",
   "execution_count": 9,
   "metadata": {},
   "outputs": [
    {
     "name": "stdout",
     "output_type": "stream",
     "text": [
      "['Emp No', 'EmpName', 'Salary', 'Holiday Balance']\n",
      "['1', 'Ahmed', '1000000', '15']\n",
      "['2', 'Ashraf', '100000000', '35']\n",
      "['3', 'Sohail', '50000000', '5']\n",
      "['4', 'Zohaib', '10000000000', '1']\n"
     ]
    }
   ],
   "source": [
    "with open('test2.csv', 'r') as file:\n",
    "    reader = csv.reader(file)\n",
    "    for row in reader:\n",
    "        print(row)"
   ]
  },
  {
   "cell_type": "code",
   "execution_count": 12,
   "metadata": {},
   "outputs": [],
   "source": [
    "csv_rowlist = [['Emp No', 'EmpName', 'Salary', 'Holiday Balance']\n",
    "                , ['1','Ahmed', '1000000', '15']\n",
    "                , ['2','Ashraf', '100000000', '35']\n",
    "                , ['3','Sohail', '50000000', '5']\n",
    "                , ['4','Zohaib', '10000000000', '1']]\n",
    "\n",
    "with open('test3.csv', 'w', newline='') as file:\n",
    "    writer = csv.writer(file)\n",
    "    writer.writerows(csv_rowlist)"
   ]
  },
  {
   "cell_type": "code",
   "execution_count": 13,
   "metadata": {},
   "outputs": [
    {
     "name": "stdout",
     "output_type": "stream",
     "text": [
      "['Emp No', 'EmpName', 'Salary', 'Holiday Balance']\n",
      "['1', 'Ahmed', '1000000', '15']\n",
      "['2', 'Ashraf', '100000000', '35']\n",
      "['3', 'Sohail', '50000000', '5']\n",
      "['4', 'Zohaib', '10000000000', '1']\n"
     ]
    }
   ],
   "source": [
    "with open('test3.csv', 'r') as file:\n",
    "    reader = csv.reader(file)\n",
    "    for row in reader:\n",
    "        print(row)"
   ]
  },
  {
   "cell_type": "code",
   "execution_count": 14,
   "metadata": {},
   "outputs": [],
   "source": [
    "csv_rowlist = [['Emp No', 'EmpName', 'Salary', 'Holiday Balance']\n",
    "                , ['1','Ahmed', '1000000', '15']\n",
    "                ]\n",
    "\n",
    "with open('test3.csv', 'w', newline='') as file:\n",
    "    writer = csv.writer(file)\n",
    "    writer.writerows(csv_rowlist)"
   ]
  },
  {
   "cell_type": "code",
   "execution_count": 15,
   "metadata": {},
   "outputs": [
    {
     "name": "stdout",
     "output_type": "stream",
     "text": [
      "['Emp No', 'EmpName', 'Salary', 'Holiday Balance']\n",
      "['1', 'Ahmed', '1000000', '15']\n"
     ]
    }
   ],
   "source": [
    "with open('test3.csv', 'r') as file:\n",
    "    reader = csv.reader(file)\n",
    "    for row in reader:\n",
    "        print(row)"
   ]
  },
  {
   "cell_type": "code",
   "execution_count": 16,
   "metadata": {},
   "outputs": [],
   "source": [
    "csv_rowlist = [['2','Ashraf', '100000000', '35']\n",
    "                , ['3','Sohail', '50000000', '5']\n",
    "                , ['4','Zohaib', '10000000000', '1']]\n",
    "\n",
    "with open('test3.csv', 'a', newline='') as file:\n",
    "    writer = csv.writer(file)\n",
    "    writer.writerows(csv_rowlist)"
   ]
  },
  {
   "cell_type": "code",
   "execution_count": 17,
   "metadata": {},
   "outputs": [
    {
     "name": "stdout",
     "output_type": "stream",
     "text": [
      "['Emp No', 'EmpName', 'Salary', 'Holiday Balance']\n",
      "['1', 'Ahmed', '1000000', '15']\n",
      "['2', 'Ashraf', '100000000', '35']\n",
      "['3', 'Sohail', '50000000', '5']\n",
      "['4', 'Zohaib', '10000000000', '1']\n"
     ]
    }
   ],
   "source": [
    "with open('test3.csv', 'r') as file:\n",
    "    reader = csv.reader(file)\n",
    "    for row in reader:\n",
    "        print(row)"
   ]
  },
  {
   "cell_type": "code",
   "execution_count": 22,
   "metadata": {},
   "outputs": [],
   "source": [
    "fieldnames = ['Emp No', 'EmpName', 'Salary', 'Holiday Balance', 'Ethnicity']\n",
    "\n",
    "rows_list = [ {'Emp No': '1','EmpName': 'Ahmed', 'Salary': '1000000', 'Holiday Balance': '15', 'Ethnicity': 'Asian'}\n",
    "            , {'Emp No': '2','EmpName': 'John', 'Salary': '100000000', 'Holiday Balance': '35', 'Ethnicity': 'White'}\n",
    "            , {'Emp No': '3','EmpName': 'Yi Un', 'Salary': '50000000', 'Holiday Balance': '5', 'Ethnicity': 'Asian'}\n",
    "            , {'Emp No': '4','EmpName': 'Zohaib', 'Salary': '10000000000', 'Holiday Balance': '1', 'Ethnicity': 'Asian'}]\n",
    "\n",
    "with open('test4.csv', 'w', newline='') as file:\n",
    "    writer = csv.DictWriter(file, fieldnames=fieldnames)\n",
    "    writer.writeheader()\n",
    "    writer.writerows(rows_list)"
   ]
  },
  {
   "cell_type": "code",
   "execution_count": 18,
   "metadata": {},
   "outputs": [
    {
     "name": "stdout",
     "output_type": "stream",
     "text": [
      "Help on class DictWriter in module csv:\n",
      "\n",
      "class DictWriter(builtins.object)\n",
      " |  DictWriter(f, fieldnames, restval='', extrasaction='raise', dialect='excel', *args, **kwds)\n",
      " |  \n",
      " |  Methods defined here:\n",
      " |  \n",
      " |  __init__(self, f, fieldnames, restval='', extrasaction='raise', dialect='excel', *args, **kwds)\n",
      " |      Initialize self.  See help(type(self)) for accurate signature.\n",
      " |  \n",
      " |  writeheader(self)\n",
      " |  \n",
      " |  writerow(self, rowdict)\n",
      " |  \n",
      " |  writerows(self, rowdicts)\n",
      " |  \n",
      " |  ----------------------------------------------------------------------\n",
      " |  Data descriptors defined here:\n",
      " |  \n",
      " |  __dict__\n",
      " |      dictionary for instance variables (if defined)\n",
      " |  \n",
      " |  __weakref__\n",
      " |      list of weak references to the object (if defined)\n",
      "\n"
     ]
    }
   ],
   "source": [
    "help(csv.DictWriter)"
   ]
  },
  {
   "cell_type": "code",
   "execution_count": 23,
   "metadata": {},
   "outputs": [
    {
     "name": "stdout",
     "output_type": "stream",
     "text": [
      "Help on class DictReader in module csv:\n",
      "\n",
      "class DictReader(builtins.object)\n",
      " |  DictReader(f, fieldnames=None, restkey=None, restval=None, dialect='excel', *args, **kwds)\n",
      " |  \n",
      " |  Methods defined here:\n",
      " |  \n",
      " |  __init__(self, f, fieldnames=None, restkey=None, restval=None, dialect='excel', *args, **kwds)\n",
      " |      Initialize self.  See help(type(self)) for accurate signature.\n",
      " |  \n",
      " |  __iter__(self)\n",
      " |  \n",
      " |  __next__(self)\n",
      " |  \n",
      " |  ----------------------------------------------------------------------\n",
      " |  Data descriptors defined here:\n",
      " |  \n",
      " |  __dict__\n",
      " |      dictionary for instance variables (if defined)\n",
      " |  \n",
      " |  __weakref__\n",
      " |      list of weak references to the object (if defined)\n",
      " |  \n",
      " |  fieldnames\n",
      "\n"
     ]
    }
   ],
   "source": [
    "help(csv.DictReader)"
   ]
  },
  {
   "cell_type": "code",
   "execution_count": 24,
   "metadata": {},
   "outputs": [
    {
     "name": "stdout",
     "output_type": "stream",
     "text": [
      "{'Emp No': 'Emp No', 'EmpName': 'EmpName', 'Salary': 'Salary', 'Holiday Balance': 'Holiday Balance', 'Ethnicity': 'Ethnicity'}\n",
      "{'Emp No': '1', 'EmpName': 'Ahmed', 'Salary': '1000000', 'Holiday Balance': '15', 'Ethnicity': 'Asian'}\n",
      "{'Emp No': '2', 'EmpName': 'John', 'Salary': '100000000', 'Holiday Balance': '35', 'Ethnicity': 'White'}\n",
      "{'Emp No': '3', 'EmpName': 'Yi Un', 'Salary': '50000000', 'Holiday Balance': '5', 'Ethnicity': 'Asian'}\n",
      "{'Emp No': '4', 'EmpName': 'Zohaib', 'Salary': '10000000000', 'Holiday Balance': '1', 'Ethnicity': 'Asian'}\n"
     ]
    }
   ],
   "source": [
    "with open('test4.csv', 'r') as file:\n",
    "    reader = csv.DictReader(file, fieldnames=fieldnames)\n",
    "    for row in reader:\n",
    "        print(row)"
   ]
  },
  {
   "cell_type": "code",
   "execution_count": 25,
   "metadata": {},
   "outputs": [
    {
     "name": "stdout",
     "output_type": "stream",
     "text": [
      "['Emp No', 'EmpName', 'Salary', 'Holiday Balance', 'Ethnicity']\n",
      "['1', 'Ahmed', '1000000', '15', 'Asian']\n",
      "['2', 'John', '100000000', '35', 'White']\n",
      "['3', 'Yi Un', '50000000', '5', 'Asian']\n",
      "['4', 'Zohaib', '10000000000', '1', 'Asian']\n"
     ]
    }
   ],
   "source": [
    "with open('test4.csv', 'r') as file:\n",
    "    reader = csv.reader(file)\n",
    "    for row in reader:\n",
    "        print(row)"
   ]
  },
  {
   "cell_type": "code",
   "execution_count": 26,
   "metadata": {},
   "outputs": [],
   "source": [
    "rows_to_append = [{'Emp No': '5', 'EmpName': 'David', 'Salary': '10000000', 'Holiday Balance': '9', 'Ethnicity': 'Black'}\n",
    "                 , {'Emp No': '6', 'EmpName': 'Ashraf', 'Salary': '100000', 'Holiday Balance': '6', 'Ethnicity': 'Asian'}]\n",
    "\n",
    "with open('test4.csv', 'a', newline='') as file:\n",
    "    writer = csv.DictWriter(file, fieldnames=fieldnames)\n",
    "    writer.writerows(rows_to_append)"
   ]
  },
  {
   "cell_type": "code",
   "execution_count": 27,
   "metadata": {},
   "outputs": [
    {
     "name": "stdout",
     "output_type": "stream",
     "text": [
      "{'Emp No': 'Emp No', 'EmpName': 'EmpName', 'Salary': 'Salary', 'Holiday Balance': 'Holiday Balance', 'Ethnicity': 'Ethnicity'}\n",
      "{'Emp No': '1', 'EmpName': 'Ahmed', 'Salary': '1000000', 'Holiday Balance': '15', 'Ethnicity': 'Asian'}\n",
      "{'Emp No': '2', 'EmpName': 'John', 'Salary': '100000000', 'Holiday Balance': '35', 'Ethnicity': 'White'}\n",
      "{'Emp No': '3', 'EmpName': 'Yi Un', 'Salary': '50000000', 'Holiday Balance': '5', 'Ethnicity': 'Asian'}\n",
      "{'Emp No': '4', 'EmpName': 'Zohaib', 'Salary': '10000000000', 'Holiday Balance': '1', 'Ethnicity': 'Asian'}\n",
      "{'Emp No': '5', 'EmpName': 'David', 'Salary': '10000000', 'Holiday Balance': '9', 'Ethnicity': 'Black'}\n",
      "{'Emp No': '6', 'EmpName': 'Ashraf', 'Salary': '100000', 'Holiday Balance': '6', 'Ethnicity': 'Asian'}\n"
     ]
    }
   ],
   "source": [
    "with open('test4.csv', 'r') as file:\n",
    "    reader = csv.DictReader(file, fieldnames=fieldnames)\n",
    "    for row in reader:\n",
    "        print(row)"
   ]
  },
  {
   "cell_type": "code",
   "execution_count": 28,
   "metadata": {},
   "outputs": [
    {
     "name": "stdout",
     "output_type": "stream",
     "text": [
      "['Emp No', 'EmpName', 'Salary', 'Holiday Balance', 'Ethnicity']\n",
      "['1', 'Ahmed', '1000000', '15', 'Asian']\n",
      "['2', 'John', '100000000', '35', 'White']\n",
      "['3', 'Yi Un', '50000000', '5', 'Asian']\n",
      "['4', 'Zohaib', '10000000000', '1', 'Asian']\n",
      "['5', 'David', '10000000', '9', 'Black']\n",
      "['6', 'Ashraf', '100000', '6', 'Asian']\n"
     ]
    }
   ],
   "source": [
    "with open('test4.csv', 'r') as file:\n",
    "    reader = csv.reader(file)\n",
    "    for row in reader:\n",
    "        print(row)"
   ]
  },
  {
   "cell_type": "code",
   "execution_count": null,
   "metadata": {},
   "outputs": [],
   "source": []
  }
 ],
 "metadata": {
  "kernelspec": {
   "display_name": "Python 3",
   "language": "python",
   "name": "python3"
  },
  "language_info": {
   "codemirror_mode": {
    "name": "ipython",
    "version": 3
   },
   "file_extension": ".py",
   "mimetype": "text/x-python",
   "name": "python",
   "nbconvert_exporter": "python",
   "pygments_lexer": "ipython3",
   "version": "3.8.5"
  },
  "toc": {
   "base_numbering": 1,
   "nav_menu": {},
   "number_sections": true,
   "sideBar": true,
   "skip_h1_title": false,
   "title_cell": "Table of Contents",
   "title_sidebar": "Contents",
   "toc_cell": false,
   "toc_position": {},
   "toc_section_display": true,
   "toc_window_display": false
  },
  "varInspector": {
   "cols": {
    "lenName": 16,
    "lenType": 16,
    "lenVar": 40
   },
   "kernels_config": {
    "python": {
     "delete_cmd_postfix": "",
     "delete_cmd_prefix": "del ",
     "library": "var_list.py",
     "varRefreshCmd": "print(var_dic_list())"
    },
    "r": {
     "delete_cmd_postfix": ") ",
     "delete_cmd_prefix": "rm(",
     "library": "var_list.r",
     "varRefreshCmd": "cat(var_dic_list()) "
    }
   },
   "types_to_exclude": [
    "module",
    "function",
    "builtin_function_or_method",
    "instance",
    "_Feature"
   ],
   "window_display": false
  }
 },
 "nbformat": 4,
 "nbformat_minor": 5
}
