{
 "cells": [
  {
   "cell_type": "markdown",
   "id": "c6daba67",
   "metadata": {},
   "source": [
    "# Conditional Statements (Continued)"
   ]
  },
  {
   "cell_type": "code",
   "execution_count": 1,
   "id": "276c981b",
   "metadata": {
    "ExecuteTime": {
     "end_time": "2022-07-22T13:00:33.766599Z",
     "start_time": "2022-07-22T13:00:12.649806Z"
    }
   },
   "outputs": [
    {
     "name": "stdout",
     "output_type": "stream",
     "text": [
      "Enter your SAT score = 45\n",
      "Enter your CGPA = 2.3\n",
      "Was your parent an alumnus (yes or no) = yes\n",
      "Wrong Input!\n"
     ]
    }
   ],
   "source": [
    "sat_score = int(input(\"Enter your SAT score = \"))\n",
    "cgpa = float(input(\"Enter your CGPA = \"))\n",
    "alum_status = input(\"Was your parent an alumnus (yes or no) = \")\n",
    "\n",
    "if (sat_score < 0 or sat_score > 2400) or (cgpa < 0.0 or cgpa > 4.0) or not(alum_status.lower() == \"yes\") or not(alum_status.lower() == \"no\"):\n",
    "    print(\"Wrong Input!\")\n",
    "\n",
    "elif (1800 <= sat_score <= 2400 and 2.4 < cgpa <= 4.0) or (alum_status.lower() == \"yes\"):\n",
    "    print(\"Admission Granted!\")\n",
    "\n",
    "else:\n",
    "    print(\"Admission not Granted!\")"
   ]
  },
  {
   "cell_type": "code",
   "execution_count": 2,
   "id": "e015053a",
   "metadata": {
    "ExecuteTime": {
     "end_time": "2022-07-22T13:00:33.796787Z",
     "start_time": "2022-07-22T13:00:33.774917Z"
    }
   },
   "outputs": [],
   "source": [
    "# (2300 < 0 or 2300 > 2400) \n",
    "# (2.5 < 0.0 or 2.5 > 4.0) \n",
    "# not('no'.lower() == \"yes\") \n",
    "# not('no'.lower() == \"no\")"
   ]
  },
  {
   "cell_type": "code",
   "execution_count": 3,
   "id": "eb1690fc",
   "metadata": {
    "ExecuteTime": {
     "end_time": "2022-07-22T13:00:33.874363Z",
     "start_time": "2022-07-22T13:00:33.803787Z"
    }
   },
   "outputs": [
    {
     "data": {
      "text/plain": [
       "False"
      ]
     },
     "execution_count": 3,
     "metadata": {},
     "output_type": "execute_result"
    }
   ],
   "source": [
    "False or False or (False and True)"
   ]
  },
  {
   "cell_type": "markdown",
   "id": "111336e0",
   "metadata": {},
   "source": [
    "# LISTS\n",
    "* Linear Data Structures\n",
    "* Iterable"
   ]
  },
  {
   "cell_type": "code",
   "execution_count": 4,
   "id": "ee2e4fe2",
   "metadata": {
    "ExecuteTime": {
     "end_time": "2022-07-22T13:00:33.904779Z",
     "start_time": "2022-07-22T13:00:33.884902Z"
    }
   },
   "outputs": [
    {
     "name": "stdout",
     "output_type": "stream",
     "text": [
      "[1, 2, 3]\n",
      "['Talha', 1, 2.5, 'Ahmed']\n",
      "[]\n"
     ]
    }
   ],
   "source": [
    "num_list = [1, 2, 3]\n",
    "print(num_list)\n",
    "\n",
    "mixed_list = [\"Talha\", 1, 2.5, \"Ahmed\"]\n",
    "print(mixed_list)\n",
    "\n",
    "empty_list = []\n",
    "print(empty_list)"
   ]
  },
  {
   "cell_type": "code",
   "execution_count": 5,
   "id": "a3570721",
   "metadata": {
    "ExecuteTime": {
     "end_time": "2022-07-22T13:00:33.935837Z",
     "start_time": "2022-07-22T13:00:33.912890Z"
    }
   },
   "outputs": [
    {
     "data": {
      "text/plain": [
       "list"
      ]
     },
     "execution_count": 5,
     "metadata": {},
     "output_type": "execute_result"
    }
   ],
   "source": [
    "type(mixed_list)"
   ]
  },
  {
   "cell_type": "code",
   "execution_count": 6,
   "id": "1bad582f",
   "metadata": {
    "ExecuteTime": {
     "end_time": "2022-07-22T13:00:33.966172Z",
     "start_time": "2022-07-22T13:00:33.943547Z"
    }
   },
   "outputs": [
    {
     "name": "stdout",
     "output_type": "stream",
     "text": [
      "<class 'str'>\n",
      "<class 'int'>\n",
      "<class 'float'>\n",
      "<class 'str'>\n"
     ]
    }
   ],
   "source": [
    "print(type(mixed_list[0]))\n",
    "print(type(mixed_list[1]))\n",
    "print(type(mixed_list[2]))\n",
    "print(type(mixed_list[3]))"
   ]
  },
  {
   "cell_type": "code",
   "execution_count": 7,
   "id": "ea54022e",
   "metadata": {
    "ExecuteTime": {
     "end_time": "2022-07-22T13:00:33.996567Z",
     "start_time": "2022-07-22T13:00:33.974109Z"
    }
   },
   "outputs": [
    {
     "name": "stdout",
     "output_type": "stream",
     "text": [
      "Talha\n",
      "2\n"
     ]
    }
   ],
   "source": [
    "print(mixed_list[0])\n",
    "print(mixed_list[0].count('a'))"
   ]
  },
  {
   "cell_type": "code",
   "execution_count": 8,
   "id": "5cce0331",
   "metadata": {
    "ExecuteTime": {
     "end_time": "2022-07-22T13:00:34.028567Z",
     "start_time": "2022-07-22T13:00:34.005565Z"
    }
   },
   "outputs": [],
   "source": [
    "cities = ['FSD', 'RWP', 'ISL']"
   ]
  },
  {
   "cell_type": "code",
   "execution_count": 9,
   "id": "1bc4f644",
   "metadata": {
    "ExecuteTime": {
     "end_time": "2022-07-22T13:00:34.073202Z",
     "start_time": "2022-07-22T13:00:34.047656Z"
    }
   },
   "outputs": [
    {
     "data": {
      "text/plain": [
       "'ISL'"
      ]
     },
     "execution_count": 9,
     "metadata": {},
     "output_type": "execute_result"
    }
   ],
   "source": [
    "#negative index\n",
    "cities[-1]"
   ]
  },
  {
   "cell_type": "code",
   "execution_count": 10,
   "id": "b10e7c96",
   "metadata": {
    "ExecuteTime": {
     "end_time": "2022-07-22T13:00:34.166835Z",
     "start_time": "2022-07-22T13:00:34.141840Z"
    }
   },
   "outputs": [
    {
     "data": {
      "text/plain": [
       "'ISL'"
      ]
     },
     "execution_count": 10,
     "metadata": {},
     "output_type": "execute_result"
    }
   ],
   "source": [
    "cities[2]"
   ]
  },
  {
   "cell_type": "code",
   "execution_count": 11,
   "id": "efe489b1",
   "metadata": {
    "ExecuteTime": {
     "end_time": "2022-07-22T13:00:34.198604Z",
     "start_time": "2022-07-22T13:00:34.175681Z"
    }
   },
   "outputs": [
    {
     "name": "stdout",
     "output_type": "stream",
     "text": [
      "RWP\n",
      "RWP\n",
      "['RWP']\n",
      "['RWP']\n"
     ]
    }
   ],
   "source": [
    "print(cities[1])\n",
    "print(cities[-2])\n",
    "print(cities[1:2])\n",
    "print(cities[-2:-1])"
   ]
  },
  {
   "cell_type": "code",
   "execution_count": 12,
   "id": "cdd4f5b1",
   "metadata": {
    "ExecuteTime": {
     "end_time": "2022-07-22T13:00:34.274963Z",
     "start_time": "2022-07-22T13:00:34.206604Z"
    }
   },
   "outputs": [
    {
     "name": "stdout",
     "output_type": "stream",
     "text": [
      "<class 'str'>\n",
      "<class 'str'>\n",
      "<class 'list'>\n"
     ]
    }
   ],
   "source": [
    "print(type(cities[1]))\n",
    "print(type(cities[-2]))\n",
    "print(type(cities[1:2]))"
   ]
  },
  {
   "cell_type": "code",
   "execution_count": 13,
   "id": "1bd791d0",
   "metadata": {
    "ExecuteTime": {
     "end_time": "2022-07-22T13:00:34.353593Z",
     "start_time": "2022-07-22T13:00:34.281979Z"
    },
    "scrolled": true
   },
   "outputs": [
    {
     "name": "stdout",
     "output_type": "stream",
     "text": [
      "Help on class list in module builtins:\n",
      "\n",
      "class list(object)\n",
      " |  list(iterable=(), /)\n",
      " |  \n",
      " |  Built-in mutable sequence.\n",
      " |  \n",
      " |  If no argument is given, the constructor creates a new empty list.\n",
      " |  The argument must be an iterable if specified.\n",
      " |  \n",
      " |  Methods defined here:\n",
      " |  \n",
      " |  __add__(self, value, /)\n",
      " |      Return self+value.\n",
      " |  \n",
      " |  __contains__(self, key, /)\n",
      " |      Return key in self.\n",
      " |  \n",
      " |  __delitem__(self, key, /)\n",
      " |      Delete self[key].\n",
      " |  \n",
      " |  __eq__(self, value, /)\n",
      " |      Return self==value.\n",
      " |  \n",
      " |  __ge__(self, value, /)\n",
      " |      Return self>=value.\n",
      " |  \n",
      " |  __getattribute__(self, name, /)\n",
      " |      Return getattr(self, name).\n",
      " |  \n",
      " |  __getitem__(...)\n",
      " |      x.__getitem__(y) <==> x[y]\n",
      " |  \n",
      " |  __gt__(self, value, /)\n",
      " |      Return self>value.\n",
      " |  \n",
      " |  __iadd__(self, value, /)\n",
      " |      Implement self+=value.\n",
      " |  \n",
      " |  __imul__(self, value, /)\n",
      " |      Implement self*=value.\n",
      " |  \n",
      " |  __init__(self, /, *args, **kwargs)\n",
      " |      Initialize self.  See help(type(self)) for accurate signature.\n",
      " |  \n",
      " |  __iter__(self, /)\n",
      " |      Implement iter(self).\n",
      " |  \n",
      " |  __le__(self, value, /)\n",
      " |      Return self<=value.\n",
      " |  \n",
      " |  __len__(self, /)\n",
      " |      Return len(self).\n",
      " |  \n",
      " |  __lt__(self, value, /)\n",
      " |      Return self<value.\n",
      " |  \n",
      " |  __mul__(self, value, /)\n",
      " |      Return self*value.\n",
      " |  \n",
      " |  __ne__(self, value, /)\n",
      " |      Return self!=value.\n",
      " |  \n",
      " |  __repr__(self, /)\n",
      " |      Return repr(self).\n",
      " |  \n",
      " |  __reversed__(self, /)\n",
      " |      Return a reverse iterator over the list.\n",
      " |  \n",
      " |  __rmul__(self, value, /)\n",
      " |      Return value*self.\n",
      " |  \n",
      " |  __setitem__(self, key, value, /)\n",
      " |      Set self[key] to value.\n",
      " |  \n",
      " |  __sizeof__(self, /)\n",
      " |      Return the size of the list in memory, in bytes.\n",
      " |  \n",
      " |  append(self, object, /)\n",
      " |      Append object to the end of the list.\n",
      " |  \n",
      " |  clear(self, /)\n",
      " |      Remove all items from list.\n",
      " |  \n",
      " |  copy(self, /)\n",
      " |      Return a shallow copy of the list.\n",
      " |  \n",
      " |  count(self, value, /)\n",
      " |      Return number of occurrences of value.\n",
      " |  \n",
      " |  extend(self, iterable, /)\n",
      " |      Extend list by appending elements from the iterable.\n",
      " |  \n",
      " |  index(self, value, start=0, stop=9223372036854775807, /)\n",
      " |      Return first index of value.\n",
      " |      \n",
      " |      Raises ValueError if the value is not present.\n",
      " |  \n",
      " |  insert(self, index, object, /)\n",
      " |      Insert object before index.\n",
      " |  \n",
      " |  pop(self, index=-1, /)\n",
      " |      Remove and return item at index (default last).\n",
      " |      \n",
      " |      Raises IndexError if list is empty or index is out of range.\n",
      " |  \n",
      " |  remove(self, value, /)\n",
      " |      Remove first occurrence of value.\n",
      " |      \n",
      " |      Raises ValueError if the value is not present.\n",
      " |  \n",
      " |  reverse(self, /)\n",
      " |      Reverse *IN PLACE*.\n",
      " |  \n",
      " |  sort(self, /, *, key=None, reverse=False)\n",
      " |      Stable sort *IN PLACE*.\n",
      " |  \n",
      " |  ----------------------------------------------------------------------\n",
      " |  Static methods defined here:\n",
      " |  \n",
      " |  __new__(*args, **kwargs) from builtins.type\n",
      " |      Create and return a new object.  See help(type) for accurate signature.\n",
      " |  \n",
      " |  ----------------------------------------------------------------------\n",
      " |  Data and other attributes defined here:\n",
      " |  \n",
      " |  __hash__ = None\n",
      "\n"
     ]
    }
   ],
   "source": [
    "help(list)"
   ]
  },
  {
   "cell_type": "code",
   "execution_count": 14,
   "id": "eca61c8e",
   "metadata": {
    "ExecuteTime": {
     "end_time": "2022-07-22T13:00:34.386059Z",
     "start_time": "2022-07-22T13:00:34.361954Z"
    }
   },
   "outputs": [
    {
     "data": {
      "text/plain": [
       "['FSD', 'RWP', 'ISL']"
      ]
     },
     "execution_count": 14,
     "metadata": {},
     "output_type": "execute_result"
    }
   ],
   "source": [
    "cities"
   ]
  },
  {
   "cell_type": "code",
   "execution_count": 15,
   "id": "35d540d7",
   "metadata": {
    "ExecuteTime": {
     "end_time": "2022-07-22T13:00:34.415806Z",
     "start_time": "2022-07-22T13:00:34.396957Z"
    }
   },
   "outputs": [],
   "source": [
    "cities.append('JHG')"
   ]
  },
  {
   "cell_type": "code",
   "execution_count": 16,
   "id": "cf0a46bf",
   "metadata": {
    "ExecuteTime": {
     "end_time": "2022-07-22T13:00:34.476680Z",
     "start_time": "2022-07-22T13:00:34.426745Z"
    }
   },
   "outputs": [
    {
     "data": {
      "text/plain": [
       "['FSD', 'RWP', 'ISL', 'JHG']"
      ]
     },
     "execution_count": 16,
     "metadata": {},
     "output_type": "execute_result"
    }
   ],
   "source": [
    "cities"
   ]
  },
  {
   "cell_type": "code",
   "execution_count": 17,
   "id": "4375606c",
   "metadata": {
    "ExecuteTime": {
     "end_time": "2022-07-22T13:00:34.492794Z",
     "start_time": "2022-07-22T13:00:34.483679Z"
    }
   },
   "outputs": [],
   "source": [
    "cities.extend('JHG')"
   ]
  },
  {
   "cell_type": "code",
   "execution_count": 18,
   "id": "4496cc56",
   "metadata": {
    "ExecuteTime": {
     "end_time": "2022-07-22T13:00:34.523795Z",
     "start_time": "2022-07-22T13:00:34.500844Z"
    }
   },
   "outputs": [
    {
     "data": {
      "text/plain": [
       "['FSD', 'RWP', 'ISL', 'JHG', 'J', 'H', 'G']"
      ]
     },
     "execution_count": 18,
     "metadata": {},
     "output_type": "execute_result"
    }
   ],
   "source": [
    "cities"
   ]
  },
  {
   "cell_type": "code",
   "execution_count": 19,
   "id": "1aa57c80",
   "metadata": {
    "ExecuteTime": {
     "end_time": "2022-07-22T13:00:34.553794Z",
     "start_time": "2022-07-22T13:00:34.532847Z"
    }
   },
   "outputs": [],
   "source": [
    "cities.extend(['JHG'])"
   ]
  },
  {
   "cell_type": "code",
   "execution_count": 20,
   "id": "f3ca48b1",
   "metadata": {
    "ExecuteTime": {
     "end_time": "2022-07-22T13:00:34.584596Z",
     "start_time": "2022-07-22T13:00:34.560793Z"
    }
   },
   "outputs": [
    {
     "data": {
      "text/plain": [
       "['FSD', 'RWP', 'ISL', 'JHG', 'J', 'H', 'G', 'JHG']"
      ]
     },
     "execution_count": 20,
     "metadata": {},
     "output_type": "execute_result"
    }
   ],
   "source": [
    "cities"
   ]
  },
  {
   "cell_type": "code",
   "execution_count": 21,
   "id": "f7b2b7f8",
   "metadata": {
    "ExecuteTime": {
     "end_time": "2022-07-22T13:00:34.600598Z",
     "start_time": "2022-07-22T13:00:34.590723Z"
    }
   },
   "outputs": [],
   "source": [
    "cities.extend(['KHI', 'MLT', 'SRG'])"
   ]
  },
  {
   "cell_type": "code",
   "execution_count": 22,
   "id": "ddf58082",
   "metadata": {
    "ExecuteTime": {
     "end_time": "2022-07-22T13:00:34.631596Z",
     "start_time": "2022-07-22T13:00:34.610594Z"
    }
   },
   "outputs": [
    {
     "data": {
      "text/plain": [
       "['FSD', 'RWP', 'ISL', 'JHG', 'J', 'H', 'G', 'JHG', 'KHI', 'MLT', 'SRG']"
      ]
     },
     "execution_count": 22,
     "metadata": {},
     "output_type": "execute_result"
    }
   ],
   "source": [
    "cities"
   ]
  },
  {
   "cell_type": "code",
   "execution_count": 23,
   "id": "e1a88227",
   "metadata": {
    "ExecuteTime": {
     "end_time": "2022-07-22T13:00:34.646595Z",
     "start_time": "2022-07-22T13:00:34.638595Z"
    }
   },
   "outputs": [],
   "source": [
    "cities.append(['KHI', 'MLT'])"
   ]
  },
  {
   "cell_type": "code",
   "execution_count": 24,
   "id": "12aa0e03",
   "metadata": {
    "ExecuteTime": {
     "end_time": "2022-07-22T13:00:34.677446Z",
     "start_time": "2022-07-22T13:00:34.653592Z"
    }
   },
   "outputs": [
    {
     "data": {
      "text/plain": [
       "['FSD',\n",
       " 'RWP',\n",
       " 'ISL',\n",
       " 'JHG',\n",
       " 'J',\n",
       " 'H',\n",
       " 'G',\n",
       " 'JHG',\n",
       " 'KHI',\n",
       " 'MLT',\n",
       " 'SRG',\n",
       " ['KHI', 'MLT']]"
      ]
     },
     "execution_count": 24,
     "metadata": {},
     "output_type": "execute_result"
    }
   ],
   "source": [
    "cities"
   ]
  },
  {
   "cell_type": "code",
   "execution_count": 25,
   "id": "320ba666",
   "metadata": {
    "ExecuteTime": {
     "end_time": "2022-07-22T13:00:35.112069Z",
     "start_time": "2022-07-22T13:00:34.684447Z"
    }
   },
   "outputs": [
    {
     "ename": "TypeError",
     "evalue": "append() takes exactly one argument (2 given)",
     "output_type": "error",
     "traceback": [
      "\u001b[1;31m---------------------------------------------------------------------------\u001b[0m",
      "\u001b[1;31mTypeError\u001b[0m                                 Traceback (most recent call last)",
      "\u001b[1;32m~\\AppData\\Local\\Temp\\ipykernel_11180\\239435839.py\u001b[0m in \u001b[0;36m<module>\u001b[1;34m\u001b[0m\n\u001b[1;32m----> 1\u001b[1;33m \u001b[0mcities\u001b[0m\u001b[1;33m.\u001b[0m\u001b[0mappend\u001b[0m\u001b[1;33m(\u001b[0m\u001b[1;34m'KHI'\u001b[0m\u001b[1;33m,\u001b[0m \u001b[1;34m'MLT'\u001b[0m\u001b[1;33m)\u001b[0m\u001b[1;33m\u001b[0m\u001b[1;33m\u001b[0m\u001b[0m\n\u001b[0m",
      "\u001b[1;31mTypeError\u001b[0m: append() takes exactly one argument (2 given)"
     ]
    }
   ],
   "source": [
    "cities.append('KHI', 'MLT')"
   ]
  },
  {
   "cell_type": "code",
   "execution_count": 26,
   "id": "7d022584",
   "metadata": {
    "ExecuteTime": {
     "end_time": "2022-07-22T13:00:58.063687Z",
     "start_time": "2022-07-22T13:00:58.046775Z"
    }
   },
   "outputs": [
    {
     "data": {
      "text/plain": [
       "12"
      ]
     },
     "execution_count": 26,
     "metadata": {},
     "output_type": "execute_result"
    }
   ],
   "source": [
    "len(cities)"
   ]
  },
  {
   "cell_type": "code",
   "execution_count": 27,
   "id": "35764441",
   "metadata": {
    "ExecuteTime": {
     "end_time": "2022-07-22T13:00:58.094965Z",
     "start_time": "2022-07-22T13:00:58.071690Z"
    }
   },
   "outputs": [
    {
     "data": {
      "text/plain": [
       "['KHI', 'MLT']"
      ]
     },
     "execution_count": 27,
     "metadata": {},
     "output_type": "execute_result"
    }
   ],
   "source": [
    "cities[len(cities)-1]"
   ]
  },
  {
   "cell_type": "code",
   "execution_count": 28,
   "id": "986d53dc",
   "metadata": {
    "ExecuteTime": {
     "end_time": "2022-07-22T13:00:58.126137Z",
     "start_time": "2022-07-22T13:00:58.103965Z"
    }
   },
   "outputs": [
    {
     "data": {
      "text/plain": [
       "2"
      ]
     },
     "execution_count": 28,
     "metadata": {},
     "output_type": "execute_result"
    }
   ],
   "source": [
    "len(cities[len(cities)-1])"
   ]
  },
  {
   "cell_type": "code",
   "execution_count": 29,
   "id": "a91bb450",
   "metadata": {
    "ExecuteTime": {
     "end_time": "2022-07-22T13:00:58.156606Z",
     "start_time": "2022-07-22T13:00:58.133796Z"
    }
   },
   "outputs": [
    {
     "data": {
      "text/plain": [
       "list"
      ]
     },
     "execution_count": 29,
     "metadata": {},
     "output_type": "execute_result"
    }
   ],
   "source": [
    "type(cities[len(cities)-1])"
   ]
  },
  {
   "cell_type": "code",
   "execution_count": 30,
   "id": "fd5c0e29",
   "metadata": {
    "ExecuteTime": {
     "end_time": "2022-07-22T13:00:58.187685Z",
     "start_time": "2022-07-22T13:00:58.165605Z"
    }
   },
   "outputs": [
    {
     "data": {
      "text/plain": [
       "'MLT'"
      ]
     },
     "execution_count": 30,
     "metadata": {},
     "output_type": "execute_result"
    }
   ],
   "source": [
    "cities[len(cities)-1][1]"
   ]
  },
  {
   "cell_type": "code",
   "execution_count": 31,
   "id": "7f1bebb7",
   "metadata": {
    "ExecuteTime": {
     "end_time": "2022-07-22T13:00:58.203937Z",
     "start_time": "2022-07-22T13:00:58.194343Z"
    }
   },
   "outputs": [],
   "source": [
    "some_numbers = [0,1,2,3,4,5]"
   ]
  },
  {
   "cell_type": "code",
   "execution_count": 32,
   "id": "a98ca4fa",
   "metadata": {
    "ExecuteTime": {
     "end_time": "2022-07-22T13:00:58.250895Z",
     "start_time": "2022-07-22T13:00:58.210940Z"
    }
   },
   "outputs": [
    {
     "ename": "IndexError",
     "evalue": "list assignment index out of range",
     "output_type": "error",
     "traceback": [
      "\u001b[1;31m---------------------------------------------------------------------------\u001b[0m",
      "\u001b[1;31mIndexError\u001b[0m                                Traceback (most recent call last)",
      "\u001b[1;32m~\\AppData\\Local\\Temp\\ipykernel_11180\\728702567.py\u001b[0m in \u001b[0;36m<module>\u001b[1;34m\u001b[0m\n\u001b[1;32m----> 1\u001b[1;33m \u001b[0msome_numbers\u001b[0m\u001b[1;33m[\u001b[0m\u001b[1;36m6\u001b[0m\u001b[1;33m]\u001b[0m \u001b[1;33m=\u001b[0m \u001b[1;36m6\u001b[0m\u001b[1;33m\u001b[0m\u001b[1;33m\u001b[0m\u001b[0m\n\u001b[0m",
      "\u001b[1;31mIndexError\u001b[0m: list assignment index out of range"
     ]
    }
   ],
   "source": [
    "some_numbers[6] = 6"
   ]
  },
  {
   "cell_type": "code",
   "execution_count": null,
   "id": "5544e14b",
   "metadata": {
    "ExecuteTime": {
     "end_time": "2022-07-22T13:00:58.259044Z",
     "start_time": "2022-07-22T13:00:58.259044Z"
    }
   },
   "outputs": [],
   "source": [
    "some_numbers[5] = 6\n",
    "some_numbers"
   ]
  },
  {
   "cell_type": "code",
   "execution_count": null,
   "id": "760efe54",
   "metadata": {
    "ExecuteTime": {
     "end_time": "2022-07-22T13:00:58.265661Z",
     "start_time": "2022-07-22T13:00:58.264665Z"
    }
   },
   "outputs": [],
   "source": [
    "some_numbers + [7,8,9,10]"
   ]
  },
  {
   "cell_type": "code",
   "execution_count": null,
   "id": "127191f8",
   "metadata": {
    "ExecuteTime": {
     "end_time": "2022-07-22T13:00:58.270948Z",
     "start_time": "2022-07-22T13:00:58.270948Z"
    }
   },
   "outputs": [],
   "source": [
    "some_numbers"
   ]
  },
  {
   "cell_type": "code",
   "execution_count": null,
   "id": "001bb829",
   "metadata": {
    "ExecuteTime": {
     "end_time": "2022-07-22T13:00:58.275906Z",
     "start_time": "2022-07-22T13:00:58.275906Z"
    }
   },
   "outputs": [],
   "source": [
    "some_numbers = some_numbers + [7,8,9,10]\n",
    "some_numbers"
   ]
  },
  {
   "cell_type": "code",
   "execution_count": null,
   "id": "c05bbf20",
   "metadata": {
    "ExecuteTime": {
     "end_time": "2022-07-22T13:00:58.282726Z",
     "start_time": "2022-07-22T13:00:58.281727Z"
    }
   },
   "outputs": [],
   "source": [
    "help(list.insert)"
   ]
  },
  {
   "cell_type": "code",
   "execution_count": null,
   "id": "6fceb6cb",
   "metadata": {
    "ExecuteTime": {
     "end_time": "2022-07-22T13:00:58.288728Z",
     "start_time": "2022-07-22T13:00:58.288728Z"
    }
   },
   "outputs": [],
   "source": [
    "some_numbers.insert(5,5)\n",
    "some_numbers"
   ]
  },
  {
   "cell_type": "code",
   "execution_count": null,
   "id": "7aee8afd",
   "metadata": {
    "ExecuteTime": {
     "end_time": "2022-07-22T13:00:58.296065Z",
     "start_time": "2022-07-22T13:00:58.296065Z"
    }
   },
   "outputs": [],
   "source": [
    "some_numbers.insert(5,5)\n",
    "some_numbers"
   ]
  },
  {
   "cell_type": "code",
   "execution_count": null,
   "id": "82e34cd0",
   "metadata": {
    "ExecuteTime": {
     "end_time": "2022-07-22T13:00:58.301727Z",
     "start_time": "2022-07-22T13:00:58.301727Z"
    }
   },
   "outputs": [],
   "source": [
    "del some_numbers[5]"
   ]
  },
  {
   "cell_type": "code",
   "execution_count": null,
   "id": "40923350",
   "metadata": {
    "ExecuteTime": {
     "end_time": "2022-07-22T13:00:58.313728Z",
     "start_time": "2022-07-22T13:00:58.313728Z"
    }
   },
   "outputs": [],
   "source": [
    "some_numbers"
   ]
  },
  {
   "cell_type": "code",
   "execution_count": null,
   "id": "4c3182cd",
   "metadata": {
    "ExecuteTime": {
     "end_time": "2022-07-22T13:00:58.318726Z",
     "start_time": "2022-07-22T13:00:58.318726Z"
    }
   },
   "outputs": [],
   "source": [
    "some_numbers.insert(5,5)\n",
    "some_numbers"
   ]
  },
  {
   "cell_type": "code",
   "execution_count": null,
   "id": "3f787058",
   "metadata": {
    "ExecuteTime": {
     "end_time": "2022-07-22T13:00:58.324727Z",
     "start_time": "2022-07-22T13:00:58.324727Z"
    }
   },
   "outputs": [],
   "source": [
    "help(list.remove)"
   ]
  },
  {
   "cell_type": "code",
   "execution_count": null,
   "id": "feddede6",
   "metadata": {
    "ExecuteTime": {
     "end_time": "2022-07-22T13:00:58.331861Z",
     "start_time": "2022-07-22T13:00:58.331861Z"
    }
   },
   "outputs": [],
   "source": [
    "some_numbers.remove(5)\n",
    "some_numbers"
   ]
  },
  {
   "cell_type": "code",
   "execution_count": 33,
   "id": "594d7504",
   "metadata": {
    "ExecuteTime": {
     "end_time": "2022-07-22T13:00:58.357726Z",
     "start_time": "2022-07-22T13:00:58.337798Z"
    }
   },
   "outputs": [
    {
     "data": {
      "text/plain": [
       "['FSD',\n",
       " 'RWP',\n",
       " 'ISL',\n",
       " 'JHG',\n",
       " 'J',\n",
       " 'H',\n",
       " 'G',\n",
       " 'JHG',\n",
       " 'KHI',\n",
       " 'MLT',\n",
       " 'SRG',\n",
       " ['KHI', 'MLT']]"
      ]
     },
     "execution_count": 33,
     "metadata": {},
     "output_type": "execute_result"
    }
   ],
   "source": [
    "cities"
   ]
  },
  {
   "cell_type": "code",
   "execution_count": 34,
   "id": "c50f1b0c",
   "metadata": {
    "ExecuteTime": {
     "end_time": "2022-07-22T13:00:58.387894Z",
     "start_time": "2022-07-22T13:00:58.368770Z"
    }
   },
   "outputs": [],
   "source": [
    "del cities[4:7]"
   ]
  },
  {
   "cell_type": "code",
   "execution_count": 35,
   "id": "e28837d5",
   "metadata": {
    "ExecuteTime": {
     "end_time": "2022-07-22T13:00:58.419650Z",
     "start_time": "2022-07-22T13:00:58.395930Z"
    }
   },
   "outputs": [
    {
     "data": {
      "text/plain": [
       "['FSD', 'RWP', 'ISL', 'JHG', 'JHG', 'KHI', 'MLT', 'SRG', ['KHI', 'MLT']]"
      ]
     },
     "execution_count": 35,
     "metadata": {},
     "output_type": "execute_result"
    }
   ],
   "source": [
    "cities"
   ]
  },
  {
   "cell_type": "code",
   "execution_count": 36,
   "id": "8f34c93d",
   "metadata": {
    "ExecuteTime": {
     "end_time": "2022-07-22T13:00:58.449738Z",
     "start_time": "2022-07-22T13:00:58.427745Z"
    }
   },
   "outputs": [
    {
     "data": {
      "text/plain": [
       "['FSD',\n",
       " 'RWP',\n",
       " 'ISL',\n",
       " 'JHG',\n",
       " 'JHG',\n",
       " 'KHI',\n",
       " 'MLT',\n",
       " 'SRG',\n",
       " ['KHI', 'MLT'],\n",
       " 'J',\n",
       " 'H',\n",
       " 'G']"
      ]
     },
     "execution_count": 36,
     "metadata": {},
     "output_type": "execute_result"
    }
   ],
   "source": [
    "cities.extend('JHG')\n",
    "cities"
   ]
  },
  {
   "cell_type": "code",
   "execution_count": 37,
   "id": "c42dcd29",
   "metadata": {
    "ExecuteTime": {
     "end_time": "2022-07-22T13:00:58.495721Z",
     "start_time": "2022-07-22T13:00:58.460811Z"
    }
   },
   "outputs": [
    {
     "ename": "ValueError",
     "evalue": "list.remove(x): x not in list",
     "output_type": "error",
     "traceback": [
      "\u001b[1;31m---------------------------------------------------------------------------\u001b[0m",
      "\u001b[1;31mValueError\u001b[0m                                Traceback (most recent call last)",
      "\u001b[1;32m~\\AppData\\Local\\Temp\\ipykernel_11180\\2962818202.py\u001b[0m in \u001b[0;36m<module>\u001b[1;34m\u001b[0m\n\u001b[1;32m----> 1\u001b[1;33m \u001b[0mcities\u001b[0m\u001b[1;33m.\u001b[0m\u001b[0mremove\u001b[0m\u001b[1;33m(\u001b[0m\u001b[1;33m[\u001b[0m\u001b[1;34m'J'\u001b[0m\u001b[1;33m,\u001b[0m\u001b[1;34m'H'\u001b[0m\u001b[1;33m,\u001b[0m\u001b[1;34m'G'\u001b[0m\u001b[1;33m]\u001b[0m\u001b[1;33m)\u001b[0m\u001b[1;33m\u001b[0m\u001b[1;33m\u001b[0m\u001b[0m\n\u001b[0m",
      "\u001b[1;31mValueError\u001b[0m: list.remove(x): x not in list"
     ]
    }
   ],
   "source": [
    "cities.remove(['J','H','G'])"
   ]
  },
  {
   "cell_type": "code",
   "execution_count": null,
   "id": "87974fa2",
   "metadata": {
    "ExecuteTime": {
     "end_time": "2022-07-22T13:00:58.504161Z",
     "start_time": "2022-07-22T13:00:58.504161Z"
    }
   },
   "outputs": [],
   "source": [
    "some_numbers"
   ]
  },
  {
   "cell_type": "code",
   "execution_count": null,
   "id": "ebe2d337",
   "metadata": {
    "ExecuteTime": {
     "end_time": "2022-07-22T13:00:58.512692Z",
     "start_time": "2022-07-22T13:00:58.512692Z"
    }
   },
   "outputs": [],
   "source": [
    "help(list.pop)"
   ]
  },
  {
   "cell_type": "code",
   "execution_count": null,
   "id": "1cc9bfa1",
   "metadata": {
    "ExecuteTime": {
     "end_time": "2022-07-22T13:00:58.518860Z",
     "start_time": "2022-07-22T13:00:58.518860Z"
    }
   },
   "outputs": [],
   "source": [
    "some_numbers.pop()"
   ]
  },
  {
   "cell_type": "code",
   "execution_count": null,
   "id": "00279c1b",
   "metadata": {
    "ExecuteTime": {
     "end_time": "2022-07-22T13:00:58.525860Z",
     "start_time": "2022-07-22T13:00:58.524863Z"
    }
   },
   "outputs": [],
   "source": [
    "some_numbers.pop(-3)"
   ]
  },
  {
   "cell_type": "code",
   "execution_count": null,
   "id": "db7ed587",
   "metadata": {
    "ExecuteTime": {
     "end_time": "2022-07-22T13:00:58.531862Z",
     "start_time": "2022-07-22T13:00:58.531862Z"
    }
   },
   "outputs": [],
   "source": [
    "some_numbers"
   ]
  },
  {
   "cell_type": "code",
   "execution_count": null,
   "id": "1d0aa9b3",
   "metadata": {
    "ExecuteTime": {
     "end_time": "2022-07-22T13:00:58.536861Z",
     "start_time": "2022-07-22T13:00:58.536861Z"
    }
   },
   "outputs": [],
   "source": [
    "# 2D list\n",
    "menu = []\n",
    "breakfast = ['omlette', 'bread', 'pancakes', 'bananas', 'juice']\n",
    "lunch = ['burgers', 'salad', 'pizza']\n",
    "dinner = ['karahi', 'jalebi']\n"
   ]
  },
  {
   "cell_type": "code",
   "execution_count": null,
   "id": "5be0dc6e",
   "metadata": {
    "ExecuteTime": {
     "end_time": "2022-07-22T13:00:58.544635Z",
     "start_time": "2022-07-22T13:00:58.544635Z"
    }
   },
   "outputs": [],
   "source": [
    "[[],[],[]]"
   ]
  },
  {
   "cell_type": "code",
   "execution_count": null,
   "id": "b2921396",
   "metadata": {
    "ExecuteTime": {
     "end_time": "2022-07-22T13:00:58.548957Z",
     "start_time": "2022-07-22T13:00:58.548957Z"
    }
   },
   "outputs": [],
   "source": [
    "menu.extend(breakfast)"
   ]
  },
  {
   "cell_type": "code",
   "execution_count": null,
   "id": "803cfba1",
   "metadata": {
    "ExecuteTime": {
     "end_time": "2022-07-22T13:00:58.554639Z",
     "start_time": "2022-07-22T13:00:58.554639Z"
    }
   },
   "outputs": [],
   "source": [
    "menu"
   ]
  },
  {
   "cell_type": "code",
   "execution_count": null,
   "id": "15f44aea",
   "metadata": {
    "ExecuteTime": {
     "end_time": "2022-07-22T13:00:58.566660Z",
     "start_time": "2022-07-22T13:00:58.566660Z"
    }
   },
   "outputs": [],
   "source": [
    "menu.extend(lunch)"
   ]
  },
  {
   "cell_type": "code",
   "execution_count": null,
   "id": "3176ab71",
   "metadata": {
    "ExecuteTime": {
     "end_time": "2022-07-22T13:00:58.575660Z",
     "start_time": "2022-07-22T13:00:58.575660Z"
    }
   },
   "outputs": [],
   "source": [
    "menu"
   ]
  },
  {
   "cell_type": "code",
   "execution_count": 38,
   "id": "ae94300f",
   "metadata": {
    "ExecuteTime": {
     "end_time": "2022-07-22T13:00:58.602920Z",
     "start_time": "2022-07-22T13:00:58.581658Z"
    }
   },
   "outputs": [],
   "source": [
    "# 2D list\n",
    "menu = []\n",
    "breakfast = ['omlette', 'bread', 'pancakes', 'bananas', 'juice']\n",
    "lunch = ['burgers', 'salad', 'pizza']\n",
    "dinner = ['karahi', 'jalebi']\n"
   ]
  },
  {
   "cell_type": "code",
   "execution_count": 39,
   "id": "96533340",
   "metadata": {
    "ExecuteTime": {
     "end_time": "2022-07-22T13:00:58.633881Z",
     "start_time": "2022-07-22T13:00:58.612802Z"
    }
   },
   "outputs": [
    {
     "data": {
      "text/plain": [
       "['omlette',\n",
       " 'bread',\n",
       " 'pancakes',\n",
       " 'bananas',\n",
       " 'juice',\n",
       " 'burgers',\n",
       " 'salad',\n",
       " 'pizza',\n",
       " 'karahi',\n",
       " 'jalebi']"
      ]
     },
     "execution_count": 39,
     "metadata": {},
     "output_type": "execute_result"
    }
   ],
   "source": [
    "breakfast + lunch + dinner"
   ]
  },
  {
   "cell_type": "code",
   "execution_count": 40,
   "id": "1391223a",
   "metadata": {
    "ExecuteTime": {
     "end_time": "2022-07-22T13:00:58.664852Z",
     "start_time": "2022-07-22T13:00:58.640877Z"
    }
   },
   "outputs": [
    {
     "data": {
      "text/plain": [
       "[['omlette', 'bread', 'pancakes', 'bananas', 'juice'],\n",
       " ['burgers', 'salad', 'pizza'],\n",
       " ['karahi', 'jalebi']]"
      ]
     },
     "execution_count": 40,
     "metadata": {},
     "output_type": "execute_result"
    }
   ],
   "source": [
    "[breakfast, lunch, dinner]"
   ]
  },
  {
   "cell_type": "code",
   "execution_count": 41,
   "id": "023e91f6",
   "metadata": {
    "ExecuteTime": {
     "end_time": "2022-07-22T13:00:58.726929Z",
     "start_time": "2022-07-22T13:00:58.670813Z"
    }
   },
   "outputs": [
    {
     "name": "stdout",
     "output_type": "stream",
     "text": [
      "Help on class list in module builtins:\n",
      "\n",
      "class list(object)\n",
      " |  list(iterable=(), /)\n",
      " |  \n",
      " |  Built-in mutable sequence.\n",
      " |  \n",
      " |  If no argument is given, the constructor creates a new empty list.\n",
      " |  The argument must be an iterable if specified.\n",
      " |  \n",
      " |  Methods defined here:\n",
      " |  \n",
      " |  __add__(self, value, /)\n",
      " |      Return self+value.\n",
      " |  \n",
      " |  __contains__(self, key, /)\n",
      " |      Return key in self.\n",
      " |  \n",
      " |  __delitem__(self, key, /)\n",
      " |      Delete self[key].\n",
      " |  \n",
      " |  __eq__(self, value, /)\n",
      " |      Return self==value.\n",
      " |  \n",
      " |  __ge__(self, value, /)\n",
      " |      Return self>=value.\n",
      " |  \n",
      " |  __getattribute__(self, name, /)\n",
      " |      Return getattr(self, name).\n",
      " |  \n",
      " |  __getitem__(...)\n",
      " |      x.__getitem__(y) <==> x[y]\n",
      " |  \n",
      " |  __gt__(self, value, /)\n",
      " |      Return self>value.\n",
      " |  \n",
      " |  __iadd__(self, value, /)\n",
      " |      Implement self+=value.\n",
      " |  \n",
      " |  __imul__(self, value, /)\n",
      " |      Implement self*=value.\n",
      " |  \n",
      " |  __init__(self, /, *args, **kwargs)\n",
      " |      Initialize self.  See help(type(self)) for accurate signature.\n",
      " |  \n",
      " |  __iter__(self, /)\n",
      " |      Implement iter(self).\n",
      " |  \n",
      " |  __le__(self, value, /)\n",
      " |      Return self<=value.\n",
      " |  \n",
      " |  __len__(self, /)\n",
      " |      Return len(self).\n",
      " |  \n",
      " |  __lt__(self, value, /)\n",
      " |      Return self<value.\n",
      " |  \n",
      " |  __mul__(self, value, /)\n",
      " |      Return self*value.\n",
      " |  \n",
      " |  __ne__(self, value, /)\n",
      " |      Return self!=value.\n",
      " |  \n",
      " |  __repr__(self, /)\n",
      " |      Return repr(self).\n",
      " |  \n",
      " |  __reversed__(self, /)\n",
      " |      Return a reverse iterator over the list.\n",
      " |  \n",
      " |  __rmul__(self, value, /)\n",
      " |      Return value*self.\n",
      " |  \n",
      " |  __setitem__(self, key, value, /)\n",
      " |      Set self[key] to value.\n",
      " |  \n",
      " |  __sizeof__(self, /)\n",
      " |      Return the size of the list in memory, in bytes.\n",
      " |  \n",
      " |  append(self, object, /)\n",
      " |      Append object to the end of the list.\n",
      " |  \n",
      " |  clear(self, /)\n",
      " |      Remove all items from list.\n",
      " |  \n",
      " |  copy(self, /)\n",
      " |      Return a shallow copy of the list.\n",
      " |  \n",
      " |  count(self, value, /)\n",
      " |      Return number of occurrences of value.\n",
      " |  \n",
      " |  extend(self, iterable, /)\n",
      " |      Extend list by appending elements from the iterable.\n",
      " |  \n",
      " |  index(self, value, start=0, stop=9223372036854775807, /)\n",
      " |      Return first index of value.\n",
      " |      \n",
      " |      Raises ValueError if the value is not present.\n",
      " |  \n",
      " |  insert(self, index, object, /)\n",
      " |      Insert object before index.\n",
      " |  \n",
      " |  pop(self, index=-1, /)\n",
      " |      Remove and return item at index (default last).\n",
      " |      \n",
      " |      Raises IndexError if list is empty or index is out of range.\n",
      " |  \n",
      " |  remove(self, value, /)\n",
      " |      Remove first occurrence of value.\n",
      " |      \n",
      " |      Raises ValueError if the value is not present.\n",
      " |  \n",
      " |  reverse(self, /)\n",
      " |      Reverse *IN PLACE*.\n",
      " |  \n",
      " |  sort(self, /, *, key=None, reverse=False)\n",
      " |      Stable sort *IN PLACE*.\n",
      " |  \n",
      " |  ----------------------------------------------------------------------\n",
      " |  Static methods defined here:\n",
      " |  \n",
      " |  __new__(*args, **kwargs) from builtins.type\n",
      " |      Create and return a new object.  See help(type) for accurate signature.\n",
      " |  \n",
      " |  ----------------------------------------------------------------------\n",
      " |  Data and other attributes defined here:\n",
      " |  \n",
      " |  __hash__ = None\n",
      "\n"
     ]
    }
   ],
   "source": [
    "# Methods for Lists\n",
    "\n",
    "help(list)"
   ]
  },
  {
   "cell_type": "code",
   "execution_count": 42,
   "id": "a62210f8",
   "metadata": {
    "ExecuteTime": {
     "end_time": "2022-07-22T13:00:58.758507Z",
     "start_time": "2022-07-22T13:00:58.738508Z"
    }
   },
   "outputs": [
    {
     "name": "stdout",
     "output_type": "stream",
     "text": [
      "[1, 'A', 2.3, 'Ahmed']\n"
     ]
    }
   ],
   "source": [
    "some_list = [1, 'A', 2.3, 'Ahmed']\n",
    "\n",
    "print(some_list)"
   ]
  },
  {
   "cell_type": "code",
   "execution_count": 43,
   "id": "95dea2f7",
   "metadata": {
    "ExecuteTime": {
     "end_time": "2022-07-22T13:00:58.805981Z",
     "start_time": "2022-07-22T13:00:58.767507Z"
    }
   },
   "outputs": [
    {
     "ename": "AttributeError",
     "evalue": "type object 'list' has no attribute 'contains'",
     "output_type": "error",
     "traceback": [
      "\u001b[1;31m---------------------------------------------------------------------------\u001b[0m",
      "\u001b[1;31mAttributeError\u001b[0m                            Traceback (most recent call last)",
      "\u001b[1;32m~\\AppData\\Local\\Temp\\ipykernel_11180\\2384377345.py\u001b[0m in \u001b[0;36m<module>\u001b[1;34m\u001b[0m\n\u001b[1;32m----> 1\u001b[1;33m \u001b[0mhelp\u001b[0m\u001b[1;33m(\u001b[0m\u001b[0mlist\u001b[0m\u001b[1;33m.\u001b[0m\u001b[0mcontains\u001b[0m\u001b[1;33m(\u001b[0m\u001b[1;33m)\u001b[0m\u001b[1;33m)\u001b[0m\u001b[1;33m\u001b[0m\u001b[1;33m\u001b[0m\u001b[0m\n\u001b[0m",
      "\u001b[1;31mAttributeError\u001b[0m: type object 'list' has no attribute 'contains'"
     ]
    }
   ],
   "source": [
    "help(list.contains())"
   ]
  },
  {
   "cell_type": "code",
   "execution_count": null,
   "id": "582a19c8",
   "metadata": {
    "ExecuteTime": {
     "end_time": "2022-07-22T13:00:58.814981Z",
     "start_time": "2022-07-22T13:00:58.814981Z"
    }
   },
   "outputs": [],
   "source": [
    "some_list.contains(1)"
   ]
  },
  {
   "cell_type": "code",
   "execution_count": null,
   "id": "657af0b8",
   "metadata": {
    "ExecuteTime": {
     "end_time": "2022-07-22T13:00:58.820981Z",
     "start_time": "2022-07-22T13:00:58.820981Z"
    }
   },
   "outputs": [],
   "source": [
    "num_list1 = [1,2,3]\n",
    "num_list2 = [1,2,3]\n",
    "\n",
    "print(num_list1)\n",
    "print(num_list2)"
   ]
  },
  {
   "cell_type": "code",
   "execution_count": null,
   "id": "6e2b9271",
   "metadata": {
    "ExecuteTime": {
     "end_time": "2022-07-22T13:00:58.827233Z",
     "start_time": "2022-07-22T13:00:58.827233Z"
    }
   },
   "outputs": [],
   "source": [
    "help(list.copy)"
   ]
  },
  {
   "cell_type": "code",
   "execution_count": null,
   "id": "9f501592",
   "metadata": {
    "ExecuteTime": {
     "end_time": "2022-07-22T13:00:58.836236Z",
     "start_time": "2022-07-22T13:00:58.836236Z"
    }
   },
   "outputs": [],
   "source": [
    "num_list3 = num_list1.copy()\n",
    "num_list3"
   ]
  },
  {
   "cell_type": "code",
   "execution_count": null,
   "id": "6fd24ddb",
   "metadata": {
    "ExecuteTime": {
     "end_time": "2022-07-22T13:00:58.845787Z",
     "start_time": "2022-07-22T13:00:58.845787Z"
    }
   },
   "outputs": [],
   "source": [
    "some_list"
   ]
  },
  {
   "cell_type": "code",
   "execution_count": null,
   "id": "42a560d1",
   "metadata": {
    "ExecuteTime": {
     "end_time": "2022-07-22T13:00:58.852791Z",
     "start_time": "2022-07-22T13:00:58.852791Z"
    }
   },
   "outputs": [],
   "source": [
    "some_list.sort()"
   ]
  },
  {
   "cell_type": "code",
   "execution_count": null,
   "id": "cb4db5a5",
   "metadata": {
    "ExecuteTime": {
     "end_time": "2022-07-22T13:00:58.859870Z",
     "start_time": "2022-07-22T13:00:58.859870Z"
    }
   },
   "outputs": [],
   "source": [
    "num_list4 = [2.4, 4, 5, 10.2, 0]\n",
    "num_list4.sort()\n",
    "\n",
    "num_list4"
   ]
  },
  {
   "cell_type": "code",
   "execution_count": null,
   "id": "97a465f1",
   "metadata": {
    "ExecuteTime": {
     "end_time": "2022-07-22T13:00:58.866414Z",
     "start_time": "2022-07-22T13:00:58.866414Z"
    }
   },
   "outputs": [],
   "source": [
    "string_list = ['dog','cats', 'sheep']\n",
    "string_list.sort()"
   ]
  },
  {
   "cell_type": "code",
   "execution_count": null,
   "id": "f7de1dab",
   "metadata": {
    "ExecuteTime": {
     "end_time": "2022-07-22T13:00:58.872153Z",
     "start_time": "2022-07-22T13:00:58.872153Z"
    }
   },
   "outputs": [],
   "source": [
    "string_list"
   ]
  },
  {
   "cell_type": "code",
   "execution_count": null,
   "id": "386df8bb",
   "metadata": {
    "ExecuteTime": {
     "end_time": "2022-07-22T13:00:58.880957Z",
     "start_time": "2022-07-22T13:00:58.880957Z"
    }
   },
   "outputs": [],
   "source": [
    "help(list.sort)"
   ]
  },
  {
   "cell_type": "code",
   "execution_count": null,
   "id": "50d79785",
   "metadata": {
    "ExecuteTime": {
     "end_time": "2022-07-22T13:00:58.887033Z",
     "start_time": "2022-07-22T13:00:58.887033Z"
    }
   },
   "outputs": [],
   "source": [
    "string_list = ['dog','cats', 'sheep']\n",
    "string_list.sort(reverse=True)\n",
    "\n",
    "string_list"
   ]
  },
  {
   "cell_type": "markdown",
   "id": "9e6b1e41",
   "metadata": {
    "ExecuteTime": {
     "end_time": "2022-06-23T14:25:38.284474Z",
     "start_time": "2022-06-23T14:25:38.262474Z"
    }
   },
   "source": [
    "# `for` Loop"
   ]
  },
  {
   "cell_type": "code",
   "execution_count": 44,
   "id": "c9455759",
   "metadata": {
    "ExecuteTime": {
     "end_time": "2022-07-22T13:00:59.328851Z",
     "start_time": "2022-07-22T13:00:59.299696Z"
    }
   },
   "outputs": [
    {
     "ename": "NameError",
     "evalue": "name 'string_list' is not defined",
     "output_type": "error",
     "traceback": [
      "\u001b[1;31m---------------------------------------------------------------------------\u001b[0m",
      "\u001b[1;31mNameError\u001b[0m                                 Traceback (most recent call last)",
      "\u001b[1;32m~\\AppData\\Local\\Temp\\ipykernel_11180\\2240654602.py\u001b[0m in \u001b[0;36m<module>\u001b[1;34m\u001b[0m\n\u001b[1;32m----> 1\u001b[1;33m \u001b[1;32mfor\u001b[0m \u001b[0mstring\u001b[0m \u001b[1;32min\u001b[0m \u001b[0mstring_list\u001b[0m\u001b[1;33m:\u001b[0m\u001b[1;33m\u001b[0m\u001b[1;33m\u001b[0m\u001b[0m\n\u001b[0m\u001b[0;32m      2\u001b[0m     \u001b[0mprint\u001b[0m\u001b[1;33m(\u001b[0m\u001b[0mstring\u001b[0m\u001b[1;33m)\u001b[0m\u001b[1;33m\u001b[0m\u001b[1;33m\u001b[0m\u001b[0m\n",
      "\u001b[1;31mNameError\u001b[0m: name 'string_list' is not defined"
     ]
    }
   ],
   "source": [
    "for string in string_list:\n",
    "    print(string)"
   ]
  },
  {
   "cell_type": "code",
   "execution_count": null,
   "id": "c013d134",
   "metadata": {
    "ExecuteTime": {
     "end_time": "2022-07-22T13:00:59.334923Z",
     "start_time": "2022-07-22T13:00:59.334923Z"
    }
   },
   "outputs": [],
   "source": [
    "print(string)"
   ]
  },
  {
   "cell_type": "code",
   "execution_count": null,
   "id": "d575e956",
   "metadata": {
    "ExecuteTime": {
     "end_time": "2022-07-22T13:00:59.342941Z",
     "start_time": "2022-07-22T13:00:59.342941Z"
    }
   },
   "outputs": [],
   "source": [
    "for character in string:\n",
    "    print(character)"
   ]
  },
  {
   "cell_type": "code",
   "execution_count": 45,
   "id": "784e42bd",
   "metadata": {
    "ExecuteTime": {
     "end_time": "2022-07-22T13:00:59.390723Z",
     "start_time": "2022-07-22T13:00:59.349864Z"
    }
   },
   "outputs": [
    {
     "ename": "NameError",
     "evalue": "name 'string_list' is not defined",
     "output_type": "error",
     "traceback": [
      "\u001b[1;31m---------------------------------------------------------------------------\u001b[0m",
      "\u001b[1;31mNameError\u001b[0m                                 Traceback (most recent call last)",
      "\u001b[1;32m~\\AppData\\Local\\Temp\\ipykernel_11180\\3571866414.py\u001b[0m in \u001b[0;36m<module>\u001b[1;34m\u001b[0m\n\u001b[1;32m----> 1\u001b[1;33m \u001b[1;32mfor\u001b[0m \u001b[0mindex\u001b[0m \u001b[1;32min\u001b[0m \u001b[0mrange\u001b[0m\u001b[1;33m(\u001b[0m\u001b[1;36m0\u001b[0m\u001b[1;33m,\u001b[0m \u001b[0mlen\u001b[0m\u001b[1;33m(\u001b[0m\u001b[0mstring_list\u001b[0m\u001b[1;33m)\u001b[0m\u001b[1;33m)\u001b[0m\u001b[1;33m:\u001b[0m\u001b[1;33m\u001b[0m\u001b[1;33m\u001b[0m\u001b[0m\n\u001b[0m\u001b[0;32m      2\u001b[0m     \u001b[0mprint\u001b[0m\u001b[1;33m(\u001b[0m\u001b[0mindex\u001b[0m\u001b[1;33m)\u001b[0m\u001b[1;33m\u001b[0m\u001b[1;33m\u001b[0m\u001b[0m\n",
      "\u001b[1;31mNameError\u001b[0m: name 'string_list' is not defined"
     ]
    }
   ],
   "source": [
    "for index in range(0, len(string_list)):\n",
    "    print(index)"
   ]
  },
  {
   "cell_type": "code",
   "execution_count": null,
   "id": "06075758",
   "metadata": {
    "ExecuteTime": {
     "end_time": "2022-07-22T13:00:59.397637Z",
     "start_time": "2022-07-22T13:00:59.397637Z"
    }
   },
   "outputs": [],
   "source": [
    "string_list"
   ]
  },
  {
   "cell_type": "code",
   "execution_count": null,
   "id": "6157d342",
   "metadata": {
    "ExecuteTime": {
     "end_time": "2022-07-22T13:00:59.403697Z",
     "start_time": "2022-07-22T13:00:59.403697Z"
    }
   },
   "outputs": [],
   "source": [
    "print(string_list.index('sheep'))\n",
    "print(string_list.index('dog'))\n",
    "print(string_list.index('cats'))"
   ]
  },
  {
   "cell_type": "code",
   "execution_count": null,
   "id": "0f8694d4",
   "metadata": {
    "ExecuteTime": {
     "end_time": "2022-07-22T13:00:59.409639Z",
     "start_time": "2022-07-22T13:00:59.409639Z"
    }
   },
   "outputs": [],
   "source": [
    "for string in string_list:\n",
    "    print(string_list.index(string))"
   ]
  },
  {
   "cell_type": "code",
   "execution_count": 46,
   "id": "ea412b5d",
   "metadata": {
    "ExecuteTime": {
     "end_time": "2022-07-22T13:00:59.437637Z",
     "start_time": "2022-07-22T13:00:59.417729Z"
    }
   },
   "outputs": [
    {
     "name": "stdout",
     "output_type": "stream",
     "text": [
      "range(0, 3)\n"
     ]
    }
   ],
   "source": [
    "print(range(3))"
   ]
  },
  {
   "cell_type": "code",
   "execution_count": 47,
   "id": "b661f1cf",
   "metadata": {
    "ExecuteTime": {
     "end_time": "2022-07-22T13:00:59.485700Z",
     "start_time": "2022-07-22T13:00:59.445717Z"
    }
   },
   "outputs": [
    {
     "ename": "NameError",
     "evalue": "name 'string_list' is not defined",
     "output_type": "error",
     "traceback": [
      "\u001b[1;31m---------------------------------------------------------------------------\u001b[0m",
      "\u001b[1;31mNameError\u001b[0m                                 Traceback (most recent call last)",
      "\u001b[1;32m~\\AppData\\Local\\Temp\\ipykernel_11180\\1643958092.py\u001b[0m in \u001b[0;36m<module>\u001b[1;34m\u001b[0m\n\u001b[0;32m      1\u001b[0m \u001b[1;32mfor\u001b[0m \u001b[0mindex\u001b[0m \u001b[1;32min\u001b[0m \u001b[0mrange\u001b[0m\u001b[1;33m(\u001b[0m\u001b[1;36m3\u001b[0m\u001b[1;33m)\u001b[0m\u001b[1;33m:\u001b[0m\u001b[1;33m\u001b[0m\u001b[1;33m\u001b[0m\u001b[0m\n\u001b[1;32m----> 2\u001b[1;33m     \u001b[0mprint\u001b[0m\u001b[1;33m(\u001b[0m\u001b[0mstring_list\u001b[0m\u001b[1;33m[\u001b[0m\u001b[0mindex\u001b[0m\u001b[1;33m]\u001b[0m\u001b[1;33m)\u001b[0m\u001b[1;33m\u001b[0m\u001b[1;33m\u001b[0m\u001b[0m\n\u001b[0m",
      "\u001b[1;31mNameError\u001b[0m: name 'string_list' is not defined"
     ]
    }
   ],
   "source": [
    "for index in range(3):\n",
    "    print(string_list[index])"
   ]
  },
  {
   "cell_type": "code",
   "execution_count": null,
   "id": "055d8552",
   "metadata": {
    "ExecuteTime": {
     "end_time": "2022-07-22T13:00:59.492702Z",
     "start_time": "2022-07-22T13:00:59.492702Z"
    }
   },
   "outputs": [],
   "source": [
    "string_list[-1]"
   ]
  },
  {
   "cell_type": "code",
   "execution_count": null,
   "id": "1e43c4be",
   "metadata": {
    "ExecuteTime": {
     "end_time": "2022-07-22T13:00:59.500758Z",
     "start_time": "2022-07-22T13:00:59.500758Z"
    },
    "code_folding": []
   },
   "outputs": [],
   "source": [
    "for index in range(-3,0):\n",
    "    print(string_list[index])"
   ]
  },
  {
   "cell_type": "code",
   "execution_count": null,
   "id": "0a581efe",
   "metadata": {
    "ExecuteTime": {
     "end_time": "2022-07-22T13:00:59.507768Z",
     "start_time": "2022-07-22T13:00:59.507768Z"
    },
    "code_folding": []
   },
   "outputs": [],
   "source": [
    "# break and continue\n",
    "\n",
    "for string in string_list:\n",
    "    if string == 'dog':\n",
    "        break\n",
    "    print(string)"
   ]
  },
  {
   "cell_type": "code",
   "execution_count": null,
   "id": "683e8849",
   "metadata": {
    "ExecuteTime": {
     "end_time": "2022-07-22T13:00:59.515635Z",
     "start_time": "2022-07-22T13:00:59.515635Z"
    },
    "code_folding": []
   },
   "outputs": [],
   "source": [
    "for string in string_list:\n",
    "    if string == 'sheep':\n",
    "        break\n",
    "    print(string)"
   ]
  },
  {
   "cell_type": "code",
   "execution_count": null,
   "id": "162cae0d",
   "metadata": {
    "ExecuteTime": {
     "end_time": "2022-07-22T13:00:59.524636Z",
     "start_time": "2022-07-22T13:00:59.523712Z"
    },
    "code_folding": []
   },
   "outputs": [],
   "source": [
    "num_list = [1,2,3,4,5]"
   ]
  },
  {
   "cell_type": "code",
   "execution_count": null,
   "id": "7df26b6a",
   "metadata": {
    "ExecuteTime": {
     "end_time": "2022-07-22T13:00:59.528637Z",
     "start_time": "2022-07-22T13:00:59.528637Z"
    },
    "code_folding": []
   },
   "outputs": [],
   "source": [
    "for num in num_list:\n",
    "    if num == 3:\n",
    "        break\n",
    "    print(num)"
   ]
  },
  {
   "cell_type": "code",
   "execution_count": 48,
   "id": "576e8585",
   "metadata": {
    "ExecuteTime": {
     "end_time": "2022-07-22T13:00:59.562706Z",
     "start_time": "2022-07-22T13:00:59.539701Z"
    },
    "code_folding": []
   },
   "outputs": [
    {
     "name": "stdout",
     "output_type": "stream",
     "text": [
      "1\n",
      "2\n"
     ]
    }
   ],
   "source": [
    "for num in num_list:\n",
    "    if num == 3:\n",
    "        continue\n",
    "    print(num)"
   ]
  },
  {
   "cell_type": "code",
   "execution_count": 49,
   "id": "b18ec690",
   "metadata": {
    "ExecuteTime": {
     "end_time": "2022-07-22T13:00:59.593801Z",
     "start_time": "2022-07-22T13:00:59.574021Z"
    },
    "code_folding": []
   },
   "outputs": [
    {
     "data": {
      "text/plain": [
       "[1, 2, 3]"
      ]
     },
     "execution_count": 49,
     "metadata": {},
     "output_type": "execute_result"
    }
   ],
   "source": [
    "num_list"
   ]
  },
  {
   "cell_type": "code",
   "execution_count": 50,
   "id": "fa33df84",
   "metadata": {
    "ExecuteTime": {
     "end_time": "2022-07-22T13:00:59.624932Z",
     "start_time": "2022-07-22T13:00:59.600549Z"
    },
    "code_folding": []
   },
   "outputs": [
    {
     "name": "stdout",
     "output_type": "stream",
     "text": [
      "1\n",
      "3\n"
     ]
    }
   ],
   "source": [
    "for num in num_list:\n",
    "    if num % 2 == 0:\n",
    "        continue\n",
    "    print(num)"
   ]
  },
  {
   "cell_type": "code",
   "execution_count": 51,
   "id": "4ec758f3",
   "metadata": {
    "ExecuteTime": {
     "end_time": "2022-07-22T13:00:59.656342Z",
     "start_time": "2022-07-22T13:00:59.633158Z"
    },
    "code_folding": []
   },
   "outputs": [
    {
     "name": "stdout",
     "output_type": "stream",
     "text": [
      "2\n"
     ]
    }
   ],
   "source": [
    "for num in num_list:\n",
    "    if num % 2 != 0:\n",
    "        continue\n",
    "    print(num)"
   ]
  },
  {
   "cell_type": "markdown",
   "id": "4a82aaf6",
   "metadata": {},
   "source": [
    "# Coding Problems"
   ]
  },
  {
   "cell_type": "markdown",
   "id": "bf544a33",
   "metadata": {},
   "source": [
    "## Coding Problem 1\n",
    "Write a program which takes an integer from the user and displays _True_ if that integer is divisible by 100. Otherwise, it should display _False_."
   ]
  },
  {
   "cell_type": "code",
   "execution_count": 53,
   "id": "e8b558c8",
   "metadata": {
    "ExecuteTime": {
     "end_time": "2022-07-22T13:14:09.673541Z",
     "start_time": "2022-07-22T13:14:07.253527Z"
    }
   },
   "outputs": [
    {
     "name": "stdout",
     "output_type": "stream",
     "text": [
      "Please enter a number to check divisible by 100: 10\n",
      "False\n"
     ]
    }
   ],
   "source": [
    "x = int(input('Please enter a number to check divisible by 100: '))\n",
    "remainder = x % 100\n",
    "\n",
    "if remainder == 0:\n",
    "    print('True')\n",
    "else:\n",
    "    print('False')\n",
    "    "
   ]
  },
  {
   "cell_type": "markdown",
   "id": "3c231c1b",
   "metadata": {},
   "source": [
    "## Coding Problem 2a\n",
    "\n",
    "Write a program which takes the following input from the user.\n",
    "* No. of hours spent working\n",
    "\n",
    "Usually, a person normally spends 40 hours at work per week (5 days) and gets paid \\\\$5 per hour. A normal working day is of 8 hours. If the No. of hours is greater than 40, then it means that the person has worked overtime and he/she gets \\\\$10 per hour for the extra hours. **Given the number of hours spent working, calculate the pay of a person in a week.**\n",
    "    \n",
    "* **Requirement 1**\n",
    "    * _Hours_ = Negative input\n",
    "    * _Output_ = Error (Custom-made)\n",
    "\n",
    "\n",
    "* **Requirement 2**\n",
    "     * _Hours_ = 0\n",
    "     * _Output_ = No money made\n",
    "\n",
    "\n",
    "* **Test Case 1**\n",
    "    * _Hours_ = 40\n",
    "    * _Output_ = \\\\$200\n",
    "\n",
    "\n",
    "* **Test Case 2**\n",
    "    * _Hours_ = 50\n",
    "    * _Output_ = \\\\$300"
   ]
  },
  {
   "cell_type": "markdown",
   "id": "1535c46e",
   "metadata": {},
   "source": [
    "## Coding Problem 2b\n",
    "\n",
    "If a person works on weekends, he/she gets paid \\\\$25 per day. **Write a program to check if the person worked on a weekend and given the number of days spent working on a weekend, add this amount to the total salary for a week**. Some test cases have been given below for your help.\n",
    "\n",
    "```\n",
    "    Enter the No. of hours spent at work on weekdays = 30\n",
    "    Worked on a weekend (Y/N only) = Y\n",
    "    Days on weekend = 1\n",
    "    Pay = $ 150.0\n",
    "    Pay including weekend off shift = $ 175.0\n",
    "\n",
    "    Enter the No. of hours spent at work on weekdays = 50\n",
    "    Worked on a weekend (Y/N only) = Y\n",
    "    Days on weekend = 2\n",
    "    Pay = $ 300.0\n",
    "    Pay including weekend off shift = $ 350.0\n",
    "\n",
    "    Enter the No. of hours spent at work on weekdays = 0\n",
    "    Worked on a weekend (Y/N only) = Y\n",
    "    Days on weekend = 2\n",
    "    Pay including weekend off shift = $ 50\n",
    "\n",
    "    Enter the No. of hours spent at work on weekdays = 48\n",
    "    Worked on a weekend (Y/N only) = N\n",
    "    Days on weekend = 0\n",
    "    Pay = $ 280.0\n",
    "\n",
    "    Enter the No. of hours spent at work on weekdays = -1\n",
    "    Worked on a weekend (Y/N only) = N\n",
    "    Days on weekend = 0\n",
    "    Input is incorrect!\n",
    "\n",
    "    Enter the No. of hours spent at work on weekdays = 0\n",
    "    Worked on a weekend (Y/N only) = N\n",
    "    Days on weekend = 0\n",
    "    You didn't make any money.\n",
    "```"
   ]
  },
  {
   "cell_type": "markdown",
   "id": "c0b605aa",
   "metadata": {},
   "source": [
    "# While Loops"
   ]
  },
  {
   "cell_type": "code",
   "execution_count": 56,
   "id": "a7c3f908",
   "metadata": {
    "ExecuteTime": {
     "end_time": "2022-07-22T13:41:03.773559Z",
     "start_time": "2022-07-22T13:41:03.754557Z"
    }
   },
   "outputs": [
    {
     "name": "stdout",
     "output_type": "stream",
     "text": [
      "1\n",
      "2\n",
      "3\n",
      "4\n",
      "5\n"
     ]
    }
   ],
   "source": [
    "i = 1 \n",
    "while i < 6:   \n",
    "    print(i)\n",
    "    i += 1"
   ]
  },
  {
   "cell_type": "code",
   "execution_count": 12,
   "id": "19666c93",
   "metadata": {
    "ExecuteTime": {
     "end_time": "2022-09-02T15:18:29.244711Z",
     "start_time": "2022-09-02T15:18:20.736768Z"
    }
   },
   "outputs": [
    {
     "name": "stdout",
     "output_type": "stream",
     "text": [
      "Enter the SAT SCORE = 2300\n",
      "Enter the CGPA = 2.6\n",
      "Enter the ALUMNUS STATUS = no\n",
      "no\n",
      "ADMISSION GRANTED\n"
     ]
    }
   ],
   "source": [
    "my_SAT_SCORE = float(input(\"Enter the SAT SCORE = \"))\n",
    "my_CGPA = float(input(\"Enter the CGPA = \"))\n",
    "my_ALUMNUS_STATUS = (input(\"Enter the ALUMNUS STATUS = \")).lower()\n",
    "\n",
    "if (my_SAT_SCORE < 0 or my_SAT_SCORE > 2400) or (my_CGPA < 0 or my_CGPA > 4.0) or (my_ALUMNUS_STATUS != \"yes\" and my_ALUMNUS_STATUS != \"no\"):\n",
    "    print(\"Wrong Information\")\n",
    "elif (1800 <= my_SAT_SCORE <= 2400 and 2.4 <= my_CGPA <= 4.0) or (my_ALUMNUS_STATUS == \"yes\"):\n",
    "    print(\"ADMISSION GRANTED\")\n",
    "else:\n",
    "    print(\"ADMISSION NOT GRANTED\")"
   ]
  },
  {
   "cell_type": "code",
   "execution_count": null,
   "id": "2f000ec7",
   "metadata": {},
   "outputs": [],
   "source": []
  }
 ],
 "metadata": {
  "kernelspec": {
   "display_name": "Python 3 (ipykernel)",
   "language": "python",
   "name": "python3"
  },
  "language_info": {
   "codemirror_mode": {
    "name": "ipython",
    "version": 3
   },
   "file_extension": ".py",
   "mimetype": "text/x-python",
   "name": "python",
   "nbconvert_exporter": "python",
   "pygments_lexer": "ipython3",
   "version": "3.7.10"
  },
  "toc": {
   "base_numbering": 1,
   "nav_menu": {},
   "number_sections": true,
   "sideBar": true,
   "skip_h1_title": false,
   "title_cell": "Table of Contents",
   "title_sidebar": "Contents",
   "toc_cell": false,
   "toc_position": {},
   "toc_section_display": true,
   "toc_window_display": false
  },
  "varInspector": {
   "cols": {
    "lenName": 16,
    "lenType": 16,
    "lenVar": 40
   },
   "kernels_config": {
    "python": {
     "delete_cmd_postfix": "",
     "delete_cmd_prefix": "del ",
     "library": "var_list.py",
     "varRefreshCmd": "print(var_dic_list())"
    },
    "r": {
     "delete_cmd_postfix": ") ",
     "delete_cmd_prefix": "rm(",
     "library": "var_list.r",
     "varRefreshCmd": "cat(var_dic_list()) "
    }
   },
   "types_to_exclude": [
    "module",
    "function",
    "builtin_function_or_method",
    "instance",
    "_Feature"
   ],
   "window_display": false
  }
 },
 "nbformat": 4,
 "nbformat_minor": 5
}
