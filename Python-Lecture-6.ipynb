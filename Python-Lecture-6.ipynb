{
 "cells": [
  {
   "cell_type": "markdown",
   "id": "9ccb467d",
   "metadata": {},
   "source": [
    "# Sets\n",
    "* Unordered\n",
    "* Unchangeable (Immutable)\n",
    "* Unindexed\n",
    "* Having distinct elements"
   ]
  },
  {
   "cell_type": "code",
   "execution_count": 3,
   "id": "8cda2799",
   "metadata": {
    "ExecuteTime": {
     "end_time": "2022-08-13T07:02:04.188881Z",
     "start_time": "2022-08-13T07:02:04.143893Z"
    }
   },
   "outputs": [
    {
     "name": "stdout",
     "output_type": "stream",
     "text": [
      "{'blue', 'green', 'red'}\n"
     ]
    },
    {
     "data": {
      "text/plain": [
       "set"
      ]
     },
     "execution_count": 3,
     "metadata": {},
     "output_type": "execute_result"
    }
   ],
   "source": [
    "set_colours = {\"blue\", \"red\", \"green\"}\n",
    "print(set_colours)\n",
    "type(set_colours)"
   ]
  },
  {
   "cell_type": "code",
   "execution_count": 5,
   "id": "7db25e2c",
   "metadata": {
    "ExecuteTime": {
     "end_time": "2022-08-13T07:04:03.924144Z",
     "start_time": "2022-08-13T07:04:03.902147Z"
    }
   },
   "outputs": [
    {
     "name": "stdout",
     "output_type": "stream",
     "text": [
      "{'blue', 'green', 'red'}\n"
     ]
    }
   ],
   "source": [
    "# Duplicates not allowed\n",
    "\n",
    "set_colours = {\"blue\", \"red\", \"green\", \"blue\", \"blue\"}\n",
    "print(set_colours)"
   ]
  },
  {
   "cell_type": "code",
   "execution_count": 6,
   "id": "42c32204",
   "metadata": {
    "ExecuteTime": {
     "end_time": "2022-08-13T07:04:38.040229Z",
     "start_time": "2022-08-13T07:04:38.025231Z"
    }
   },
   "outputs": [
    {
     "name": "stdout",
     "output_type": "stream",
     "text": [
      "3\n"
     ]
    }
   ],
   "source": [
    "print(len(set_colours))"
   ]
  },
  {
   "cell_type": "code",
   "execution_count": 10,
   "id": "23909a6b",
   "metadata": {
    "ExecuteTime": {
     "end_time": "2022-08-13T07:07:02.668645Z",
     "start_time": "2022-08-13T07:07:02.651646Z"
    }
   },
   "outputs": [
    {
     "name": "stdout",
     "output_type": "stream",
     "text": [
      "{'Hurairah', 'Zafar', 'Aj', 'Ali'}\n"
     ]
    }
   ],
   "source": [
    "set_names = {\"Zafar\", \"Hurairah\", \"Ali\", \"Aj\"}\n",
    "print(set_names)"
   ]
  },
  {
   "cell_type": "code",
   "execution_count": 80,
   "id": "b81bef4e",
   "metadata": {
    "ExecuteTime": {
     "end_time": "2022-08-13T08:17:59.214341Z",
     "start_time": "2022-08-13T08:17:59.194339Z"
    }
   },
   "outputs": [],
   "source": [
    "set1 = {0, \"Gulzar\", True, 2.2}"
   ]
  },
  {
   "cell_type": "code",
   "execution_count": 81,
   "id": "8bf1c776",
   "metadata": {
    "ExecuteTime": {
     "end_time": "2022-08-13T08:17:59.699344Z",
     "start_time": "2022-08-13T08:17:59.680360Z"
    }
   },
   "outputs": [
    {
     "name": "stdout",
     "output_type": "stream",
     "text": [
      "{0, 'Gulzar', 2.2, True}\n"
     ]
    }
   ],
   "source": [
    "print(set1)"
   ]
  },
  {
   "cell_type": "code",
   "execution_count": 23,
   "id": "780e4382",
   "metadata": {
    "ExecuteTime": {
     "end_time": "2022-08-13T07:11:49.195042Z",
     "start_time": "2022-08-13T07:11:49.179029Z"
    }
   },
   "outputs": [
    {
     "name": "stdout",
     "output_type": "stream",
     "text": [
      "{'FSD', 'ISD', 'LHR'}\n"
     ]
    }
   ],
   "source": [
    "set_cities = set((\"FSD\", \"LHR\", \"ISD\"))\n",
    "print(set_cities)"
   ]
  },
  {
   "cell_type": "code",
   "execution_count": 26,
   "id": "e3588d6c",
   "metadata": {
    "ExecuteTime": {
     "end_time": "2022-08-13T07:12:32.767657Z",
     "start_time": "2022-08-13T07:12:32.758656Z"
    }
   },
   "outputs": [
    {
     "name": "stdout",
     "output_type": "stream",
     "text": [
      "set()\n"
     ]
    }
   ],
   "source": [
    "set_cities2 = set()\n",
    "type(set_cities2)\n",
    "print(set_cities2)"
   ]
  },
  {
   "cell_type": "markdown",
   "id": "799eb3d7",
   "metadata": {},
   "source": [
    "## Accessing Items in a Set"
   ]
  },
  {
   "cell_type": "code",
   "execution_count": 27,
   "id": "ddb15440",
   "metadata": {
    "ExecuteTime": {
     "end_time": "2022-08-13T07:15:27.739863Z",
     "start_time": "2022-08-13T07:15:27.725864Z"
    }
   },
   "outputs": [
    {
     "name": "stdout",
     "output_type": "stream",
     "text": [
      "FSD\n",
      "ISD\n",
      "LHR\n"
     ]
    }
   ],
   "source": [
    "for city in set_cities:\n",
    "    print(city)"
   ]
  },
  {
   "cell_type": "code",
   "execution_count": 85,
   "id": "4d0b0e21",
   "metadata": {
    "ExecuteTime": {
     "end_time": "2022-08-13T08:21:30.019128Z",
     "start_time": "2022-08-13T08:21:30.009135Z"
    }
   },
   "outputs": [],
   "source": [
    "set_cities2 = {\"FSD\", \"LHR\", \"ISD\"}"
   ]
  },
  {
   "cell_type": "code",
   "execution_count": 88,
   "id": "2cb84f0d",
   "metadata": {
    "ExecuteTime": {
     "end_time": "2022-08-13T08:22:05.672718Z",
     "start_time": "2022-08-13T08:22:05.660718Z"
    }
   },
   "outputs": [
    {
     "name": "stdout",
     "output_type": "stream",
     "text": [
      "True\n",
      "False\n"
     ]
    }
   ],
   "source": [
    "print(\"FSD\" in set_cities2)\n",
    "print(\"MLT\" in set_cities2)"
   ]
  },
  {
   "cell_type": "code",
   "execution_count": 31,
   "id": "6e7649d3",
   "metadata": {
    "ExecuteTime": {
     "end_time": "2022-08-13T07:17:51.448085Z",
     "start_time": "2022-08-13T07:17:51.435084Z"
    }
   },
   "outputs": [
    {
     "name": "stdout",
     "output_type": "stream",
     "text": [
      "['FSD', 'ISD', 'LHR']\n",
      "ISD\n"
     ]
    }
   ],
   "source": [
    "list_cities = list(set_cities)\n",
    "print(list_cities)\n",
    "print(list_cities[1])"
   ]
  },
  {
   "cell_type": "code",
   "execution_count": 33,
   "id": "f5ff3b01",
   "metadata": {
    "ExecuteTime": {
     "end_time": "2022-08-13T07:20:58.980412Z",
     "start_time": "2022-08-13T07:20:58.963408Z"
    }
   },
   "outputs": [
    {
     "name": "stdout",
     "output_type": "stream",
     "text": [
      "{'FSD', 'ISD', 'LHR', 'MLT'}\n"
     ]
    }
   ],
   "source": [
    "set_cities.add(\"MLT\")\n",
    "set_cities.add(\"MLT\")\n",
    "print(set_cities)"
   ]
  },
  {
   "cell_type": "code",
   "execution_count": 34,
   "id": "3e27d0d4",
   "metadata": {
    "ExecuteTime": {
     "end_time": "2022-08-13T07:22:06.033617Z",
     "start_time": "2022-08-13T07:22:06.009621Z"
    }
   },
   "outputs": [
    {
     "name": "stdout",
     "output_type": "stream",
     "text": [
      "{'HYD', 'ISD', 'LHR', 'MLT', 'KHI', 'FSD', 'PSW'}\n"
     ]
    }
   ],
   "source": [
    "set_cities.update({\"KHI\", \"KHI\", \"HYD\", \"PSW\"})\n",
    "print(set_cities)"
   ]
  },
  {
   "cell_type": "code",
   "execution_count": 35,
   "id": "0fef9662",
   "metadata": {
    "ExecuteTime": {
     "end_time": "2022-08-13T07:23:22.058915Z",
     "start_time": "2022-08-13T07:23:22.037918Z"
    }
   },
   "outputs": [
    {
     "name": "stdout",
     "output_type": "stream",
     "text": [
      "{'LHR', 'RWP', 'FSD', 'BHW', 'MLT', 'HYD', 'KHI', 'ISD', 'PSW'}\n"
     ]
    }
   ],
   "source": [
    "set_cities.update([\"BHW\", \"RWP\"])\n",
    "print(set_cities)"
   ]
  },
  {
   "cell_type": "code",
   "execution_count": 36,
   "id": "a2c220e7",
   "metadata": {
    "ExecuteTime": {
     "end_time": "2022-08-13T07:25:35.699955Z",
     "start_time": "2022-08-13T07:25:35.689950Z"
    }
   },
   "outputs": [
    {
     "name": "stdout",
     "output_type": "stream",
     "text": [
      "{'LHR', 'RWP', 'FSD', 'BHW', 'MLT', 'HYD', 'KHI', 'Skardu', 'Baltistan', 'ISD', 'PSW'}\n"
     ]
    }
   ],
   "source": [
    "set_cities.update({\"Skardu\": 2, \"Baltistan\": 4})\n",
    "print(set_cities)"
   ]
  },
  {
   "cell_type": "markdown",
   "id": "03a4ce5b",
   "metadata": {},
   "source": [
    "## Removing Items from a Set"
   ]
  },
  {
   "cell_type": "code",
   "execution_count": 37,
   "id": "425445ed",
   "metadata": {
    "ExecuteTime": {
     "end_time": "2022-08-13T07:27:26.923980Z",
     "start_time": "2022-08-13T07:27:26.901982Z"
    }
   },
   "outputs": [
    {
     "name": "stdout",
     "output_type": "stream",
     "text": [
      "{'LHR', 'RWP', 'BHW', 'MLT', 'HYD', 'KHI', 'Skardu', 'Baltistan', 'ISD', 'PSW'}\n"
     ]
    }
   ],
   "source": [
    "set_cities.remove(\"FSD\")\n",
    "print(set_cities)"
   ]
  },
  {
   "cell_type": "code",
   "execution_count": 38,
   "id": "e60eead1",
   "metadata": {
    "ExecuteTime": {
     "end_time": "2022-08-13T07:27:56.593702Z",
     "start_time": "2022-08-13T07:27:56.575704Z"
    }
   },
   "outputs": [],
   "source": [
    "set_cities.discard(\"MLT\")"
   ]
  },
  {
   "cell_type": "code",
   "execution_count": 39,
   "id": "bee4bad4",
   "metadata": {
    "ExecuteTime": {
     "end_time": "2022-08-13T07:28:00.181856Z",
     "start_time": "2022-08-13T07:28:00.162860Z"
    }
   },
   "outputs": [
    {
     "name": "stdout",
     "output_type": "stream",
     "text": [
      "{'LHR', 'RWP', 'BHW', 'HYD', 'KHI', 'Skardu', 'Baltistan', 'ISD', 'PSW'}\n"
     ]
    }
   ],
   "source": [
    "print(set_cities)"
   ]
  },
  {
   "cell_type": "code",
   "execution_count": 40,
   "id": "482c0786",
   "metadata": {
    "ExecuteTime": {
     "end_time": "2022-08-13T07:28:22.061345Z",
     "start_time": "2022-08-13T07:28:21.674365Z"
    }
   },
   "outputs": [
    {
     "ename": "KeyError",
     "evalue": "'FSD'",
     "output_type": "error",
     "traceback": [
      "\u001b[1;31m---------------------------------------------------------------------------\u001b[0m",
      "\u001b[1;31mKeyError\u001b[0m                                  Traceback (most recent call last)",
      "\u001b[1;32m~\\AppData\\Local\\Temp\\ipykernel_18616\\1599354251.py\u001b[0m in \u001b[0;36m<module>\u001b[1;34m\u001b[0m\n\u001b[1;32m----> 1\u001b[1;33m \u001b[0mset_cities\u001b[0m\u001b[1;33m.\u001b[0m\u001b[0mremove\u001b[0m\u001b[1;33m(\u001b[0m\u001b[1;34m\"FSD\"\u001b[0m\u001b[1;33m)\u001b[0m\u001b[1;33m\u001b[0m\u001b[1;33m\u001b[0m\u001b[0m\n\u001b[0m",
      "\u001b[1;31mKeyError\u001b[0m: 'FSD'"
     ]
    }
   ],
   "source": [
    "set_cities.remove(\"FSD\")"
   ]
  },
  {
   "cell_type": "code",
   "execution_count": 41,
   "id": "14d691f2",
   "metadata": {
    "ExecuteTime": {
     "end_time": "2022-08-13T07:28:37.761046Z",
     "start_time": "2022-08-13T07:28:37.744077Z"
    }
   },
   "outputs": [],
   "source": [
    "set_cities.discard(\"FSD\")"
   ]
  },
  {
   "cell_type": "code",
   "execution_count": 42,
   "id": "4cf3d0c1",
   "metadata": {
    "ExecuteTime": {
     "end_time": "2022-08-13T07:29:41.589234Z",
     "start_time": "2022-08-13T07:29:41.578241Z"
    }
   },
   "outputs": [
    {
     "name": "stdout",
     "output_type": "stream",
     "text": [
      "{'LHR', 'RWP', 'BHW', 'HYD', 'KHI', 'Skardu', 'Baltistan', 'ISD', 'PSW'}\n"
     ]
    }
   ],
   "source": [
    "print(set_cities)"
   ]
  },
  {
   "cell_type": "code",
   "execution_count": 43,
   "id": "70e133c8",
   "metadata": {
    "ExecuteTime": {
     "end_time": "2022-08-13T07:29:54.905786Z",
     "start_time": "2022-08-13T07:29:54.887785Z"
    }
   },
   "outputs": [
    {
     "data": {
      "text/plain": [
       "'LHR'"
      ]
     },
     "execution_count": 43,
     "metadata": {},
     "output_type": "execute_result"
    }
   ],
   "source": [
    "set_cities.pop()"
   ]
  },
  {
   "cell_type": "code",
   "execution_count": 44,
   "id": "a739fc53",
   "metadata": {
    "ExecuteTime": {
     "end_time": "2022-08-13T07:30:47.064163Z",
     "start_time": "2022-08-13T07:30:47.043164Z"
    }
   },
   "outputs": [
    {
     "name": "stdout",
     "output_type": "stream",
     "text": [
      "{'RWP', 'BHW', 'HYD', 'KHI', 'Skardu', 'Baltistan', 'ISD', 'PSW'}\n"
     ]
    }
   ],
   "source": [
    "print(set_cities)"
   ]
  },
  {
   "cell_type": "code",
   "execution_count": 45,
   "id": "e488e46f",
   "metadata": {
    "ExecuteTime": {
     "end_time": "2022-08-13T07:31:35.329951Z",
     "start_time": "2022-08-13T07:31:35.302940Z"
    }
   },
   "outputs": [
    {
     "data": {
      "text/plain": [
       "'RWP'"
      ]
     },
     "execution_count": 45,
     "metadata": {},
     "output_type": "execute_result"
    }
   ],
   "source": [
    "set_cities.pop()"
   ]
  },
  {
   "cell_type": "code",
   "execution_count": 47,
   "id": "15740086",
   "metadata": {
    "ExecuteTime": {
     "end_time": "2022-08-13T07:32:40.911082Z",
     "start_time": "2022-08-13T07:32:40.902079Z"
    }
   },
   "outputs": [
    {
     "name": "stdout",
     "output_type": "stream",
     "text": [
      "BHW\n"
     ]
    }
   ],
   "source": [
    "city1 = set_cities.pop()\n",
    "print(city1)"
   ]
  },
  {
   "cell_type": "code",
   "execution_count": 48,
   "id": "7327a710",
   "metadata": {
    "ExecuteTime": {
     "end_time": "2022-08-13T07:33:11.160962Z",
     "start_time": "2022-08-13T07:33:11.139962Z"
    }
   },
   "outputs": [
    {
     "data": {
      "text/plain": [
       "{'Baltistan', 'HYD', 'ISD', 'KHI', 'PSW', 'Skardu'}"
      ]
     },
     "execution_count": 48,
     "metadata": {},
     "output_type": "execute_result"
    }
   ],
   "source": [
    "set_cities"
   ]
  },
  {
   "cell_type": "code",
   "execution_count": 50,
   "id": "6b25f4fe",
   "metadata": {
    "ExecuteTime": {
     "end_time": "2022-08-13T07:34:12.380484Z",
     "start_time": "2022-08-13T07:34:12.364491Z"
    }
   },
   "outputs": [
    {
     "name": "stdout",
     "output_type": "stream",
     "text": [
      "{'blue', 'green', 'red'}\n",
      "set()\n"
     ]
    }
   ],
   "source": [
    "print(set_colours)\n",
    "set_colours.clear()\n",
    "print(set_colours)"
   ]
  },
  {
   "cell_type": "code",
   "execution_count": 51,
   "id": "c008b2fd",
   "metadata": {
    "ExecuteTime": {
     "end_time": "2022-08-13T07:34:32.445530Z",
     "start_time": "2022-08-13T07:34:32.436532Z"
    }
   },
   "outputs": [],
   "source": [
    "del set_colours"
   ]
  },
  {
   "cell_type": "code",
   "execution_count": 52,
   "id": "f04e929e",
   "metadata": {
    "ExecuteTime": {
     "end_time": "2022-08-13T07:34:39.941379Z",
     "start_time": "2022-08-13T07:34:39.907371Z"
    }
   },
   "outputs": [
    {
     "ename": "NameError",
     "evalue": "name 'set_colours' is not defined",
     "output_type": "error",
     "traceback": [
      "\u001b[1;31m---------------------------------------------------------------------------\u001b[0m",
      "\u001b[1;31mNameError\u001b[0m                                 Traceback (most recent call last)",
      "\u001b[1;32m~\\AppData\\Local\\Temp\\ipykernel_18616\\4215655898.py\u001b[0m in \u001b[0;36m<module>\u001b[1;34m\u001b[0m\n\u001b[1;32m----> 1\u001b[1;33m \u001b[0mset_colours\u001b[0m\u001b[1;33m\u001b[0m\u001b[1;33m\u001b[0m\u001b[0m\n\u001b[0m",
      "\u001b[1;31mNameError\u001b[0m: name 'set_colours' is not defined"
     ]
    }
   ],
   "source": [
    "set_colours"
   ]
  },
  {
   "cell_type": "markdown",
   "id": "1b102fb7",
   "metadata": {},
   "source": [
    "## Joining Sets\n",
    "* Union\n",
    "* Intersection"
   ]
  },
  {
   "cell_type": "code",
   "execution_count": 53,
   "id": "20fe9386",
   "metadata": {
    "ExecuteTime": {
     "end_time": "2022-08-13T07:40:32.214202Z",
     "start_time": "2022-08-13T07:40:32.194203Z"
    }
   },
   "outputs": [
    {
     "name": "stdout",
     "output_type": "stream",
     "text": [
      "{1, 'CD', 2, 3, 4, 'AB', 'BC'}\n"
     ]
    }
   ],
   "source": [
    "set1 = {\"AB\", \"BC\", \"CD\"}\n",
    "set2 = {1, 2, 3, 4}\n",
    "\n",
    "set3 = set1.union(set2)\n",
    "print(set3)"
   ]
  },
  {
   "cell_type": "code",
   "execution_count": 55,
   "id": "889f96e8",
   "metadata": {
    "ExecuteTime": {
     "end_time": "2022-08-13T07:41:22.755309Z",
     "start_time": "2022-08-13T07:41:22.746305Z"
    }
   },
   "outputs": [
    {
     "name": "stdout",
     "output_type": "stream",
     "text": [
      "{1, 2, 3, 4, 'AB', 'CD', 'BC'}\n"
     ]
    }
   ],
   "source": [
    "set1.update(set2)\n",
    "print(set1)"
   ]
  },
  {
   "cell_type": "code",
   "execution_count": 56,
   "id": "4bd26a20",
   "metadata": {
    "ExecuteTime": {
     "end_time": "2022-08-13T07:42:33.297334Z",
     "start_time": "2022-08-13T07:42:33.282336Z"
    }
   },
   "outputs": [
    {
     "name": "stdout",
     "output_type": "stream",
     "text": [
      "{1, 2, 3, 4, 'AB', 'CD', 'BC'}\n"
     ]
    }
   ],
   "source": [
    "set2.update(set1)\n",
    "print(set2)"
   ]
  },
  {
   "cell_type": "code",
   "execution_count": 57,
   "id": "258e330b",
   "metadata": {
    "ExecuteTime": {
     "end_time": "2022-08-13T07:42:46.777332Z",
     "start_time": "2022-08-13T07:42:46.766334Z"
    }
   },
   "outputs": [
    {
     "name": "stdout",
     "output_type": "stream",
     "text": [
      "{1, 2, 3, 4, 'AB', 'CD', 'BC'}\n",
      "{1, 2, 3, 4, 'AB', 'CD', 'BC'}\n"
     ]
    }
   ],
   "source": [
    "print(set1)\n",
    "print(set2)"
   ]
  },
  {
   "cell_type": "code",
   "execution_count": 60,
   "id": "7b119ef0",
   "metadata": {
    "ExecuteTime": {
     "end_time": "2022-08-13T07:43:47.844969Z",
     "start_time": "2022-08-13T07:43:47.833971Z"
    }
   },
   "outputs": [
    {
     "name": "stdout",
     "output_type": "stream",
     "text": [
      "{1, 'CD', 2, 3, 4, 'AB', 'BC'}\n"
     ]
    }
   ],
   "source": [
    "set1 = {\"AB\", \"BC\", \"CD\"}\n",
    "set2 = {1, 2, 3, 4}\n",
    "\n",
    "set3 = set1.union(set2)\n",
    "print(set3)"
   ]
  },
  {
   "cell_type": "code",
   "execution_count": 61,
   "id": "9a00b6df",
   "metadata": {
    "ExecuteTime": {
     "end_time": "2022-08-13T07:47:11.328353Z",
     "start_time": "2022-08-13T07:47:11.306353Z"
    }
   },
   "outputs": [
    {
     "name": "stdout",
     "output_type": "stream",
     "text": [
      "{2, 4}\n"
     ]
    }
   ],
   "source": [
    "set4 = {1, 2, 3, 4, 5}\n",
    "set5 = {2, 4, 6, 8}\n",
    "\n",
    "set6 = set4.intersection(set5)\n",
    "print(set6)"
   ]
  },
  {
   "cell_type": "code",
   "execution_count": 62,
   "id": "7cd6d34c",
   "metadata": {
    "ExecuteTime": {
     "end_time": "2022-08-13T07:47:56.058758Z",
     "start_time": "2022-08-13T07:47:56.040769Z"
    }
   },
   "outputs": [
    {
     "name": "stdout",
     "output_type": "stream",
     "text": [
      "{2, 4}\n"
     ]
    }
   ],
   "source": [
    "set4.intersection_update(set5)\n",
    "print(set4)"
   ]
  },
  {
   "cell_type": "code",
   "execution_count": 66,
   "id": "c671daa0",
   "metadata": {
    "ExecuteTime": {
     "end_time": "2022-08-13T07:53:41.379536Z",
     "start_time": "2022-08-13T07:53:41.362539Z"
    }
   },
   "outputs": [
    {
     "name": "stdout",
     "output_type": "stream",
     "text": [
      "{1, 3, 5, 6, 8}\n"
     ]
    }
   ],
   "source": [
    "# Filtering elements which are not common in both sets\n",
    "\n",
    "set4 = {1, 2, 3, 4, 5}\n",
    "set5 = {2, 4, 6, 8}\n",
    "\n",
    "set5.symmetric_difference_update(set4)\n",
    "print(set5)"
   ]
  },
  {
   "cell_type": "code",
   "execution_count": 67,
   "id": "34aca6a4",
   "metadata": {
    "ExecuteTime": {
     "end_time": "2022-08-13T07:53:42.450596Z",
     "start_time": "2022-08-13T07:53:42.430055Z"
    }
   },
   "outputs": [
    {
     "name": "stdout",
     "output_type": "stream",
     "text": [
      "{1, 3, 5, 6, 8}\n"
     ]
    }
   ],
   "source": [
    "set4 = {1, 2, 3, 4, 5}\n",
    "set5 = {2, 4, 6, 8}\n",
    "\n",
    "set7 = set4.symmetric_difference(set5)\n",
    "print(set7)"
   ]
  },
  {
   "cell_type": "markdown",
   "id": "325f8cd0",
   "metadata": {},
   "source": [
    "## Supersets & Subsets"
   ]
  },
  {
   "cell_type": "code",
   "execution_count": 72,
   "id": "cf9a7b7e",
   "metadata": {
    "ExecuteTime": {
     "end_time": "2022-08-13T08:00:02.493697Z",
     "start_time": "2022-08-13T08:00:02.476701Z"
    }
   },
   "outputs": [
    {
     "name": "stdout",
     "output_type": "stream",
     "text": [
      "True\n",
      "False\n"
     ]
    }
   ],
   "source": [
    "setA = {\"a\", \"b\", \"c\"}\n",
    "setB = {\"a\", \"b\", \"f\", \"g\", \"h\", \"c\"}\n",
    "\n",
    "print(setA.issubset(setB))\n",
    "print(setB.issubset(setA))"
   ]
  },
  {
   "cell_type": "code",
   "execution_count": 75,
   "id": "bd7f156d",
   "metadata": {
    "ExecuteTime": {
     "end_time": "2022-08-13T08:04:39.819863Z",
     "start_time": "2022-08-13T08:04:39.795863Z"
    }
   },
   "outputs": [
    {
     "name": "stdout",
     "output_type": "stream",
     "text": [
      "True\n",
      "False\n"
     ]
    }
   ],
   "source": [
    "setA = {\"a\", \"b\", \"c\"}\n",
    "setB = {\"a\", \"b\", \"f\", \"g\", \"h\", \"c\"}\n",
    "\n",
    "print(setB.issuperset(setA))\n",
    "print(setA.issuperset(setB))"
   ]
  },
  {
   "cell_type": "code",
   "execution_count": 77,
   "id": "a3400fe4",
   "metadata": {
    "ExecuteTime": {
     "end_time": "2022-08-13T08:05:45.807291Z",
     "start_time": "2022-08-13T08:05:45.794293Z"
    }
   },
   "outputs": [
    {
     "name": "stdout",
     "output_type": "stream",
     "text": [
      "True\n",
      "True\n"
     ]
    }
   ],
   "source": [
    "setC = {\"a\", \"b\", \"c\"}\n",
    "setD = {\"a\", \"b\", \"c\"}\n",
    "\n",
    "print(setD.issuperset(setC))\n",
    "print(setD.issubset(setC))"
   ]
  },
  {
   "cell_type": "code",
   "execution_count": null,
   "id": "cc458b72",
   "metadata": {},
   "outputs": [],
   "source": []
  }
 ],
 "metadata": {
  "kernelspec": {
   "display_name": "Python 3 (ipykernel)",
   "language": "python",
   "name": "python3"
  },
  "language_info": {
   "codemirror_mode": {
    "name": "ipython",
    "version": 3
   },
   "file_extension": ".py",
   "mimetype": "text/x-python",
   "name": "python",
   "nbconvert_exporter": "python",
   "pygments_lexer": "ipython3",
   "version": "3.7.10"
  },
  "toc": {
   "base_numbering": 1,
   "nav_menu": {},
   "number_sections": true,
   "sideBar": true,
   "skip_h1_title": false,
   "title_cell": "Table of Contents",
   "title_sidebar": "Contents",
   "toc_cell": false,
   "toc_position": {},
   "toc_section_display": true,
   "toc_window_display": false
  },
  "varInspector": {
   "cols": {
    "lenName": 16,
    "lenType": 16,
    "lenVar": 40
   },
   "kernels_config": {
    "python": {
     "delete_cmd_postfix": "",
     "delete_cmd_prefix": "del ",
     "library": "var_list.py",
     "varRefreshCmd": "print(var_dic_list())"
    },
    "r": {
     "delete_cmd_postfix": ") ",
     "delete_cmd_prefix": "rm(",
     "library": "var_list.r",
     "varRefreshCmd": "cat(var_dic_list()) "
    }
   },
   "types_to_exclude": [
    "module",
    "function",
    "builtin_function_or_method",
    "instance",
    "_Feature"
   ],
   "window_display": false
  }
 },
 "nbformat": 4,
 "nbformat_minor": 5
}
