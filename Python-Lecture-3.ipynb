{
 "cells": [
  {
   "cell_type": "markdown",
   "id": "db161d4e",
   "metadata": {},
   "source": [
    "# Dictionaries\n",
    "* Used for storing complex information"
   ]
  },
  {
   "cell_type": "code",
   "execution_count": 1,
   "id": "94a74082",
   "metadata": {
    "ExecuteTime": {
     "end_time": "2022-07-29T12:49:55.627746Z",
     "start_time": "2022-07-29T12:49:55.605929Z"
    }
   },
   "outputs": [],
   "source": [
    "# hello : to say hi -> key : value"
   ]
  },
  {
   "cell_type": "code",
   "execution_count": 2,
   "id": "946ff5c6",
   "metadata": {
    "ExecuteTime": {
     "end_time": "2022-07-29T12:49:55.673632Z",
     "start_time": "2022-07-29T12:49:55.632644Z"
    }
   },
   "outputs": [
    {
     "data": {
      "text/plain": [
       "{'Name': 'Trump',\n",
       " 'Color': 'White',\n",
       " 'Breed': 'German Shepherd',\n",
       " 'Weight': 80.5,\n",
       " 'Height': 2}"
      ]
     },
     "execution_count": 2,
     "metadata": {},
     "output_type": "execute_result"
    }
   ],
   "source": [
    "dog_1 = {'Name': 'Trump', 'Color':'White', 'Breed':'German Shepherd', 'Weight':80.5, 'Height':2}\n",
    "dog_1"
   ]
  },
  {
   "cell_type": "code",
   "execution_count": 3,
   "id": "41c84867",
   "metadata": {
    "ExecuteTime": {
     "end_time": "2022-07-29T12:49:55.688836Z",
     "start_time": "2022-07-29T12:49:55.678631Z"
    }
   },
   "outputs": [
    {
     "name": "stdout",
     "output_type": "stream",
     "text": [
      "Trump\n"
     ]
    }
   ],
   "source": [
    "print(dog_1['Name'])"
   ]
  },
  {
   "cell_type": "code",
   "execution_count": 4,
   "id": "1381638b",
   "metadata": {
    "ExecuteTime": {
     "end_time": "2022-07-29T12:49:55.704485Z",
     "start_time": "2022-07-29T12:49:55.695488Z"
    }
   },
   "outputs": [
    {
     "name": "stdout",
     "output_type": "stream",
     "text": [
      "German Shepherd\n"
     ]
    }
   ],
   "source": [
    "print(dog_1['Breed'])"
   ]
  },
  {
   "cell_type": "code",
   "execution_count": 5,
   "id": "7a2a4f76",
   "metadata": {
    "ExecuteTime": {
     "end_time": "2022-07-29T12:49:55.719490Z",
     "start_time": "2022-07-29T12:49:55.710487Z"
    }
   },
   "outputs": [
    {
     "data": {
      "text/plain": [
       "{1: 'NY', 2: 'FSD', 3: 'LA'}"
      ]
     },
     "execution_count": 5,
     "metadata": {},
     "output_type": "execute_result"
    }
   ],
   "source": [
    "cities = {1:'NY', 2:'FSD', 3:'LA'}\n",
    "cities"
   ]
  },
  {
   "cell_type": "code",
   "execution_count": 6,
   "id": "19474676",
   "metadata": {
    "ExecuteTime": {
     "end_time": "2022-07-29T12:49:55.750914Z",
     "start_time": "2022-07-29T12:49:55.726488Z"
    }
   },
   "outputs": [
    {
     "data": {
      "text/plain": [
       "'NY'"
      ]
     },
     "execution_count": 6,
     "metadata": {},
     "output_type": "execute_result"
    }
   ],
   "source": [
    "cities[1]"
   ]
  },
  {
   "cell_type": "code",
   "execution_count": 7,
   "id": "9fcf8332",
   "metadata": {
    "ExecuteTime": {
     "end_time": "2022-07-29T12:49:55.782972Z",
     "start_time": "2022-07-29T12:49:55.756913Z"
    }
   },
   "outputs": [
    {
     "data": {
      "text/plain": [
       "'FSD'"
      ]
     },
     "execution_count": 7,
     "metadata": {},
     "output_type": "execute_result"
    }
   ],
   "source": [
    "cities[2]"
   ]
  },
  {
   "cell_type": "code",
   "execution_count": 8,
   "id": "665c8e77",
   "metadata": {
    "ExecuteTime": {
     "end_time": "2022-07-29T12:49:56.043919Z",
     "start_time": "2022-07-29T12:49:55.788971Z"
    }
   },
   "outputs": [
    {
     "ename": "KeyError",
     "evalue": "4",
     "output_type": "error",
     "traceback": [
      "\u001b[1;31m---------------------------------------------------------------------------\u001b[0m",
      "\u001b[1;31mKeyError\u001b[0m                                  Traceback (most recent call last)",
      "\u001b[1;32m~\\AppData\\Local\\Temp\\ipykernel_14772\\3265465078.py\u001b[0m in \u001b[0;36m<module>\u001b[1;34m\u001b[0m\n\u001b[1;32m----> 1\u001b[1;33m \u001b[0mcities\u001b[0m\u001b[1;33m[\u001b[0m\u001b[1;36m4\u001b[0m\u001b[1;33m]\u001b[0m\u001b[1;33m\u001b[0m\u001b[1;33m\u001b[0m\u001b[0m\n\u001b[0m",
      "\u001b[1;31mKeyError\u001b[0m: 4"
     ]
    }
   ],
   "source": [
    "cities[4]"
   ]
  },
  {
   "cell_type": "code",
   "execution_count": 9,
   "id": "308e3c4e",
   "metadata": {
    "ExecuteTime": {
     "end_time": "2022-07-29T12:50:24.795670Z",
     "start_time": "2022-07-29T12:50:24.782733Z"
    }
   },
   "outputs": [
    {
     "name": "stdout",
     "output_type": "stream",
     "text": [
      "{1: 'Chapter 1', 1.1: 'Chapter 1.1', 1.2: 'Chapter 1.2', 2: 'Chapter 2'}\n"
     ]
    }
   ],
   "source": [
    "table_of_contents = {1:'Chapter 1', 1.1:'Chapter 1.1', 1.2:'Chapter 1.2', 2:'Chapter 2'}\n",
    "print(table_of_contents)"
   ]
  },
  {
   "cell_type": "code",
   "execution_count": 10,
   "id": "de125a2c",
   "metadata": {
    "ExecuteTime": {
     "end_time": "2022-07-29T12:50:24.826816Z",
     "start_time": "2022-07-29T12:50:24.800662Z"
    }
   },
   "outputs": [
    {
     "data": {
      "text/plain": [
       "{'Name': 'Trump',\n",
       " 'Color': 'White',\n",
       " 'Breed': 'German Shepherd',\n",
       " 'Weight': 80.5,\n",
       " 'Height': 2}"
      ]
     },
     "execution_count": 10,
     "metadata": {},
     "output_type": "execute_result"
    }
   ],
   "source": [
    "dog_1"
   ]
  },
  {
   "cell_type": "markdown",
   "id": "413a9e9b",
   "metadata": {},
   "source": [
    "## Adding/Removing/Changing items in a Dictionary"
   ]
  },
  {
   "cell_type": "code",
   "execution_count": 11,
   "id": "8b76ab06",
   "metadata": {
    "ExecuteTime": {
     "end_time": "2022-07-29T12:50:24.935826Z",
     "start_time": "2022-07-29T12:50:24.923827Z"
    }
   },
   "outputs": [
    {
     "data": {
      "text/plain": [
       "{'Name': 'Trump',\n",
       " 'Color': 'White',\n",
       " 'Breed': 'German Shepherd',\n",
       " 'Weight': 70,\n",
       " 'Height': 2}"
      ]
     },
     "execution_count": 11,
     "metadata": {},
     "output_type": "execute_result"
    }
   ],
   "source": [
    "dog_1['Weight'] = 70\n",
    "dog_1"
   ]
  },
  {
   "cell_type": "code",
   "execution_count": 12,
   "id": "1f9161b5",
   "metadata": {
    "ExecuteTime": {
     "end_time": "2022-07-29T12:50:24.951828Z",
     "start_time": "2022-07-29T12:50:24.942826Z"
    }
   },
   "outputs": [
    {
     "name": "stdout",
     "output_type": "stream",
     "text": [
      "dict_keys(['Name', 'Color', 'Breed', 'Weight', 'Height'])\n"
     ]
    }
   ],
   "source": [
    "print(dog_1.keys())"
   ]
  },
  {
   "cell_type": "code",
   "execution_count": 13,
   "id": "0139a6ff",
   "metadata": {
    "ExecuteTime": {
     "end_time": "2022-07-29T12:50:24.966828Z",
     "start_time": "2022-07-29T12:50:24.956829Z"
    }
   },
   "outputs": [
    {
     "data": {
      "text/plain": [
       "dict_values(['Trump', 'White', 'German Shepherd', 70, 2])"
      ]
     },
     "execution_count": 13,
     "metadata": {},
     "output_type": "execute_result"
    }
   ],
   "source": [
    "dog_1.values()"
   ]
  },
  {
   "cell_type": "code",
   "execution_count": 14,
   "id": "c613b769",
   "metadata": {
    "ExecuteTime": {
     "end_time": "2022-07-29T12:50:24.997719Z",
     "start_time": "2022-07-29T12:50:24.973826Z"
    }
   },
   "outputs": [
    {
     "data": {
      "text/plain": [
       "dict_items([('Name', 'Trump'), ('Color', 'White'), ('Breed', 'German Shepherd'), ('Weight', 70), ('Height', 2)])"
      ]
     },
     "execution_count": 14,
     "metadata": {},
     "output_type": "execute_result"
    }
   ],
   "source": [
    "dog_1.items()"
   ]
  },
  {
   "cell_type": "code",
   "execution_count": 15,
   "id": "a2fe86ae",
   "metadata": {
    "ExecuteTime": {
     "end_time": "2022-07-29T12:50:25.013493Z",
     "start_time": "2022-07-29T12:50:25.002478Z"
    }
   },
   "outputs": [
    {
     "name": "stdout",
     "output_type": "stream",
     "text": [
      "<class 'dict_items'>\n"
     ]
    }
   ],
   "source": [
    "print(type(dog_1.items()))"
   ]
  },
  {
   "cell_type": "code",
   "execution_count": 16,
   "id": "8db62c38",
   "metadata": {
    "ExecuteTime": {
     "end_time": "2022-07-29T12:50:25.044094Z",
     "start_time": "2022-07-29T12:50:25.018493Z"
    }
   },
   "outputs": [
    {
     "name": "stdout",
     "output_type": "stream",
     "text": [
      "<class 'dict'> <class 'dict'> <class 'list'>\n"
     ]
    }
   ],
   "source": [
    "dict2 = {}\n",
    "dict3 = dict()\n",
    "\n",
    "new_list = list()\n",
    "print(type(dict2), type(dict3), type(new_list))"
   ]
  },
  {
   "cell_type": "code",
   "execution_count": 17,
   "id": "758b2810",
   "metadata": {
    "ExecuteTime": {
     "end_time": "2022-07-29T12:50:25.074516Z",
     "start_time": "2022-07-29T12:50:25.050907Z"
    }
   },
   "outputs": [
    {
     "name": "stdout",
     "output_type": "stream",
     "text": [
      "{}\n",
      "{}\n",
      "[]\n"
     ]
    }
   ],
   "source": [
    "print(dict2)\n",
    "print(dict3)\n",
    "print(new_list)"
   ]
  },
  {
   "cell_type": "code",
   "execution_count": 18,
   "id": "896be478",
   "metadata": {
    "ExecuteTime": {
     "end_time": "2022-07-29T12:50:25.121481Z",
     "start_time": "2022-07-29T12:50:25.080519Z"
    }
   },
   "outputs": [
    {
     "name": "stdout",
     "output_type": "stream",
     "text": [
      "()\n",
      "banana\n"
     ]
    },
    {
     "ename": "TypeError",
     "evalue": "'tuple' object does not support item assignment",
     "output_type": "error",
     "traceback": [
      "\u001b[1;31m---------------------------------------------------------------------------\u001b[0m",
      "\u001b[1;31mTypeError\u001b[0m                                 Traceback (most recent call last)",
      "\u001b[1;32m~\\AppData\\Local\\Temp\\ipykernel_14772\\1550566854.py\u001b[0m in \u001b[0;36m<module>\u001b[1;34m\u001b[0m\n\u001b[0;32m      5\u001b[0m \u001b[0mprint\u001b[0m\u001b[1;33m(\u001b[0m\u001b[0mtuple2\u001b[0m\u001b[1;33m[\u001b[0m\u001b[1;36m1\u001b[0m\u001b[1;33m]\u001b[0m\u001b[1;33m)\u001b[0m\u001b[1;33m\u001b[0m\u001b[1;33m\u001b[0m\u001b[0m\n\u001b[0;32m      6\u001b[0m \u001b[1;33m\u001b[0m\u001b[0m\n\u001b[1;32m----> 7\u001b[1;33m \u001b[0mtuple2\u001b[0m\u001b[1;33m[\u001b[0m\u001b[1;36m1\u001b[0m\u001b[1;33m]\u001b[0m \u001b[1;33m=\u001b[0m \u001b[1;34m'mango'\u001b[0m\u001b[1;33m\u001b[0m\u001b[1;33m\u001b[0m\u001b[0m\n\u001b[0m",
      "\u001b[1;31mTypeError\u001b[0m: 'tuple' object does not support item assignment"
     ]
    }
   ],
   "source": [
    "tuple1 = ()\n",
    "tuple2 = ('apple', 'banana', 'orange')\n",
    "tuple3 = tuple()\n",
    "print(tuple1)\n",
    "print(tuple2[1])\n",
    "\n",
    "tuple2[1] = 'mango'"
   ]
  },
  {
   "cell_type": "code",
   "execution_count": 45,
   "id": "6f1b483f",
   "metadata": {
    "ExecuteTime": {
     "end_time": "2022-07-29T12:51:17.491490Z",
     "start_time": "2022-07-29T12:51:17.455238Z"
    }
   },
   "outputs": [
    {
     "ename": "TypeError",
     "evalue": "'str' object does not support item assignment",
     "output_type": "error",
     "traceback": [
      "\u001b[1;31m---------------------------------------------------------------------------\u001b[0m",
      "\u001b[1;31mTypeError\u001b[0m                                 Traceback (most recent call last)",
      "\u001b[1;32m~\\AppData\\Local\\Temp\\ipykernel_14772\\3075444133.py\u001b[0m in \u001b[0;36m<module>\u001b[1;34m\u001b[0m\n\u001b[0;32m      1\u001b[0m \u001b[0mname1\u001b[0m \u001b[1;33m=\u001b[0m \u001b[1;34m\"Arslan\"\u001b[0m\u001b[1;33m\u001b[0m\u001b[1;33m\u001b[0m\u001b[0m\n\u001b[1;32m----> 2\u001b[1;33m \u001b[0mname1\u001b[0m\u001b[1;33m[\u001b[0m\u001b[1;36m4\u001b[0m\u001b[1;33m]\u001b[0m \u001b[1;33m=\u001b[0m \u001b[1;34m'b'\u001b[0m\u001b[1;33m\u001b[0m\u001b[1;33m\u001b[0m\u001b[0m\n\u001b[0m",
      "\u001b[1;31mTypeError\u001b[0m: 'str' object does not support item assignment"
     ]
    }
   ],
   "source": [
    "name1 = \"Arslan\"\n",
    "name1[4] = 'b'"
   ]
  },
  {
   "cell_type": "code",
   "execution_count": null,
   "id": "2893c8a7",
   "metadata": {
    "ExecuteTime": {
     "end_time": "2022-07-29T12:51:17.498032Z",
     "start_time": "2022-07-29T12:51:17.498032Z"
    }
   },
   "outputs": [],
   "source": [
    "dog_1"
   ]
  },
  {
   "cell_type": "code",
   "execution_count": null,
   "id": "b8b906a6",
   "metadata": {
    "ExecuteTime": {
     "end_time": "2022-07-29T12:51:17.506122Z",
     "start_time": "2022-07-29T12:51:17.506122Z"
    }
   },
   "outputs": [],
   "source": [
    "dog_1['Pups'] = 3"
   ]
  },
  {
   "cell_type": "code",
   "execution_count": null,
   "id": "63e67508",
   "metadata": {
    "ExecuteTime": {
     "end_time": "2022-07-29T12:51:17.511116Z",
     "start_time": "2022-07-29T12:51:17.511116Z"
    }
   },
   "outputs": [],
   "source": [
    "dog_1"
   ]
  },
  {
   "cell_type": "code",
   "execution_count": null,
   "id": "c2baa08d",
   "metadata": {
    "ExecuteTime": {
     "end_time": "2022-07-29T12:51:17.518479Z",
     "start_time": "2022-07-29T12:51:17.518479Z"
    }
   },
   "outputs": [],
   "source": [
    "del dog_1[\"Weight\"]\n",
    "dog_1"
   ]
  },
  {
   "cell_type": "code",
   "execution_count": 46,
   "id": "2d8f787e",
   "metadata": {
    "ExecuteTime": {
     "end_time": "2022-07-29T12:51:17.539113Z",
     "start_time": "2022-07-29T12:51:17.524116Z"
    }
   },
   "outputs": [
    {
     "name": "stdout",
     "output_type": "stream",
     "text": [
      "Name\n",
      "Color\n",
      "Breed\n",
      "Weight\n",
      "Height\n"
     ]
    }
   ],
   "source": [
    "for key in dog_1.keys():\n",
    "    print(key)"
   ]
  },
  {
   "cell_type": "code",
   "execution_count": 47,
   "id": "73182f88",
   "metadata": {
    "ExecuteTime": {
     "end_time": "2022-07-29T12:51:17.570345Z",
     "start_time": "2022-07-29T12:51:17.547116Z"
    }
   },
   "outputs": [
    {
     "name": "stdout",
     "output_type": "stream",
     "text": [
      "Name\n",
      "Color\n",
      "Breed\n",
      "Weight\n",
      "Height\n"
     ]
    }
   ],
   "source": [
    "for key in dog_1:\n",
    "    print(key)"
   ]
  },
  {
   "cell_type": "code",
   "execution_count": 48,
   "id": "1cff4875",
   "metadata": {
    "ExecuteTime": {
     "end_time": "2022-07-29T12:51:17.601059Z",
     "start_time": "2022-07-29T12:51:17.581190Z"
    }
   },
   "outputs": [
    {
     "name": "stdout",
     "output_type": "stream",
     "text": [
      "Trump\n",
      "White\n",
      "German Shepherd\n",
      "70\n",
      "2\n"
     ]
    }
   ],
   "source": [
    "for value in dog_1.values():\n",
    "    print(value)"
   ]
  },
  {
   "cell_type": "code",
   "execution_count": 49,
   "id": "8fcb8dc3",
   "metadata": {
    "ExecuteTime": {
     "end_time": "2022-07-29T12:51:17.633648Z",
     "start_time": "2022-07-29T12:51:17.610588Z"
    }
   },
   "outputs": [
    {
     "name": "stdout",
     "output_type": "stream",
     "text": [
      "('Name', 'Trump')\n",
      "('Color', 'White')\n",
      "('Breed', 'German Shepherd')\n",
      "('Weight', 70)\n",
      "('Height', 2)\n",
      "[('Name', 'Trump'), ('Color', 'White'), ('Breed', 'German Shepherd'), ('Weight', 70), ('Height', 2)]\n"
     ]
    }
   ],
   "source": [
    "list_dog = list()\n",
    "\n",
    "for item in dog_1.items():\n",
    "    print(item)\n",
    "    list_dog.append(item)\n",
    "    \n",
    "print(list_dog)"
   ]
  },
  {
   "cell_type": "code",
   "execution_count": 50,
   "id": "cb6aa47d",
   "metadata": {
    "ExecuteTime": {
     "end_time": "2022-07-29T12:51:17.663081Z",
     "start_time": "2022-07-29T12:51:17.642188Z"
    }
   },
   "outputs": [
    {
     "name": "stdout",
     "output_type": "stream",
     "text": [
      "Breed\n"
     ]
    }
   ],
   "source": [
    "print(list_dog[2][0])"
   ]
  },
  {
   "cell_type": "code",
   "execution_count": 51,
   "id": "fb964b0f",
   "metadata": {
    "ExecuteTime": {
     "end_time": "2022-07-29T12:51:17.693736Z",
     "start_time": "2022-07-29T12:51:17.671166Z"
    }
   },
   "outputs": [
    {
     "name": "stdout",
     "output_type": "stream",
     "text": [
      "Trump\n"
     ]
    }
   ],
   "source": [
    "print(list_dog[0][1])"
   ]
  },
  {
   "cell_type": "code",
   "execution_count": 52,
   "id": "9c2a677b",
   "metadata": {
    "ExecuteTime": {
     "end_time": "2022-07-29T12:51:17.725921Z",
     "start_time": "2022-07-29T12:51:17.700737Z"
    }
   },
   "outputs": [
    {
     "data": {
      "text/plain": [
       "{'cars': ['Civic', 'Mehran', 'Jeep', 'Bugatti'],\n",
       " 'car_parts': ['Steering Wheel', 'Wheel', 'Gears', 'Headlights']}"
      ]
     },
     "execution_count": 52,
     "metadata": {},
     "output_type": "execute_result"
    }
   ],
   "source": [
    "# Storing complex data in a dictionary\n",
    "my_cars = [\"Civic\", 'Mehran', 'Jeep', 'Bugatti']\n",
    "my_car_parts = ['Steering Wheel', 'Wheel', 'Gears', 'Headlights']\n",
    "\n",
    "my_cars_dict = {'cars': my_cars, 'car_parts': my_car_parts}\n",
    "my_cars_dict"
   ]
  },
  {
   "cell_type": "markdown",
   "id": "1d2ceea7",
   "metadata": {},
   "source": [
    "## Adding items to a dictionary on runtime"
   ]
  },
  {
   "cell_type": "code",
   "execution_count": 53,
   "id": "852e110a",
   "metadata": {
    "ExecuteTime": {
     "end_time": "2022-07-29T12:51:17.926086Z",
     "start_time": "2022-07-29T12:51:17.898706Z"
    }
   },
   "outputs": [
    {
     "data": {
      "text/plain": [
       "dict"
      ]
     },
     "execution_count": 53,
     "metadata": {},
     "output_type": "execute_result"
    }
   ],
   "source": [
    "person1 = dict()\n",
    "type(person1)"
   ]
  },
  {
   "cell_type": "code",
   "execution_count": 54,
   "id": "836eb2df",
   "metadata": {
    "ExecuteTime": {
     "end_time": "2022-07-29T12:51:17.956981Z",
     "start_time": "2022-07-29T12:51:17.933752Z"
    }
   },
   "outputs": [
    {
     "data": {
      "text/plain": [
       "{'fName': 'Jake',\n",
       " 'sName': 'Trafford',\n",
       " 'Age': 35,\n",
       " 'Address': '10, Downing Street',\n",
       " 'Children': ['Angelina', 'Arslan', 'Ahmad'],\n",
       " 'Pets': {'Cat': 'Brownie', 'Dog': 'Woofie', 'Canary': 'Tweetie'}}"
      ]
     },
     "execution_count": 54,
     "metadata": {},
     "output_type": "execute_result"
    }
   ],
   "source": [
    "person1['fName'] = 'Jake'\n",
    "person1['sName'] = 'Trafford'\n",
    "person1['Age'] = 35\n",
    "person1['Address'] = '10, Downing Street'\n",
    "person1['Children'] = ['Angelina', 'Arslan', 'Ahmad']\n",
    "person1['Pets'] = {'Cat': 'Brownie', 'Dog': 'Woofie', 'Canary': 'Tweetie'}\n",
    "\n",
    "person1"
   ]
  },
  {
   "cell_type": "code",
   "execution_count": 55,
   "id": "34f6191f",
   "metadata": {
    "ExecuteTime": {
     "end_time": "2022-07-29T12:51:17.988558Z",
     "start_time": "2022-07-29T12:51:17.963982Z"
    }
   },
   "outputs": [
    {
     "data": {
      "text/plain": [
       "{'fName': 'Arslan',\n",
       " 'sName': 'Aslam',\n",
       " 'Age': 21,\n",
       " 'Address': '44, Johar Street',\n",
       " 'Children': ['Usman', 'Hassan'],\n",
       " 'Pets': {'Cat': 'Bashir', 'Dog': 'Timmy', 'Canary': 'Tootie'}}"
      ]
     },
     "execution_count": 55,
     "metadata": {},
     "output_type": "execute_result"
    }
   ],
   "source": [
    "person2 = {}\n",
    "person2['fName'] = 'Arslan'\n",
    "person2['sName'] = 'Aslam'\n",
    "person2['Age'] = 21\n",
    "person2['Address'] = '44, Johar Street'\n",
    "person2['Children'] = ['Usman', 'Hassan']\n",
    "person2['Pets'] = {'Cat': 'Bashir', 'Dog': 'Timmy', 'Canary': 'Tootie'}\n",
    "\n",
    "person2"
   ]
  },
  {
   "cell_type": "code",
   "execution_count": 56,
   "id": "23e68bad",
   "metadata": {
    "ExecuteTime": {
     "end_time": "2022-07-29T12:51:18.019949Z",
     "start_time": "2022-07-29T12:51:17.997941Z"
    }
   },
   "outputs": [
    {
     "data": {
      "text/plain": [
       "{'fName': 'Akbar',\n",
       " 'sName': 'Anthony',\n",
       " 'Age': 25,\n",
       " 'Address': '14, Karim Street',\n",
       " 'Children': ['Mona', 'Sohail', 'Muaaz'],\n",
       " 'Pets': {'Cat': 'Baloo', 'Dog': 'Tammy', 'Canary': 'Sweetie'}}"
      ]
     },
     "execution_count": 56,
     "metadata": {},
     "output_type": "execute_result"
    }
   ],
   "source": [
    "person3 = {}\n",
    "person3['fName'] = 'Akbar'\n",
    "person3['sName'] = 'Anthony'\n",
    "person3['Age'] = 25\n",
    "person3['Address'] = '14, Karim Street'\n",
    "person3['Children'] = ['Mona', 'Sohail', 'Muaaz']\n",
    "person3['Pets'] = {'Cat': 'Baloo', 'Dog': 'Tammy', 'Canary': 'Sweetie'}\n",
    "\n",
    "person3"
   ]
  },
  {
   "cell_type": "code",
   "execution_count": 57,
   "id": "6054aa12",
   "metadata": {
    "ExecuteTime": {
     "end_time": "2022-07-29T12:51:18.051416Z",
     "start_time": "2022-07-29T12:51:18.025952Z"
    }
   },
   "outputs": [
    {
     "data": {
      "text/plain": [
       "{1: {'fName': 'Jake',\n",
       "  'sName': 'Trafford',\n",
       "  'Age': 35,\n",
       "  'Address': '10, Downing Street',\n",
       "  'Children': ['Angelina', 'Arslan', 'Ahmad'],\n",
       "  'Pets': {'Cat': 'Brownie', 'Dog': 'Woofie', 'Canary': 'Tweetie'}},\n",
       " 2: {'fName': 'Arslan',\n",
       "  'sName': 'Aslam',\n",
       "  'Age': 21,\n",
       "  'Address': '44, Johar Street',\n",
       "  'Children': ['Usman', 'Hassan'],\n",
       "  'Pets': {'Cat': 'Bashir', 'Dog': 'Timmy', 'Canary': 'Tootie'}}}"
      ]
     },
     "execution_count": 57,
     "metadata": {},
     "output_type": "execute_result"
    }
   ],
   "source": [
    "all_persons = dict()\n",
    "\n",
    "all_persons[1] = person1\n",
    "all_persons[2] = person2\n",
    "\n",
    "all_persons"
   ]
  },
  {
   "cell_type": "code",
   "execution_count": 58,
   "id": "4334b5ef",
   "metadata": {
    "ExecuteTime": {
     "end_time": "2022-07-29T12:51:18.082081Z",
     "start_time": "2022-07-29T12:51:18.057946Z"
    }
   },
   "outputs": [
    {
     "data": {
      "text/plain": [
       "[{'fName': 'Jake',\n",
       "  'sName': 'Trafford',\n",
       "  'Age': 35,\n",
       "  'Address': '10, Downing Street',\n",
       "  'Children': ['Angelina', 'Arslan', 'Ahmad'],\n",
       "  'Pets': {'Cat': 'Brownie', 'Dog': 'Woofie', 'Canary': 'Tweetie'}},\n",
       " {'fName': 'Arslan',\n",
       "  'sName': 'Aslam',\n",
       "  'Age': 21,\n",
       "  'Address': '44, Johar Street',\n",
       "  'Children': ['Usman', 'Hassan'],\n",
       "  'Pets': {'Cat': 'Bashir', 'Dog': 'Timmy', 'Canary': 'Tootie'}}]"
      ]
     },
     "execution_count": 58,
     "metadata": {},
     "output_type": "execute_result"
    }
   ],
   "source": [
    "all_persons_list = [person1, person2]\n",
    "all_persons_list"
   ]
  },
  {
   "cell_type": "code",
   "execution_count": 59,
   "id": "83a8408f",
   "metadata": {
    "ExecuteTime": {
     "end_time": "2022-07-29T12:51:18.112883Z",
     "start_time": "2022-07-29T12:51:18.089099Z"
    }
   },
   "outputs": [
    {
     "data": {
      "text/plain": [
       "{'fName': 'Jake',\n",
       " 'sName': 'Trafford',\n",
       " 'Age': 35,\n",
       " 'Address': '10, Downing Street',\n",
       " 'Children': ['Angelina', 'Arslan', 'Ahmad'],\n",
       " 'Pets': {'Cat': 'Brownie', 'Dog': 'Woofie', 'Canary': 'Tweetie'}}"
      ]
     },
     "execution_count": 59,
     "metadata": {},
     "output_type": "execute_result"
    }
   ],
   "source": [
    "all_persons_list[0]"
   ]
  },
  {
   "cell_type": "code",
   "execution_count": 60,
   "id": "f15b3294",
   "metadata": {
    "ExecuteTime": {
     "end_time": "2022-07-29T12:51:18.143932Z",
     "start_time": "2022-07-29T12:51:18.119902Z"
    }
   },
   "outputs": [
    {
     "data": {
      "text/plain": [
       "{'fName': 'Arslan',\n",
       " 'sName': 'Aslam',\n",
       " 'Age': 21,\n",
       " 'Address': '44, Johar Street',\n",
       " 'Children': ['Usman', 'Hassan'],\n",
       " 'Pets': {'Cat': 'Bashir', 'Dog': 'Timmy', 'Canary': 'Tootie'}}"
      ]
     },
     "execution_count": 60,
     "metadata": {},
     "output_type": "execute_result"
    }
   ],
   "source": [
    "all_persons_list[1]"
   ]
  },
  {
   "cell_type": "code",
   "execution_count": 61,
   "id": "a78ae02b",
   "metadata": {
    "ExecuteTime": {
     "end_time": "2022-07-29T12:51:18.174746Z",
     "start_time": "2022-07-29T12:51:18.154085Z"
    }
   },
   "outputs": [],
   "source": [
    "all_persons[3] = person3"
   ]
  },
  {
   "cell_type": "code",
   "execution_count": 62,
   "id": "ba8a879e",
   "metadata": {
    "ExecuteTime": {
     "end_time": "2022-07-29T12:51:18.205243Z",
     "start_time": "2022-07-29T12:51:18.182872Z"
    }
   },
   "outputs": [],
   "source": [
    "all_persons_list.append(person3)"
   ]
  },
  {
   "cell_type": "code",
   "execution_count": 63,
   "id": "9165750b",
   "metadata": {
    "ExecuteTime": {
     "end_time": "2022-07-29T12:51:18.236654Z",
     "start_time": "2022-07-29T12:51:18.212072Z"
    }
   },
   "outputs": [
    {
     "data": {
      "text/plain": [
       "[{'fName': 'Jake',\n",
       "  'sName': 'Trafford',\n",
       "  'Age': 35,\n",
       "  'Address': '10, Downing Street',\n",
       "  'Children': ['Angelina', 'Arslan', 'Ahmad'],\n",
       "  'Pets': {'Cat': 'Brownie', 'Dog': 'Woofie', 'Canary': 'Tweetie'}},\n",
       " {'fName': 'Arslan',\n",
       "  'sName': 'Aslam',\n",
       "  'Age': 21,\n",
       "  'Address': '44, Johar Street',\n",
       "  'Children': ['Usman', 'Hassan'],\n",
       "  'Pets': {'Cat': 'Bashir', 'Dog': 'Timmy', 'Canary': 'Tootie'}},\n",
       " {'fName': 'Akbar',\n",
       "  'sName': 'Anthony',\n",
       "  'Age': 25,\n",
       "  'Address': '14, Karim Street',\n",
       "  'Children': ['Mona', 'Sohail', 'Muaaz'],\n",
       "  'Pets': {'Cat': 'Baloo', 'Dog': 'Tammy', 'Canary': 'Sweetie'}}]"
      ]
     },
     "execution_count": 63,
     "metadata": {},
     "output_type": "execute_result"
    }
   ],
   "source": [
    "all_persons_list"
   ]
  },
  {
   "cell_type": "code",
   "execution_count": 64,
   "id": "63cf5f40",
   "metadata": {
    "ExecuteTime": {
     "end_time": "2022-07-29T12:51:18.268049Z",
     "start_time": "2022-07-29T12:51:18.242653Z"
    }
   },
   "outputs": [
    {
     "data": {
      "text/plain": [
       "{1: {'fName': 'Jake',\n",
       "  'sName': 'Trafford',\n",
       "  'Age': 35,\n",
       "  'Address': '10, Downing Street',\n",
       "  'Children': ['Angelina', 'Arslan', 'Ahmad'],\n",
       "  'Pets': {'Cat': 'Brownie', 'Dog': 'Woofie', 'Canary': 'Tweetie'}},\n",
       " 2: {'fName': 'Arslan',\n",
       "  'sName': 'Aslam',\n",
       "  'Age': 21,\n",
       "  'Address': '44, Johar Street',\n",
       "  'Children': ['Usman', 'Hassan'],\n",
       "  'Pets': {'Cat': 'Bashir', 'Dog': 'Timmy', 'Canary': 'Tootie'}},\n",
       " 3: {'fName': 'Akbar',\n",
       "  'sName': 'Anthony',\n",
       "  'Age': 25,\n",
       "  'Address': '14, Karim Street',\n",
       "  'Children': ['Mona', 'Sohail', 'Muaaz'],\n",
       "  'Pets': {'Cat': 'Baloo', 'Dog': 'Tammy', 'Canary': 'Sweetie'}}}"
      ]
     },
     "execution_count": 64,
     "metadata": {},
     "output_type": "execute_result"
    }
   ],
   "source": [
    "all_persons"
   ]
  },
  {
   "cell_type": "code",
   "execution_count": 65,
   "id": "40564be8",
   "metadata": {
    "ExecuteTime": {
     "end_time": "2022-07-29T12:51:18.315730Z",
     "start_time": "2022-07-29T12:51:18.274725Z"
    }
   },
   "outputs": [
    {
     "ename": "IndexError",
     "evalue": "list assignment index out of range",
     "output_type": "error",
     "traceback": [
      "\u001b[1;31m---------------------------------------------------------------------------\u001b[0m",
      "\u001b[1;31mIndexError\u001b[0m                                Traceback (most recent call last)",
      "\u001b[1;32m~\\AppData\\Local\\Temp\\ipykernel_14772\\2399604665.py\u001b[0m in \u001b[0;36m<module>\u001b[1;34m\u001b[0m\n\u001b[1;32m----> 1\u001b[1;33m \u001b[1;32mdel\u001b[0m \u001b[0mall_persons_list\u001b[0m\u001b[1;33m[\u001b[0m\u001b[1;36m3\u001b[0m\u001b[1;33m]\u001b[0m\u001b[1;33m\u001b[0m\u001b[1;33m\u001b[0m\u001b[0m\n\u001b[0m\u001b[0;32m      2\u001b[0m \u001b[0mall_persons_list\u001b[0m\u001b[1;33m\u001b[0m\u001b[1;33m\u001b[0m\u001b[0m\n",
      "\u001b[1;31mIndexError\u001b[0m: list assignment index out of range"
     ]
    }
   ],
   "source": [
    "del all_persons_list[3]\n",
    "all_persons_list"
   ]
  },
  {
   "cell_type": "code",
   "execution_count": null,
   "id": "abdd6b55",
   "metadata": {
    "ExecuteTime": {
     "end_time": "2022-07-29T12:51:18.322724Z",
     "start_time": "2022-07-29T12:51:18.322724Z"
    }
   },
   "outputs": [],
   "source": [
    "all_persons_list[0]['Children'][0]"
   ]
  },
  {
   "cell_type": "code",
   "execution_count": null,
   "id": "0f513f58",
   "metadata": {
    "ExecuteTime": {
     "end_time": "2022-07-29T12:51:18.329724Z",
     "start_time": "2022-07-29T12:51:18.328726Z"
    }
   },
   "outputs": [],
   "source": [
    "pets_dict = all_persons_list[1]['Pets']\n",
    "\n",
    "for key in pets_dict.keys():\n",
    "    if key == \"Cat\":\n",
    "        print(pets_dict[key])"
   ]
  },
  {
   "cell_type": "markdown",
   "id": "ef3cc0a2",
   "metadata": {},
   "source": [
    "## Simple Coding Problems\n",
    "1. Find out the names of Akbar's kids & find the number of children, which he has.\n",
    "    1. Find out the names of Akbar's 3rd child.\n",
    "    \n",
    "2. Find out if Jake has a dog & if yes, what is its name? **Use `items()` method here.**"
   ]
  },
  {
   "cell_type": "code",
   "execution_count": 2,
   "id": "2df90668",
   "metadata": {
    "ExecuteTime": {
     "end_time": "2022-07-31T08:16:06.733079Z",
     "start_time": "2022-07-31T08:16:06.688087Z"
    }
   },
   "outputs": [
    {
     "data": {
      "text/plain": [
       "{'fName': 'Jake',\n",
       " 'sName': 'Trafford',\n",
       " 'Age': 35,\n",
       " 'Address': '10, Downing Street',\n",
       " 'Children': ['Angelina', 'Arslan', 'Ahmad'],\n",
       " 'Pets': {'Cat': 'Brownie', 'Dog': 'Woofie', 'Canary': 'Tweetie'}}"
      ]
     },
     "execution_count": 2,
     "metadata": {},
     "output_type": "execute_result"
    }
   ],
   "source": [
    "# Answer to problem 2\n",
    "person1 = dict()\n",
    "\n",
    "person1['fName'] = 'Jake'\n",
    "person1['sName'] = 'Trafford'\n",
    "person1['Age'] = 35\n",
    "person1['Address'] = '10, Downing Street'\n",
    "person1['Children'] = ['Angelina', 'Arslan', 'Ahmad']\n",
    "person1['Pets'] = {'Cat': 'Brownie', 'Dog': 'Woofie', 'Canary': 'Tweetie'}\n",
    "\n",
    "person1"
   ]
  },
  {
   "cell_type": "code",
   "execution_count": 3,
   "id": "702f7f63",
   "metadata": {
    "ExecuteTime": {
     "end_time": "2022-07-31T08:17:55.961894Z",
     "start_time": "2022-07-31T08:17:55.950895Z"
    }
   },
   "outputs": [
    {
     "name": "stdout",
     "output_type": "stream",
     "text": [
      "('Cat', 'Brownie')\n",
      "('Dog', 'Woofie')\n",
      "('Canary', 'Tweetie')\n"
     ]
    }
   ],
   "source": [
    "for pets in person1['Pets'].items():\n",
    "    print(pets)"
   ]
  },
  {
   "cell_type": "code",
   "execution_count": 5,
   "id": "8809a114",
   "metadata": {
    "ExecuteTime": {
     "end_time": "2022-07-31T08:20:07.287411Z",
     "start_time": "2022-07-31T08:20:07.264415Z"
    }
   },
   "outputs": [
    {
     "name": "stdout",
     "output_type": "stream",
     "text": [
      "Not found\n",
      "Woofie\n",
      "Not found\n"
     ]
    }
   ],
   "source": [
    "for pets in person1['Pets'].items():\n",
    "    if pets[0] == \"Dog\":\n",
    "        print(pets[1])\n",
    "    else:\n",
    "        print(\"Not found\")"
   ]
  },
  {
   "cell_type": "code",
   "execution_count": 66,
   "id": "aaeca7ce",
   "metadata": {
    "ExecuteTime": {
     "end_time": "2022-07-29T12:51:18.485693Z",
     "start_time": "2022-07-29T12:51:18.456393Z"
    }
   },
   "outputs": [
    {
     "data": {
      "text/plain": [
       "{1: 'Roger', 2: 23, 3: [], 4: 'Harry', 5: 24, 6: []}"
      ]
     },
     "execution_count": 66,
     "metadata": {},
     "output_type": "execute_result"
    }
   ],
   "source": [
    "dict_a = {1: \"Roger\", 2: 23, 3: []}\n",
    "dict_b = {4: \"Harry\", 5: 24, 6: []}\n",
    "\n",
    "dict_a.update(dict_b)\n",
    "dict_a"
   ]
  },
  {
   "cell_type": "code",
   "execution_count": 67,
   "id": "81fc409b",
   "metadata": {
    "ExecuteTime": {
     "end_time": "2022-07-29T12:51:18.533691Z",
     "start_time": "2022-07-29T12:51:18.494696Z"
    }
   },
   "outputs": [
    {
     "ename": "TypeError",
     "evalue": "unsupported operand type(s) for |: 'dict' and 'dict'",
     "output_type": "error",
     "traceback": [
      "\u001b[1;31m---------------------------------------------------------------------------\u001b[0m",
      "\u001b[1;31mTypeError\u001b[0m                                 Traceback (most recent call last)",
      "\u001b[1;32m~\\AppData\\Local\\Temp\\ipykernel_14772\\949487454.py\u001b[0m in \u001b[0;36m<module>\u001b[1;34m\u001b[0m\n\u001b[0;32m      1\u001b[0m \u001b[1;31m# Latest Method (Mainly used in Python 3.9 onwards)\u001b[0m\u001b[1;33m\u001b[0m\u001b[1;33m\u001b[0m\u001b[1;33m\u001b[0m\u001b[0m\n\u001b[1;32m----> 2\u001b[1;33m \u001b[0mdict_new\u001b[0m \u001b[1;33m=\u001b[0m \u001b[0mdict_a\u001b[0m \u001b[1;33m|\u001b[0m \u001b[0mdict_b\u001b[0m\u001b[1;33m\u001b[0m\u001b[1;33m\u001b[0m\u001b[0m\n\u001b[0m\u001b[0;32m      3\u001b[0m \u001b[0mdict_new\u001b[0m\u001b[1;33m\u001b[0m\u001b[1;33m\u001b[0m\u001b[0m\n",
      "\u001b[1;31mTypeError\u001b[0m: unsupported operand type(s) for |: 'dict' and 'dict'"
     ]
    }
   ],
   "source": [
    "# Latest Method (Mainly used in Python 3.9 onwards)\n",
    "dict_new = dict_a | dict_b\n",
    "dict_new"
   ]
  },
  {
   "cell_type": "code",
   "execution_count": 80,
   "id": "0b3a48e1",
   "metadata": {
    "ExecuteTime": {
     "end_time": "2022-07-29T12:51:34.395724Z",
     "start_time": "2022-07-29T12:51:34.370989Z"
    }
   },
   "outputs": [
    {
     "data": {
      "text/plain": [
       "{1: 'Harry', 2: 24, 3: []}"
      ]
     },
     "execution_count": 80,
     "metadata": {},
     "output_type": "execute_result"
    }
   ],
   "source": [
    "dict_a = {1: \"Roger\", 2: 23, 3: []}\n",
    "dict_b = {1: \"Harry\", 2: 24, 3: []}\n",
    "\n",
    "dict_a.update(dict_b)\n",
    "dict_a"
   ]
  },
  {
   "cell_type": "markdown",
   "id": "ad340de8",
   "metadata": {},
   "source": [
    "# Functions"
   ]
  },
  {
   "cell_type": "code",
   "execution_count": 81,
   "id": "b10ddb9e",
   "metadata": {
    "ExecuteTime": {
     "end_time": "2022-07-29T12:51:34.685308Z",
     "start_time": "2022-07-29T12:51:34.670074Z"
    }
   },
   "outputs": [],
   "source": [
    "def do_some_work(input_variable):\n",
    "    print('i am doing some work!')\n",
    "    \n",
    "    return 'done with my work'"
   ]
  },
  {
   "cell_type": "code",
   "execution_count": 82,
   "id": "aff5c65d",
   "metadata": {
    "ExecuteTime": {
     "end_time": "2022-07-29T12:51:34.701309Z",
     "start_time": "2022-07-29T12:51:34.693550Z"
    }
   },
   "outputs": [],
   "source": [
    "def do_some_work2():\n",
    "    print('i am doing some work!')\n"
   ]
  },
  {
   "cell_type": "code",
   "execution_count": 83,
   "id": "e0baef3e",
   "metadata": {
    "ExecuteTime": {
     "end_time": "2022-07-29T12:51:34.732417Z",
     "start_time": "2022-07-29T12:51:34.710313Z"
    }
   },
   "outputs": [
    {
     "name": "stdout",
     "output_type": "stream",
     "text": [
      "i am doing some work!\n"
     ]
    }
   ],
   "source": [
    "do_some_work2()"
   ]
  },
  {
   "cell_type": "code",
   "execution_count": 84,
   "id": "dbdaa24c",
   "metadata": {
    "ExecuteTime": {
     "end_time": "2022-07-29T12:51:34.779199Z",
     "start_time": "2022-07-29T12:51:34.744002Z"
    }
   },
   "outputs": [
    {
     "name": "stdout",
     "output_type": "stream",
     "text": [
      "i am doing some work!\n"
     ]
    },
    {
     "data": {
      "text/plain": [
       "'done with my work'"
      ]
     },
     "execution_count": 84,
     "metadata": {},
     "output_type": "execute_result"
    }
   ],
   "source": [
    "do_some_work(1)"
   ]
  },
  {
   "cell_type": "code",
   "execution_count": 85,
   "id": "8707cc10",
   "metadata": {
    "ExecuteTime": {
     "end_time": "2022-07-29T12:51:34.808976Z",
     "start_time": "2022-07-29T12:51:34.787457Z"
    }
   },
   "outputs": [
    {
     "name": "stdout",
     "output_type": "stream",
     "text": [
      "i am doing some work!\n",
      "returned_value: done with my work\n"
     ]
    }
   ],
   "source": [
    "returned_value = do_some_work(1)\n",
    "print('returned_value:', returned_value)"
   ]
  },
  {
   "cell_type": "code",
   "execution_count": 86,
   "id": "39e758e0",
   "metadata": {
    "ExecuteTime": {
     "end_time": "2022-07-29T12:51:34.840042Z",
     "start_time": "2022-07-29T12:51:34.816978Z"
    }
   },
   "outputs": [],
   "source": [
    "def add_numbers(num1,num2):\n",
    "    return num1 + num2"
   ]
  },
  {
   "cell_type": "code",
   "execution_count": 87,
   "id": "b71ace59",
   "metadata": {
    "ExecuteTime": {
     "end_time": "2022-07-29T12:51:34.870811Z",
     "start_time": "2022-07-29T12:51:34.851285Z"
    }
   },
   "outputs": [
    {
     "data": {
      "text/plain": [
       "11.0"
      ]
     },
     "execution_count": 87,
     "metadata": {},
     "output_type": "execute_result"
    }
   ],
   "source": [
    "add_numbers(7.6,3.4)"
   ]
  },
  {
   "cell_type": "code",
   "execution_count": 88,
   "id": "86e7917e",
   "metadata": {
    "ExecuteTime": {
     "end_time": "2022-07-29T12:51:34.901598Z",
     "start_time": "2022-07-29T12:51:34.881138Z"
    }
   },
   "outputs": [],
   "source": [
    "def age_printer(age,name):\n",
    "    print('My name is {} and my age is {}.'.format(name,age))"
   ]
  },
  {
   "cell_type": "code",
   "execution_count": 89,
   "id": "3e037c2f",
   "metadata": {
    "ExecuteTime": {
     "end_time": "2022-07-29T12:51:34.950123Z",
     "start_time": "2022-07-29T12:51:34.919673Z"
    }
   },
   "outputs": [
    {
     "name": "stdout",
     "output_type": "stream",
     "text": [
      "My name is Ahmed and my age is 27.\n"
     ]
    }
   ],
   "source": [
    "age_printer(27,'Ahmed')"
   ]
  },
  {
   "cell_type": "code",
   "execution_count": 90,
   "id": "40f9e950",
   "metadata": {
    "ExecuteTime": {
     "end_time": "2022-07-29T12:51:34.979565Z",
     "start_time": "2022-07-29T12:51:34.958329Z"
    }
   },
   "outputs": [
    {
     "name": "stdout",
     "output_type": "stream",
     "text": [
      "My name is 27 and my age is Ahmed.\n"
     ]
    }
   ],
   "source": [
    "age_printer('Ahmed', 27) #wrong"
   ]
  },
  {
   "cell_type": "code",
   "execution_count": 91,
   "id": "279e97ed",
   "metadata": {
    "ExecuteTime": {
     "end_time": "2022-07-29T12:51:35.010155Z",
     "start_time": "2022-07-29T12:51:34.986563Z"
    }
   },
   "outputs": [
    {
     "name": "stdout",
     "output_type": "stream",
     "text": [
      "My name is Ahmed and my age is 27.\n"
     ]
    }
   ],
   "source": [
    "age_printer(name='Ahmed', age=27)"
   ]
  },
  {
   "cell_type": "code",
   "execution_count": 92,
   "id": "e9ed7b11",
   "metadata": {
    "ExecuteTime": {
     "end_time": "2022-07-29T12:51:35.057815Z",
     "start_time": "2022-07-29T12:51:35.032892Z"
    }
   },
   "outputs": [
    {
     "ename": "TypeError",
     "evalue": "age_printer() missing 2 required positional arguments: 'age' and 'name'",
     "output_type": "error",
     "traceback": [
      "\u001b[1;31m---------------------------------------------------------------------------\u001b[0m",
      "\u001b[1;31mTypeError\u001b[0m                                 Traceback (most recent call last)",
      "\u001b[1;32m~\\AppData\\Local\\Temp\\ipykernel_14772\\3829620870.py\u001b[0m in \u001b[0;36m<module>\u001b[1;34m\u001b[0m\n\u001b[1;32m----> 1\u001b[1;33m \u001b[0mage_printer\u001b[0m\u001b[1;33m(\u001b[0m\u001b[1;33m)\u001b[0m\u001b[1;33m\u001b[0m\u001b[1;33m\u001b[0m\u001b[0m\n\u001b[0m",
      "\u001b[1;31mTypeError\u001b[0m: age_printer() missing 2 required positional arguments: 'age' and 'name'"
     ]
    }
   ],
   "source": [
    "age_printer()"
   ]
  },
  {
   "cell_type": "code",
   "execution_count": 93,
   "id": "ad9b73d4",
   "metadata": {
    "ExecuteTime": {
     "end_time": "2022-07-29T12:51:51.230006Z",
     "start_time": "2022-07-29T12:51:51.206851Z"
    }
   },
   "outputs": [],
   "source": [
    "def age_printer2(age=0,name=''): #default arguments\n",
    "    print('My name is {} and my age is {}.'.format(name,age))"
   ]
  },
  {
   "cell_type": "code",
   "execution_count": 94,
   "id": "cdef367d",
   "metadata": {
    "ExecuteTime": {
     "end_time": "2022-07-29T12:51:51.260252Z",
     "start_time": "2022-07-29T12:51:51.237250Z"
    }
   },
   "outputs": [
    {
     "name": "stdout",
     "output_type": "stream",
     "text": [
      "My name is  and my age is 0.\n"
     ]
    }
   ],
   "source": [
    "age_printer2()"
   ]
  },
  {
   "cell_type": "code",
   "execution_count": 95,
   "id": "cba1ae00",
   "metadata": {
    "ExecuteTime": {
     "end_time": "2022-07-29T12:51:51.275428Z",
     "start_time": "2022-07-29T12:51:51.266250Z"
    }
   },
   "outputs": [
    {
     "name": "stdout",
     "output_type": "stream",
     "text": [
      "My name is Ahmed and my age is 27.\n"
     ]
    }
   ],
   "source": [
    "age_printer2(27,'Ahmed')"
   ]
  },
  {
   "cell_type": "code",
   "execution_count": 96,
   "id": "df317d21",
   "metadata": {
    "ExecuteTime": {
     "end_time": "2022-07-29T12:51:51.306731Z",
     "start_time": "2022-07-29T12:51:51.286911Z"
    }
   },
   "outputs": [],
   "source": [
    "def print_grocery_list(item_list):   \n",
    "    i = 1\n",
    "    for item in item_list:\n",
    "        print('{}. {}'.format(i,item))\n",
    "        i += 1"
   ]
  },
  {
   "cell_type": "code",
   "execution_count": 97,
   "id": "c930ea97",
   "metadata": {
    "ExecuteTime": {
     "end_time": "2022-07-29T12:51:51.337670Z",
     "start_time": "2022-07-29T12:51:51.316885Z"
    }
   },
   "outputs": [
    {
     "name": "stdout",
     "output_type": "stream",
     "text": [
      "1. bread\n",
      "2. eggs\n",
      "3. beans\n"
     ]
    }
   ],
   "source": [
    "print_grocery_list(['bread', 'eggs', 'beans'])"
   ]
  },
  {
   "cell_type": "code",
   "execution_count": 98,
   "id": "b9a797cf",
   "metadata": {
    "ExecuteTime": {
     "end_time": "2022-07-29T12:59:02.772874Z",
     "start_time": "2022-07-29T12:59:02.761875Z"
    }
   },
   "outputs": [],
   "source": [
    "def multiply_nums(var1,var2,var3):\n",
    "    return var1*var2*var3"
   ]
  },
  {
   "cell_type": "code",
   "execution_count": 101,
   "id": "63b336a4",
   "metadata": {
    "ExecuteTime": {
     "end_time": "2022-07-29T13:00:10.424647Z",
     "start_time": "2022-07-29T13:00:10.391011Z"
    }
   },
   "outputs": [
    {
     "ename": "TypeError",
     "evalue": "multiply_nums() missing 1 required positional argument: 'var3'",
     "output_type": "error",
     "traceback": [
      "\u001b[1;31m---------------------------------------------------------------------------\u001b[0m",
      "\u001b[1;31mTypeError\u001b[0m                                 Traceback (most recent call last)",
      "\u001b[1;32m~\\AppData\\Local\\Temp\\ipykernel_14772\\3870502817.py\u001b[0m in \u001b[0;36m<module>\u001b[1;34m\u001b[0m\n\u001b[1;32m----> 1\u001b[1;33m \u001b[0mmultiply_nums\u001b[0m\u001b[1;33m(\u001b[0m\u001b[1;36m2\u001b[0m\u001b[1;33m,\u001b[0m\u001b[1;36m3\u001b[0m\u001b[1;33m)\u001b[0m\u001b[1;33m\u001b[0m\u001b[1;33m\u001b[0m\u001b[0m\n\u001b[0m",
      "\u001b[1;31mTypeError\u001b[0m: multiply_nums() missing 1 required positional argument: 'var3'"
     ]
    }
   ],
   "source": [
    "multiply_nums(2,3)"
   ]
  },
  {
   "cell_type": "code",
   "execution_count": 102,
   "id": "d83dfbc9",
   "metadata": {
    "ExecuteTime": {
     "end_time": "2022-07-29T13:00:19.592118Z",
     "start_time": "2022-07-29T13:00:19.560126Z"
    }
   },
   "outputs": [
    {
     "ename": "TypeError",
     "evalue": "multiply_nums() takes 3 positional arguments but 4 were given",
     "output_type": "error",
     "traceback": [
      "\u001b[1;31m---------------------------------------------------------------------------\u001b[0m",
      "\u001b[1;31mTypeError\u001b[0m                                 Traceback (most recent call last)",
      "\u001b[1;32m~\\AppData\\Local\\Temp\\ipykernel_14772\\1610543532.py\u001b[0m in \u001b[0;36m<module>\u001b[1;34m\u001b[0m\n\u001b[1;32m----> 1\u001b[1;33m \u001b[0mmultiply_nums\u001b[0m\u001b[1;33m(\u001b[0m\u001b[1;36m2\u001b[0m\u001b[1;33m,\u001b[0m\u001b[1;36m3\u001b[0m\u001b[1;33m,\u001b[0m\u001b[1;36m4\u001b[0m\u001b[1;33m,\u001b[0m\u001b[1;36m5\u001b[0m\u001b[1;33m)\u001b[0m\u001b[1;33m\u001b[0m\u001b[1;33m\u001b[0m\u001b[0m\n\u001b[0m",
      "\u001b[1;31mTypeError\u001b[0m: multiply_nums() takes 3 positional arguments but 4 were given"
     ]
    }
   ],
   "source": [
    "multiply_nums(2,3,4,5)"
   ]
  },
  {
   "cell_type": "code",
   "execution_count": 100,
   "id": "87a52599",
   "metadata": {
    "ExecuteTime": {
     "end_time": "2022-07-29T12:59:51.032602Z",
     "start_time": "2022-07-29T12:59:51.007449Z"
    }
   },
   "outputs": [
    {
     "data": {
      "text/plain": [
       "24"
      ]
     },
     "execution_count": 100,
     "metadata": {},
     "output_type": "execute_result"
    }
   ],
   "source": [
    "multiply_nums(2,3,4)"
   ]
  },
  {
   "cell_type": "markdown",
   "id": "5f16de17",
   "metadata": {},
   "source": [
    "## `*args`"
   ]
  },
  {
   "cell_type": "code",
   "execution_count": 108,
   "id": "373b27de",
   "metadata": {
    "ExecuteTime": {
     "end_time": "2022-07-29T13:06:37.995747Z",
     "start_time": "2022-07-29T13:06:37.980682Z"
    }
   },
   "outputs": [],
   "source": [
    "def multiply_nums_new(*nums):\n",
    "    print(type(nums))\n",
    "    print(nums)\n",
    "    total = 1\n",
    "    for num in nums:\n",
    "        total *= num #total = total * num (1*2) -> total = total * num (2*3)\n",
    "    return total"
   ]
  },
  {
   "cell_type": "code",
   "execution_count": 110,
   "id": "d68a3a14",
   "metadata": {
    "ExecuteTime": {
     "end_time": "2022-07-29T13:08:11.991592Z",
     "start_time": "2022-07-29T13:08:11.968453Z"
    }
   },
   "outputs": [
    {
     "name": "stdout",
     "output_type": "stream",
     "text": [
      "<class 'tuple'>\n",
      "(2, 3)\n"
     ]
    },
    {
     "data": {
      "text/plain": [
       "6"
      ]
     },
     "execution_count": 110,
     "metadata": {},
     "output_type": "execute_result"
    }
   ],
   "source": [
    "multiply_nums_new(2,3)"
   ]
  },
  {
   "cell_type": "code",
   "execution_count": 111,
   "id": "b8cf70f0",
   "metadata": {
    "ExecuteTime": {
     "end_time": "2022-07-29T13:08:22.464678Z",
     "start_time": "2022-07-29T13:08:22.434384Z"
    }
   },
   "outputs": [
    {
     "name": "stdout",
     "output_type": "stream",
     "text": [
      "<class 'tuple'>\n",
      "(2, 3, 4)\n"
     ]
    },
    {
     "data": {
      "text/plain": [
       "24"
      ]
     },
     "execution_count": 111,
     "metadata": {},
     "output_type": "execute_result"
    }
   ],
   "source": [
    "multiply_nums_new(2,3,4)"
   ]
  },
  {
   "cell_type": "code",
   "execution_count": 112,
   "id": "c6d58197",
   "metadata": {
    "ExecuteTime": {
     "end_time": "2022-07-29T13:08:26.696713Z",
     "start_time": "2022-07-29T13:08:26.679438Z"
    }
   },
   "outputs": [
    {
     "name": "stdout",
     "output_type": "stream",
     "text": [
      "<class 'tuple'>\n",
      "(2, 3, 4, 5)\n"
     ]
    },
    {
     "data": {
      "text/plain": [
       "120"
      ]
     },
     "execution_count": 112,
     "metadata": {},
     "output_type": "execute_result"
    }
   ],
   "source": [
    "multiply_nums_new(2,3,4,5)"
   ]
  },
  {
   "cell_type": "code",
   "execution_count": 113,
   "id": "dce5ff30",
   "metadata": {
    "ExecuteTime": {
     "end_time": "2022-07-29T13:11:35.612424Z",
     "start_time": "2022-07-29T13:11:35.588542Z"
    }
   },
   "outputs": [
    {
     "name": "stdout",
     "output_type": "stream",
     "text": [
      "<class 'tuple'>\n",
      "(2, 3, 4, 5, 1.0)\n"
     ]
    },
    {
     "data": {
      "text/plain": [
       "120.0"
      ]
     },
     "execution_count": 113,
     "metadata": {},
     "output_type": "execute_result"
    }
   ],
   "source": [
    "multiply_nums_new(2,3,4,5,1.0)"
   ]
  },
  {
   "cell_type": "markdown",
   "id": "1efc0350",
   "metadata": {},
   "source": [
    "## `**kwargs`"
   ]
  },
  {
   "cell_type": "code",
   "execution_count": null,
   "id": "92c34c78",
   "metadata": {},
   "outputs": [],
   "source": [
    "# key : value (dictionary)\n",
    "# similar to that"
   ]
  },
  {
   "cell_type": "code",
   "execution_count": 120,
   "id": "c3e31ecd",
   "metadata": {
    "ExecuteTime": {
     "end_time": "2022-07-29T13:23:06.797319Z",
     "start_time": "2022-07-29T13:23:06.771774Z"
    }
   },
   "outputs": [],
   "source": [
    "def multiply_nums_kw(**nums):\n",
    "    print(type(nums))\n",
    "    print(nums)\n",
    "    total = 1\n",
    "    for key in nums.keys():\n",
    "        total *= nums[key] # nums['val1'] -> 2, nums['val2'] -> 3, nums['val3'] -> 4,\n",
    "    return total\n",
    "    "
   ]
  },
  {
   "cell_type": "code",
   "execution_count": 121,
   "id": "a69a3d70",
   "metadata": {
    "ExecuteTime": {
     "end_time": "2022-07-29T13:23:07.356239Z",
     "start_time": "2022-07-29T13:23:07.329307Z"
    }
   },
   "outputs": [
    {
     "name": "stdout",
     "output_type": "stream",
     "text": [
      "<class 'dict'>\n",
      "{'val1': 2, 'val2': 3, 'val3': 4}\n"
     ]
    },
    {
     "data": {
      "text/plain": [
       "24"
      ]
     },
     "execution_count": 121,
     "metadata": {},
     "output_type": "execute_result"
    }
   ],
   "source": [
    "multiply_nums_kw(val1 = 2, val2 = 3, val3 = 4)"
   ]
  },
  {
   "cell_type": "code",
   "execution_count": 117,
   "id": "eb87bf61",
   "metadata": {
    "ExecuteTime": {
     "end_time": "2022-07-29T13:20:45.916058Z",
     "start_time": "2022-07-29T13:20:45.890323Z"
    }
   },
   "outputs": [
    {
     "data": {
      "text/plain": [
       "dict_keys(['val1', 'val2', 'val3'])"
      ]
     },
     "execution_count": 117,
     "metadata": {},
     "output_type": "execute_result"
    }
   ],
   "source": [
    "{'val1': 2, 'val2': 3, 'val3': 4}.keys()"
   ]
  },
  {
   "cell_type": "code",
   "execution_count": 118,
   "id": "dd3dbefc",
   "metadata": {
    "ExecuteTime": {
     "end_time": "2022-07-29T13:21:20.791183Z",
     "start_time": "2022-07-29T13:21:20.765163Z"
    }
   },
   "outputs": [
    {
     "data": {
      "text/plain": [
       "dict_values([2, 3, 4])"
      ]
     },
     "execution_count": 118,
     "metadata": {},
     "output_type": "execute_result"
    }
   ],
   "source": [
    "{'val1': 2, 'val2': 3, 'val3': 4}.values()"
   ]
  },
  {
   "cell_type": "code",
   "execution_count": 119,
   "id": "7ea57df4",
   "metadata": {
    "ExecuteTime": {
     "end_time": "2022-07-29T13:21:30.604264Z",
     "start_time": "2022-07-29T13:21:30.584265Z"
    }
   },
   "outputs": [
    {
     "data": {
      "text/plain": [
       "dict_items([('val1', 2), ('val2', 3), ('val3', 4)])"
      ]
     },
     "execution_count": 119,
     "metadata": {},
     "output_type": "execute_result"
    }
   ],
   "source": [
    "{'val1': 2, 'val2': 3, 'val3': 4}.items()"
   ]
  },
  {
   "cell_type": "code",
   "execution_count": 122,
   "id": "0db595e2",
   "metadata": {
    "ExecuteTime": {
     "end_time": "2022-07-29T14:08:26.909869Z",
     "start_time": "2022-07-29T14:08:26.883865Z"
    }
   },
   "outputs": [
    {
     "name": "stdout",
     "output_type": "stream",
     "text": [
      "wELCOME TO dATA sHAYTA!\n"
     ]
    }
   ],
   "source": [
    "str1 = \"Welcome to Data Shayta!\"\n",
    "print(str1.swapcase())"
   ]
  },
  {
   "cell_type": "code",
   "execution_count": 130,
   "id": "3318f709",
   "metadata": {
    "ExecuteTime": {
     "end_time": "2022-07-29T14:15:39.354565Z",
     "start_time": "2022-07-29T14:15:39.330566Z"
    }
   },
   "outputs": [
    {
     "name": "stdout",
     "output_type": "stream",
     "text": [
      "🐕\n",
      "🐈\n",
      "🐎\n",
      "⌣\n",
      "🌹\n",
      "😆\n"
     ]
    }
   ],
   "source": [
    "print(\"\\N{dog}\")\n",
    "print(\"\\N{cat}\")\n",
    "print(\"\\N{horse}\")\n",
    "print(\"\\N{smile}\")\n",
    "print(\"\\N{rose}\")\n",
    "print(\"\\U0001F606\")"
   ]
  },
  {
   "cell_type": "code",
   "execution_count": null,
   "id": "5c9b65d5",
   "metadata": {},
   "outputs": [],
   "source": []
  }
 ],
 "metadata": {
  "kernelspec": {
   "display_name": "Python 3 (ipykernel)",
   "language": "python",
   "name": "python3"
  },
  "language_info": {
   "codemirror_mode": {
    "name": "ipython",
    "version": 3
   },
   "file_extension": ".py",
   "mimetype": "text/x-python",
   "name": "python",
   "nbconvert_exporter": "python",
   "pygments_lexer": "ipython3",
   "version": "3.7.10"
  },
  "toc": {
   "base_numbering": 1,
   "nav_menu": {},
   "number_sections": true,
   "sideBar": true,
   "skip_h1_title": false,
   "title_cell": "Table of Contents",
   "title_sidebar": "Contents",
   "toc_cell": false,
   "toc_position": {},
   "toc_section_display": true,
   "toc_window_display": false
  },
  "varInspector": {
   "cols": {
    "lenName": 16,
    "lenType": 16,
    "lenVar": 40
   },
   "kernels_config": {
    "python": {
     "delete_cmd_postfix": "",
     "delete_cmd_prefix": "del ",
     "library": "var_list.py",
     "varRefreshCmd": "print(var_dic_list())"
    },
    "r": {
     "delete_cmd_postfix": ") ",
     "delete_cmd_prefix": "rm(",
     "library": "var_list.r",
     "varRefreshCmd": "cat(var_dic_list()) "
    }
   },
   "types_to_exclude": [
    "module",
    "function",
    "builtin_function_or_method",
    "instance",
    "_Feature"
   ],
   "window_display": false
  }
 },
 "nbformat": 4,
 "nbformat_minor": 5
}
